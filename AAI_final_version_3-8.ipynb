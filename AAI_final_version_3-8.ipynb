{
 "cells": [
  {
   "cell_type": "markdown",
   "metadata": {
    "id": "syjwxHMfKWb6"
   },
   "source": [
    "# Applied AI Assignment 2"
   ]
  },
  {
   "cell_type": "markdown",
   "metadata": {
    "id": "HLQnavChKn2l"
   },
   "source": [
    "<a id=\"ch2\"></a>\n",
    "## Dataset\n",
    "<hr/>\n",
    "\n",
    "* This dataset contains house sale prices for King County, which includes Seattle. \n",
    "* It includes homes sold between May 2014 and May 2015.\n",
    "* 21 columns. (features)\n",
    "* 21597 rows.\n",
    "\n",
    "***Feature Columns***\n",
    "    \n",
    "* **id:** Unique ID for each home sold\n",
    "* **date:** Date of the home sale\n",
    "* **price:** Price of each home sold\n",
    "* **bedrooms:** Number of bedrooms\n",
    "* **bathrooms:** Number of bathrooms, where .5 accounts for a room with a toilet but no shower\n",
    "* **sqft_living:** Square footage of the apartments interior living space\n",
    "* **sqft_lot:** Square footage of the land space\n",
    "* **floors:** Number of floors\n",
    "* **waterfront:** - A dummy variable for whether the apartment was overlooking the waterfront or not\n",
    "* **view:** An index from 0 to 4 of how good the view of the property was\n",
    "* **condition:** - An index from 1 to 5 on the condition of the apartment,\n",
    "* **grade:** An index from 1 to 13, where 1-3 falls short of building construction and design, 7 has an average level of construction and design, and 11-13 have a high quality level of construction and design.\n",
    "* **sqft_above:** The square footage of the interior housing space that is above ground level\n",
    "* **sqft_basement:** The square footage of the interior housing space that is below ground level\n",
    "* **yr_built:** The year the house was initially built\n",
    "* **yr_renovated:** The year of the house’s last renovation\n",
    "* **zipcode:** What zipcode area the house is in\n",
    "* **lat:** Lattitude\n",
    "* **long:** Longitude\n",
    "* **sqft_living15:** The square footage of interior housing living space for the nearest 15 neighbors\n",
    "* **sqft_lot15:** The square footage of the land lots of the nearest 15 neighbors"
   ]
  },
  {
   "cell_type": "markdown",
   "metadata": {
    "id": "1YV9vCrkhoQY"
   },
   "source": [
    "## Checking which GPU is in use"
   ]
  },
  {
   "cell_type": "code",
   "execution_count": 1,
   "metadata": {
    "colab": {
     "base_uri": "https://localhost:8080/"
    },
    "id": "-Yq584tChty1",
    "outputId": "36d8bcd1-759e-4162-b1aa-4698f542c4f3"
   },
   "outputs": [
    {
     "name": "stdout",
     "output_type": "stream",
     "text": [
      "GPU 0: Tesla K80 (UUID: GPU-0410ccc5-3995-76b2-dbd6-a1f8980db4b9)\n"
     ]
    }
   ],
   "source": [
    "!nvidia-smi -L"
   ]
  },
  {
   "cell_type": "markdown",
   "metadata": {
    "id": "fAyI0KsjK3Iq"
   },
   "source": [
    "## Importing the necessary libraries"
   ]
  },
  {
   "cell_type": "code",
   "execution_count": 3,
   "metadata": {
    "id": "tul0SSWDK8yE"
   },
   "outputs": [
    {
     "name": "stdout",
     "output_type": "stream",
     "text": [
      "Init Plugin\n",
      "Init Graph Optimizer\n",
      "Init Kernel\n"
     ]
    }
   ],
   "source": [
    "import pandas as pd\n",
    "import numpy as np\n",
    "import matplotlib.pyplot as plt\n",
    "import seaborn as sns\n",
    "import tensorflow as tf\n",
    "import keras\n",
    "from sklearn.model_selection import train_test_split\n",
    "from sklearn.preprocessing import StandardScaler\n",
    "from sklearn.model_selection import RandomizedSearchCV"
   ]
  },
  {
   "cell_type": "markdown",
   "metadata": {
    "id": "E8ksngeELIry"
   },
   "source": [
    "## Loading the dataset"
   ]
  },
  {
   "cell_type": "code",
   "execution_count": 4,
   "metadata": {
    "colab": {
     "base_uri": "https://localhost:8080/",
     "height": 297
    },
    "id": "8qIGVKooLMDn",
    "outputId": "f8dabce2-da35-48f3-da8d-d04127b9a8fa"
   },
   "outputs": [
    {
     "data": {
      "text/html": [
       "<div>\n",
       "<style scoped>\n",
       "    .dataframe tbody tr th:only-of-type {\n",
       "        vertical-align: middle;\n",
       "    }\n",
       "\n",
       "    .dataframe tbody tr th {\n",
       "        vertical-align: top;\n",
       "    }\n",
       "\n",
       "    .dataframe thead th {\n",
       "        text-align: right;\n",
       "    }\n",
       "</style>\n",
       "<table border=\"1\" class=\"dataframe\">\n",
       "  <thead>\n",
       "    <tr style=\"text-align: right;\">\n",
       "      <th></th>\n",
       "      <th>id</th>\n",
       "      <th>date</th>\n",
       "      <th>price</th>\n",
       "      <th>bedrooms</th>\n",
       "      <th>bathrooms</th>\n",
       "      <th>sqft_living</th>\n",
       "      <th>sqft_lot</th>\n",
       "      <th>floors</th>\n",
       "      <th>waterfront</th>\n",
       "      <th>view</th>\n",
       "      <th>...</th>\n",
       "      <th>grade</th>\n",
       "      <th>sqft_above</th>\n",
       "      <th>sqft_basement</th>\n",
       "      <th>yr_built</th>\n",
       "      <th>yr_renovated</th>\n",
       "      <th>zipcode</th>\n",
       "      <th>lat</th>\n",
       "      <th>long</th>\n",
       "      <th>sqft_living15</th>\n",
       "      <th>sqft_lot15</th>\n",
       "    </tr>\n",
       "  </thead>\n",
       "  <tbody>\n",
       "    <tr>\n",
       "      <th>0</th>\n",
       "      <td>7129300520</td>\n",
       "      <td>20141013T000000</td>\n",
       "      <td>221900.0</td>\n",
       "      <td>3</td>\n",
       "      <td>1.00</td>\n",
       "      <td>1180</td>\n",
       "      <td>5650</td>\n",
       "      <td>1.0</td>\n",
       "      <td>0</td>\n",
       "      <td>0</td>\n",
       "      <td>...</td>\n",
       "      <td>7</td>\n",
       "      <td>1180</td>\n",
       "      <td>0</td>\n",
       "      <td>1955</td>\n",
       "      <td>0</td>\n",
       "      <td>98178</td>\n",
       "      <td>47.5112</td>\n",
       "      <td>-122.257</td>\n",
       "      <td>1340</td>\n",
       "      <td>5650</td>\n",
       "    </tr>\n",
       "    <tr>\n",
       "      <th>1</th>\n",
       "      <td>6414100192</td>\n",
       "      <td>20141209T000000</td>\n",
       "      <td>538000.0</td>\n",
       "      <td>3</td>\n",
       "      <td>2.25</td>\n",
       "      <td>2570</td>\n",
       "      <td>7242</td>\n",
       "      <td>2.0</td>\n",
       "      <td>0</td>\n",
       "      <td>0</td>\n",
       "      <td>...</td>\n",
       "      <td>7</td>\n",
       "      <td>2170</td>\n",
       "      <td>400</td>\n",
       "      <td>1951</td>\n",
       "      <td>1991</td>\n",
       "      <td>98125</td>\n",
       "      <td>47.7210</td>\n",
       "      <td>-122.319</td>\n",
       "      <td>1690</td>\n",
       "      <td>7639</td>\n",
       "    </tr>\n",
       "    <tr>\n",
       "      <th>2</th>\n",
       "      <td>5631500400</td>\n",
       "      <td>20150225T000000</td>\n",
       "      <td>180000.0</td>\n",
       "      <td>2</td>\n",
       "      <td>1.00</td>\n",
       "      <td>770</td>\n",
       "      <td>10000</td>\n",
       "      <td>1.0</td>\n",
       "      <td>0</td>\n",
       "      <td>0</td>\n",
       "      <td>...</td>\n",
       "      <td>6</td>\n",
       "      <td>770</td>\n",
       "      <td>0</td>\n",
       "      <td>1933</td>\n",
       "      <td>0</td>\n",
       "      <td>98028</td>\n",
       "      <td>47.7379</td>\n",
       "      <td>-122.233</td>\n",
       "      <td>2720</td>\n",
       "      <td>8062</td>\n",
       "    </tr>\n",
       "    <tr>\n",
       "      <th>3</th>\n",
       "      <td>2487200875</td>\n",
       "      <td>20141209T000000</td>\n",
       "      <td>604000.0</td>\n",
       "      <td>4</td>\n",
       "      <td>3.00</td>\n",
       "      <td>1960</td>\n",
       "      <td>5000</td>\n",
       "      <td>1.0</td>\n",
       "      <td>0</td>\n",
       "      <td>0</td>\n",
       "      <td>...</td>\n",
       "      <td>7</td>\n",
       "      <td>1050</td>\n",
       "      <td>910</td>\n",
       "      <td>1965</td>\n",
       "      <td>0</td>\n",
       "      <td>98136</td>\n",
       "      <td>47.5208</td>\n",
       "      <td>-122.393</td>\n",
       "      <td>1360</td>\n",
       "      <td>5000</td>\n",
       "    </tr>\n",
       "    <tr>\n",
       "      <th>4</th>\n",
       "      <td>1954400510</td>\n",
       "      <td>20150218T000000</td>\n",
       "      <td>510000.0</td>\n",
       "      <td>3</td>\n",
       "      <td>2.00</td>\n",
       "      <td>1680</td>\n",
       "      <td>8080</td>\n",
       "      <td>1.0</td>\n",
       "      <td>0</td>\n",
       "      <td>0</td>\n",
       "      <td>...</td>\n",
       "      <td>8</td>\n",
       "      <td>1680</td>\n",
       "      <td>0</td>\n",
       "      <td>1987</td>\n",
       "      <td>0</td>\n",
       "      <td>98074</td>\n",
       "      <td>47.6168</td>\n",
       "      <td>-122.045</td>\n",
       "      <td>1800</td>\n",
       "      <td>7503</td>\n",
       "    </tr>\n",
       "  </tbody>\n",
       "</table>\n",
       "<p>5 rows × 21 columns</p>\n",
       "</div>"
      ],
      "text/plain": [
       "           id             date     price  bedrooms  bathrooms  sqft_living  \\\n",
       "0  7129300520  20141013T000000  221900.0         3       1.00         1180   \n",
       "1  6414100192  20141209T000000  538000.0         3       2.25         2570   \n",
       "2  5631500400  20150225T000000  180000.0         2       1.00          770   \n",
       "3  2487200875  20141209T000000  604000.0         4       3.00         1960   \n",
       "4  1954400510  20150218T000000  510000.0         3       2.00         1680   \n",
       "\n",
       "   sqft_lot  floors  waterfront  view  ...  grade  sqft_above  sqft_basement  \\\n",
       "0      5650     1.0           0     0  ...      7        1180              0   \n",
       "1      7242     2.0           0     0  ...      7        2170            400   \n",
       "2     10000     1.0           0     0  ...      6         770              0   \n",
       "3      5000     1.0           0     0  ...      7        1050            910   \n",
       "4      8080     1.0           0     0  ...      8        1680              0   \n",
       "\n",
       "   yr_built  yr_renovated  zipcode      lat     long  sqft_living15  \\\n",
       "0      1955             0    98178  47.5112 -122.257           1340   \n",
       "1      1951          1991    98125  47.7210 -122.319           1690   \n",
       "2      1933             0    98028  47.7379 -122.233           2720   \n",
       "3      1965             0    98136  47.5208 -122.393           1360   \n",
       "4      1987             0    98074  47.6168 -122.045           1800   \n",
       "\n",
       "   sqft_lot15  \n",
       "0        5650  \n",
       "1        7639  \n",
       "2        8062  \n",
       "3        5000  \n",
       "4        7503  \n",
       "\n",
       "[5 rows x 21 columns]"
      ]
     },
     "execution_count": 4,
     "metadata": {},
     "output_type": "execute_result"
    }
   ],
   "source": [
    "# Loading the data\n",
    "df = pd.read_csv(r'./kc_house_data.csv')\n",
    "data = df\n",
    "data.head()"
   ]
  },
  {
   "cell_type": "markdown",
   "metadata": {
    "id": "3BTi395kLOnR"
   },
   "source": [
    "## Data Exploration"
   ]
  },
  {
   "cell_type": "code",
   "execution_count": 5,
   "metadata": {
    "colab": {
     "base_uri": "https://localhost:8080/"
    },
    "id": "_HJrSrCnLrvZ",
    "outputId": "1f64f4ae-d18f-431a-9ff2-5416b0361661"
   },
   "outputs": [
    {
     "name": "stdout",
     "output_type": "stream",
     "text": [
      "<class 'pandas.core.frame.DataFrame'>\n",
      "RangeIndex: 21613 entries, 0 to 21612\n",
      "Data columns (total 21 columns):\n",
      " #   Column         Non-Null Count  Dtype  \n",
      "---  ------         --------------  -----  \n",
      " 0   id             21613 non-null  int64  \n",
      " 1   date           21613 non-null  object \n",
      " 2   price          21613 non-null  float64\n",
      " 3   bedrooms       21613 non-null  int64  \n",
      " 4   bathrooms      21613 non-null  float64\n",
      " 5   sqft_living    21613 non-null  int64  \n",
      " 6   sqft_lot       21613 non-null  int64  \n",
      " 7   floors         21613 non-null  float64\n",
      " 8   waterfront     21613 non-null  int64  \n",
      " 9   view           21613 non-null  int64  \n",
      " 10  condition      21613 non-null  int64  \n",
      " 11  grade          21613 non-null  int64  \n",
      " 12  sqft_above     21613 non-null  int64  \n",
      " 13  sqft_basement  21613 non-null  int64  \n",
      " 14  yr_built       21613 non-null  int64  \n",
      " 15  yr_renovated   21613 non-null  int64  \n",
      " 16  zipcode        21613 non-null  int64  \n",
      " 17  lat            21613 non-null  float64\n",
      " 18  long           21613 non-null  float64\n",
      " 19  sqft_living15  21613 non-null  int64  \n",
      " 20  sqft_lot15     21613 non-null  int64  \n",
      "dtypes: float64(5), int64(15), object(1)\n",
      "memory usage: 3.5+ MB\n"
     ]
    }
   ],
   "source": [
    "data.info()"
   ]
  },
  {
   "cell_type": "code",
   "execution_count": 6,
   "metadata": {
    "colab": {
     "base_uri": "https://localhost:8080/",
     "height": 669
    },
    "id": "E_CHJCSJLtLY",
    "outputId": "3f9923bf-07c4-4d14-b307-7e9639da3ee6"
   },
   "outputs": [
    {
     "data": {
      "text/html": [
       "<div>\n",
       "<style scoped>\n",
       "    .dataframe tbody tr th:only-of-type {\n",
       "        vertical-align: middle;\n",
       "    }\n",
       "\n",
       "    .dataframe tbody tr th {\n",
       "        vertical-align: top;\n",
       "    }\n",
       "\n",
       "    .dataframe thead th {\n",
       "        text-align: right;\n",
       "    }\n",
       "</style>\n",
       "<table border=\"1\" class=\"dataframe\">\n",
       "  <thead>\n",
       "    <tr style=\"text-align: right;\">\n",
       "      <th></th>\n",
       "      <th>count</th>\n",
       "      <th>mean</th>\n",
       "      <th>std</th>\n",
       "      <th>min</th>\n",
       "      <th>25%</th>\n",
       "      <th>50%</th>\n",
       "      <th>75%</th>\n",
       "      <th>max</th>\n",
       "    </tr>\n",
       "  </thead>\n",
       "  <tbody>\n",
       "    <tr>\n",
       "      <th>id</th>\n",
       "      <td>21613.0</td>\n",
       "      <td>4.580302e+09</td>\n",
       "      <td>2.876566e+09</td>\n",
       "      <td>1.000102e+06</td>\n",
       "      <td>2.123049e+09</td>\n",
       "      <td>3.904930e+09</td>\n",
       "      <td>7.308900e+09</td>\n",
       "      <td>9.900000e+09</td>\n",
       "    </tr>\n",
       "    <tr>\n",
       "      <th>price</th>\n",
       "      <td>21613.0</td>\n",
       "      <td>5.400881e+05</td>\n",
       "      <td>3.671272e+05</td>\n",
       "      <td>7.500000e+04</td>\n",
       "      <td>3.219500e+05</td>\n",
       "      <td>4.500000e+05</td>\n",
       "      <td>6.450000e+05</td>\n",
       "      <td>7.700000e+06</td>\n",
       "    </tr>\n",
       "    <tr>\n",
       "      <th>bedrooms</th>\n",
       "      <td>21613.0</td>\n",
       "      <td>3.370842e+00</td>\n",
       "      <td>9.300618e-01</td>\n",
       "      <td>0.000000e+00</td>\n",
       "      <td>3.000000e+00</td>\n",
       "      <td>3.000000e+00</td>\n",
       "      <td>4.000000e+00</td>\n",
       "      <td>3.300000e+01</td>\n",
       "    </tr>\n",
       "    <tr>\n",
       "      <th>bathrooms</th>\n",
       "      <td>21613.0</td>\n",
       "      <td>2.114757e+00</td>\n",
       "      <td>7.701632e-01</td>\n",
       "      <td>0.000000e+00</td>\n",
       "      <td>1.750000e+00</td>\n",
       "      <td>2.250000e+00</td>\n",
       "      <td>2.500000e+00</td>\n",
       "      <td>8.000000e+00</td>\n",
       "    </tr>\n",
       "    <tr>\n",
       "      <th>sqft_living</th>\n",
       "      <td>21613.0</td>\n",
       "      <td>2.079900e+03</td>\n",
       "      <td>9.184409e+02</td>\n",
       "      <td>2.900000e+02</td>\n",
       "      <td>1.427000e+03</td>\n",
       "      <td>1.910000e+03</td>\n",
       "      <td>2.550000e+03</td>\n",
       "      <td>1.354000e+04</td>\n",
       "    </tr>\n",
       "    <tr>\n",
       "      <th>sqft_lot</th>\n",
       "      <td>21613.0</td>\n",
       "      <td>1.510697e+04</td>\n",
       "      <td>4.142051e+04</td>\n",
       "      <td>5.200000e+02</td>\n",
       "      <td>5.040000e+03</td>\n",
       "      <td>7.618000e+03</td>\n",
       "      <td>1.068800e+04</td>\n",
       "      <td>1.651359e+06</td>\n",
       "    </tr>\n",
       "    <tr>\n",
       "      <th>floors</th>\n",
       "      <td>21613.0</td>\n",
       "      <td>1.494309e+00</td>\n",
       "      <td>5.399889e-01</td>\n",
       "      <td>1.000000e+00</td>\n",
       "      <td>1.000000e+00</td>\n",
       "      <td>1.500000e+00</td>\n",
       "      <td>2.000000e+00</td>\n",
       "      <td>3.500000e+00</td>\n",
       "    </tr>\n",
       "    <tr>\n",
       "      <th>waterfront</th>\n",
       "      <td>21613.0</td>\n",
       "      <td>7.541757e-03</td>\n",
       "      <td>8.651720e-02</td>\n",
       "      <td>0.000000e+00</td>\n",
       "      <td>0.000000e+00</td>\n",
       "      <td>0.000000e+00</td>\n",
       "      <td>0.000000e+00</td>\n",
       "      <td>1.000000e+00</td>\n",
       "    </tr>\n",
       "    <tr>\n",
       "      <th>view</th>\n",
       "      <td>21613.0</td>\n",
       "      <td>2.343034e-01</td>\n",
       "      <td>7.663176e-01</td>\n",
       "      <td>0.000000e+00</td>\n",
       "      <td>0.000000e+00</td>\n",
       "      <td>0.000000e+00</td>\n",
       "      <td>0.000000e+00</td>\n",
       "      <td>4.000000e+00</td>\n",
       "    </tr>\n",
       "    <tr>\n",
       "      <th>condition</th>\n",
       "      <td>21613.0</td>\n",
       "      <td>3.409430e+00</td>\n",
       "      <td>6.507430e-01</td>\n",
       "      <td>1.000000e+00</td>\n",
       "      <td>3.000000e+00</td>\n",
       "      <td>3.000000e+00</td>\n",
       "      <td>4.000000e+00</td>\n",
       "      <td>5.000000e+00</td>\n",
       "    </tr>\n",
       "    <tr>\n",
       "      <th>grade</th>\n",
       "      <td>21613.0</td>\n",
       "      <td>7.656873e+00</td>\n",
       "      <td>1.175459e+00</td>\n",
       "      <td>1.000000e+00</td>\n",
       "      <td>7.000000e+00</td>\n",
       "      <td>7.000000e+00</td>\n",
       "      <td>8.000000e+00</td>\n",
       "      <td>1.300000e+01</td>\n",
       "    </tr>\n",
       "    <tr>\n",
       "      <th>sqft_above</th>\n",
       "      <td>21613.0</td>\n",
       "      <td>1.788391e+03</td>\n",
       "      <td>8.280910e+02</td>\n",
       "      <td>2.900000e+02</td>\n",
       "      <td>1.190000e+03</td>\n",
       "      <td>1.560000e+03</td>\n",
       "      <td>2.210000e+03</td>\n",
       "      <td>9.410000e+03</td>\n",
       "    </tr>\n",
       "    <tr>\n",
       "      <th>sqft_basement</th>\n",
       "      <td>21613.0</td>\n",
       "      <td>2.915090e+02</td>\n",
       "      <td>4.425750e+02</td>\n",
       "      <td>0.000000e+00</td>\n",
       "      <td>0.000000e+00</td>\n",
       "      <td>0.000000e+00</td>\n",
       "      <td>5.600000e+02</td>\n",
       "      <td>4.820000e+03</td>\n",
       "    </tr>\n",
       "    <tr>\n",
       "      <th>yr_built</th>\n",
       "      <td>21613.0</td>\n",
       "      <td>1.971005e+03</td>\n",
       "      <td>2.937341e+01</td>\n",
       "      <td>1.900000e+03</td>\n",
       "      <td>1.951000e+03</td>\n",
       "      <td>1.975000e+03</td>\n",
       "      <td>1.997000e+03</td>\n",
       "      <td>2.015000e+03</td>\n",
       "    </tr>\n",
       "    <tr>\n",
       "      <th>yr_renovated</th>\n",
       "      <td>21613.0</td>\n",
       "      <td>8.440226e+01</td>\n",
       "      <td>4.016792e+02</td>\n",
       "      <td>0.000000e+00</td>\n",
       "      <td>0.000000e+00</td>\n",
       "      <td>0.000000e+00</td>\n",
       "      <td>0.000000e+00</td>\n",
       "      <td>2.015000e+03</td>\n",
       "    </tr>\n",
       "    <tr>\n",
       "      <th>zipcode</th>\n",
       "      <td>21613.0</td>\n",
       "      <td>9.807794e+04</td>\n",
       "      <td>5.350503e+01</td>\n",
       "      <td>9.800100e+04</td>\n",
       "      <td>9.803300e+04</td>\n",
       "      <td>9.806500e+04</td>\n",
       "      <td>9.811800e+04</td>\n",
       "      <td>9.819900e+04</td>\n",
       "    </tr>\n",
       "    <tr>\n",
       "      <th>lat</th>\n",
       "      <td>21613.0</td>\n",
       "      <td>4.756005e+01</td>\n",
       "      <td>1.385637e-01</td>\n",
       "      <td>4.715590e+01</td>\n",
       "      <td>4.747100e+01</td>\n",
       "      <td>4.757180e+01</td>\n",
       "      <td>4.767800e+01</td>\n",
       "      <td>4.777760e+01</td>\n",
       "    </tr>\n",
       "    <tr>\n",
       "      <th>long</th>\n",
       "      <td>21613.0</td>\n",
       "      <td>-1.222139e+02</td>\n",
       "      <td>1.408283e-01</td>\n",
       "      <td>-1.225190e+02</td>\n",
       "      <td>-1.223280e+02</td>\n",
       "      <td>-1.222300e+02</td>\n",
       "      <td>-1.221250e+02</td>\n",
       "      <td>-1.213150e+02</td>\n",
       "    </tr>\n",
       "    <tr>\n",
       "      <th>sqft_living15</th>\n",
       "      <td>21613.0</td>\n",
       "      <td>1.986552e+03</td>\n",
       "      <td>6.853913e+02</td>\n",
       "      <td>3.990000e+02</td>\n",
       "      <td>1.490000e+03</td>\n",
       "      <td>1.840000e+03</td>\n",
       "      <td>2.360000e+03</td>\n",
       "      <td>6.210000e+03</td>\n",
       "    </tr>\n",
       "    <tr>\n",
       "      <th>sqft_lot15</th>\n",
       "      <td>21613.0</td>\n",
       "      <td>1.276846e+04</td>\n",
       "      <td>2.730418e+04</td>\n",
       "      <td>6.510000e+02</td>\n",
       "      <td>5.100000e+03</td>\n",
       "      <td>7.620000e+03</td>\n",
       "      <td>1.008300e+04</td>\n",
       "      <td>8.712000e+05</td>\n",
       "    </tr>\n",
       "  </tbody>\n",
       "</table>\n",
       "</div>"
      ],
      "text/plain": [
       "                 count          mean           std           min  \\\n",
       "id             21613.0  4.580302e+09  2.876566e+09  1.000102e+06   \n",
       "price          21613.0  5.400881e+05  3.671272e+05  7.500000e+04   \n",
       "bedrooms       21613.0  3.370842e+00  9.300618e-01  0.000000e+00   \n",
       "bathrooms      21613.0  2.114757e+00  7.701632e-01  0.000000e+00   \n",
       "sqft_living    21613.0  2.079900e+03  9.184409e+02  2.900000e+02   \n",
       "sqft_lot       21613.0  1.510697e+04  4.142051e+04  5.200000e+02   \n",
       "floors         21613.0  1.494309e+00  5.399889e-01  1.000000e+00   \n",
       "waterfront     21613.0  7.541757e-03  8.651720e-02  0.000000e+00   \n",
       "view           21613.0  2.343034e-01  7.663176e-01  0.000000e+00   \n",
       "condition      21613.0  3.409430e+00  6.507430e-01  1.000000e+00   \n",
       "grade          21613.0  7.656873e+00  1.175459e+00  1.000000e+00   \n",
       "sqft_above     21613.0  1.788391e+03  8.280910e+02  2.900000e+02   \n",
       "sqft_basement  21613.0  2.915090e+02  4.425750e+02  0.000000e+00   \n",
       "yr_built       21613.0  1.971005e+03  2.937341e+01  1.900000e+03   \n",
       "yr_renovated   21613.0  8.440226e+01  4.016792e+02  0.000000e+00   \n",
       "zipcode        21613.0  9.807794e+04  5.350503e+01  9.800100e+04   \n",
       "lat            21613.0  4.756005e+01  1.385637e-01  4.715590e+01   \n",
       "long           21613.0 -1.222139e+02  1.408283e-01 -1.225190e+02   \n",
       "sqft_living15  21613.0  1.986552e+03  6.853913e+02  3.990000e+02   \n",
       "sqft_lot15     21613.0  1.276846e+04  2.730418e+04  6.510000e+02   \n",
       "\n",
       "                        25%           50%           75%           max  \n",
       "id             2.123049e+09  3.904930e+09  7.308900e+09  9.900000e+09  \n",
       "price          3.219500e+05  4.500000e+05  6.450000e+05  7.700000e+06  \n",
       "bedrooms       3.000000e+00  3.000000e+00  4.000000e+00  3.300000e+01  \n",
       "bathrooms      1.750000e+00  2.250000e+00  2.500000e+00  8.000000e+00  \n",
       "sqft_living    1.427000e+03  1.910000e+03  2.550000e+03  1.354000e+04  \n",
       "sqft_lot       5.040000e+03  7.618000e+03  1.068800e+04  1.651359e+06  \n",
       "floors         1.000000e+00  1.500000e+00  2.000000e+00  3.500000e+00  \n",
       "waterfront     0.000000e+00  0.000000e+00  0.000000e+00  1.000000e+00  \n",
       "view           0.000000e+00  0.000000e+00  0.000000e+00  4.000000e+00  \n",
       "condition      3.000000e+00  3.000000e+00  4.000000e+00  5.000000e+00  \n",
       "grade          7.000000e+00  7.000000e+00  8.000000e+00  1.300000e+01  \n",
       "sqft_above     1.190000e+03  1.560000e+03  2.210000e+03  9.410000e+03  \n",
       "sqft_basement  0.000000e+00  0.000000e+00  5.600000e+02  4.820000e+03  \n",
       "yr_built       1.951000e+03  1.975000e+03  1.997000e+03  2.015000e+03  \n",
       "yr_renovated   0.000000e+00  0.000000e+00  0.000000e+00  2.015000e+03  \n",
       "zipcode        9.803300e+04  9.806500e+04  9.811800e+04  9.819900e+04  \n",
       "lat            4.747100e+01  4.757180e+01  4.767800e+01  4.777760e+01  \n",
       "long          -1.223280e+02 -1.222300e+02 -1.221250e+02 -1.213150e+02  \n",
       "sqft_living15  1.490000e+03  1.840000e+03  2.360000e+03  6.210000e+03  \n",
       "sqft_lot15     5.100000e+03  7.620000e+03  1.008300e+04  8.712000e+05  "
      ]
     },
     "execution_count": 6,
     "metadata": {},
     "output_type": "execute_result"
    }
   ],
   "source": [
    "data.describe().T"
   ]
  },
  {
   "cell_type": "markdown",
   "metadata": {
    "id": "bHhzdYkiLvNK"
   },
   "source": [
    "From the above we see that all the attributes of the dataframe have the appropriate data types and dont seem to have missing values but on\n",
    "careful observation of the statistical summary of the data it can be see that the minimum values for the bathrooms\n",
    "attribute is  set to 0 which is not possible and is most \n",
    "likely a missing value place holder. \n",
    "In this project we will target each variable and analyse its correlation to the target variable and also deal with any \n",
    "anomalous data accordingly."
   ]
  },
  {
   "cell_type": "markdown",
   "metadata": {
    "id": "kP58qo24BcZ9"
   },
   "source": [
    "## Target (Price)"
   ]
  },
  {
   "cell_type": "markdown",
   "metadata": {
    "id": "Wgp2adYzBiNJ"
   },
   "source": [
    "The target value of this dataset is the price and from the plot below it seems to be highly right skewed with many outliers.\n",
    "Although these properties are outliers of high-value, they cannot be removed, as they are not corrupt values but examples of the luxurious houses in the region.\n",
    "But this poses a problem as it results in an unbalanced dataset. We tackle this problem by transforming the data with a logarithm to base 10, in an attempt to rebalance the dataset. This transformation will be used later to improve our models’ performance."
   ]
  },
  {
   "cell_type": "code",
   "execution_count": 7,
   "metadata": {
    "colab": {
     "base_uri": "https://localhost:8080/",
     "height": 386
    },
    "id": "ta_Tu1iCBrs5",
    "outputId": "5973d272-46f9-4e52-9e81-ebeae4308302"
   },
   "outputs": [
    {
     "data": {
      "text/plain": [
       "<seaborn.axisgrid.FacetGrid at 0x136592d60>"
      ]
     },
     "execution_count": 7,
     "metadata": {},
     "output_type": "execute_result"
    },
    {
     "data": {
      "image/png": "[encoded data removed]",
      "text/plain": [
       "<Figure size 360x360 with 1 Axes>"
      ]
     },
     "metadata": {
      "needs_background": "light"
     },
     "output_type": "display_data"
    }
   ],
   "source": [
    "sns.displot(data['price'])"
   ]
  },
  {
   "cell_type": "code",
   "execution_count": 8,
   "metadata": {
    "colab": {
     "base_uri": "https://localhost:8080/",
     "height": 412
    },
    "id": "gwTR-G4KCes4",
    "outputId": "8858735b-cf4d-445b-a0ff-01b5b8ab5fb1"
   },
   "outputs": [
    {
     "data": {
      "text/plain": [
       "{'whiskers': [<matplotlib.lines.Line2D at 0x280d22730>,\n",
       "  <matplotlib.lines.Line2D at 0x280d22a00>],\n",
       " 'caps': [<matplotlib.lines.Line2D at 0x280d22d90>,\n",
       "  <matplotlib.lines.Line2D at 0x280d22fa0>],\n",
       " 'boxes': [<matplotlib.lines.Line2D at 0x280d22460>],\n",
       " 'medians': [<matplotlib.lines.Line2D at 0x280d352b0>],\n",
       " 'fliers': [<matplotlib.lines.Line2D at 0x280d35580>],\n",
       " 'means': []}"
      ]
     },
     "execution_count": 8,
     "metadata": {},
     "output_type": "execute_result"
    },
    {
     "data": {
      "image/png": "[encoded data removed]",
      "text/plain": [
       "<Figure size 432x288 with 1 Axes>"
      ]
     },
     "metadata": {
      "needs_background": "light"
     },
     "output_type": "display_data"
    }
   ],
   "source": [
    "plt.boxplot(data['price'])"
   ]
  },
  {
   "cell_type": "markdown",
   "metadata": {
    "id": "BYV3LmUrEMFp"
   },
   "source": [
    "##### Displaying the distribution and boxplot for the log of the price attribute"
   ]
  },
  {
   "cell_type": "code",
   "execution_count": 9,
   "metadata": {
    "colab": {
     "base_uri": "https://localhost:8080/",
     "height": 386
    },
    "id": "rNQTZeS6D18t",
    "outputId": "a04de3f9-9799-4416-fdb4-eff5ebac2d4c"
   },
   "outputs": [
    {
     "data": {
      "text/plain": [
       "<seaborn.axisgrid.FacetGrid at 0x157058340>"
      ]
     },
     "execution_count": 9,
     "metadata": {},
     "output_type": "execute_result"
    },
    {
     "data": {
      "image/png": "[encoded data removed]",
      "text/plain": [
       "<Figure size 360x360 with 1 Axes>"
      ]
     },
     "metadata": {
      "needs_background": "light"
     },
     "output_type": "display_data"
    }
   ],
   "source": [
    "## Displaying the log(price)\n",
    "sns.displot(np.log10(data['price']))\n"
   ]
  },
  {
   "cell_type": "code",
   "execution_count": 10,
   "metadata": {
    "colab": {
     "base_uri": "https://localhost:8080/",
     "height": 401
    },
    "id": "NMHmBP1hEFP4",
    "outputId": "eb519323-3339-429e-dcf2-4ec9ece9a5c7"
   },
   "outputs": [
    {
     "data": {
      "text/plain": [
       "{'whiskers': [<matplotlib.lines.Line2D at 0x280ebc850>,\n",
       "  <matplotlib.lines.Line2D at 0x280ebcb20>],\n",
       " 'caps': [<matplotlib.lines.Line2D at 0x280ebcdf0>,\n",
       "  <matplotlib.lines.Line2D at 0x280ecb100>],\n",
       " 'boxes': [<matplotlib.lines.Line2D at 0x280ebc5b0>],\n",
       " 'medians': [<matplotlib.lines.Line2D at 0x280ecb3d0>],\n",
       " 'fliers': [<matplotlib.lines.Line2D at 0x280ecb6a0>],\n",
       " 'means': []}"
      ]
     },
     "execution_count": 10,
     "metadata": {},
     "output_type": "execute_result"
    },
    {
     "data": {
      "image/png": "[encoded data removed]",
      "text/plain": [
       "<Figure size 432x288 with 1 Axes>"
      ]
     },
     "metadata": {
      "needs_background": "light"
     },
     "output_type": "display_data"
    }
   ],
   "source": [
    "plt.boxplot(np.log10(data['price']))"
   ]
  },
  {
   "cell_type": "markdown",
   "metadata": {
    "id": "YOMk9bxcOWtW"
   },
   "source": [
    "## Displaying the correlation heatmap"
   ]
  },
  {
   "cell_type": "code",
   "execution_count": 11,
   "metadata": {
    "colab": {
     "base_uri": "https://localhost:8080/",
     "height": 689
    },
    "id": "qsxw-RY8OfKT",
    "outputId": "22107bf2-576f-4563-8dff-331a409d3f1a"
   },
   "outputs": [
    {
     "data": {
      "text/html": [
       "<style type=\"text/css\">\n",
       "#T_6fb24_row0_col0, #T_6fb24_row1_col1, #T_6fb24_row2_col2, #T_6fb24_row3_col3, #T_6fb24_row4_col4, #T_6fb24_row5_col5, #T_6fb24_row6_col6, #T_6fb24_row7_col7, #T_6fb24_row8_col8, #T_6fb24_row9_col9, #T_6fb24_row10_col10, #T_6fb24_row11_col11, #T_6fb24_row12_col12, #T_6fb24_row13_col13, #T_6fb24_row14_col14, #T_6fb24_row15_col15, #T_6fb24_row16_col16, #T_6fb24_row17_col17, #T_6fb24_row18_col18, #T_6fb24_row19_col19 {\n",
       "  background-color: #b40426;\n",
       "  color: #f1f1f1;\n",
       "}\n",
       "#T_6fb24_row0_col1, #T_6fb24_row2_col7, #T_6fb24_row9_col10 {\n",
       "  background-color: #445acc;\n",
       "  color: #f1f1f1;\n",
       "}\n",
       "#T_6fb24_row0_col2, #T_6fb24_row5_col1, #T_6fb24_row7_col5, #T_6fb24_row8_col16, #T_6fb24_row9_col14, #T_6fb24_row14_col19 {\n",
       "  background-color: #6485ec;\n",
       "  color: #f1f1f1;\n",
       "}\n",
       "#T_6fb24_row0_col3, #T_6fb24_row3_col9, #T_6fb24_row4_col16, #T_6fb24_row6_col16 {\n",
       "  background-color: #7295f4;\n",
       "  color: #f1f1f1;\n",
       "}\n",
       "#T_6fb24_row0_col4, #T_6fb24_row2_col19, #T_6fb24_row7_col19, #T_6fb24_row11_col12, #T_6fb24_row14_col16 {\n",
       "  background-color: #6b8df0;\n",
       "  color: #f1f1f1;\n",
       "}\n",
       "#T_6fb24_row0_col5, #T_6fb24_row6_col12, #T_6fb24_row9_col6, #T_6fb24_row9_col13, #T_6fb24_row13_col9, #T_6fb24_row13_col14, #T_6fb24_row13_col16, #T_6fb24_row15_col1, #T_6fb24_row15_col2, #T_6fb24_row15_col3, #T_6fb24_row15_col4, #T_6fb24_row15_col5, #T_6fb24_row15_col10, #T_6fb24_row15_col11, #T_6fb24_row15_col17, #T_6fb24_row15_col18, #T_6fb24_row15_col19, #T_6fb24_row17_col7, #T_6fb24_row17_col8, #T_6fb24_row17_col15, #T_6fb24_row19_col0 {\n",
       "  background-color: #3b4cc0;\n",
       "  color: #f1f1f1;\n",
       "}\n",
       "#T_6fb24_row0_col6, #T_6fb24_row3_col14, #T_6fb24_row7_col10, #T_6fb24_row8_col13, #T_6fb24_row12_col16, #T_6fb24_row14_col11 {\n",
       "  background-color: #84a7fc;\n",
       "  color: #f1f1f1;\n",
       "}\n",
       "#T_6fb24_row0_col7 {\n",
       "  background-color: #455cce;\n",
       "  color: #f1f1f1;\n",
       "}\n",
       "#T_6fb24_row0_col8, #T_6fb24_row9_col1 {\n",
       "  background-color: #5470de;\n",
       "  color: #f1f1f1;\n",
       "}\n",
       "#T_6fb24_row0_col9, #T_6fb24_row3_col8, #T_6fb24_row7_col13, #T_6fb24_row16_col6 {\n",
       "  background-color: #8caffe;\n",
       "  color: #000000;\n",
       "}\n",
       "#T_6fb24_row0_col10, #T_6fb24_row13_col5, #T_6fb24_row15_col6 {\n",
       "  background-color: #6e90f2;\n",
       "  color: #f1f1f1;\n",
       "}\n",
       "#T_6fb24_row0_col11, #T_6fb24_row1_col5, #T_6fb24_row2_col14, #T_6fb24_row10_col14, #T_6fb24_row18_col9 {\n",
       "  background-color: #7a9df8;\n",
       "  color: #f1f1f1;\n",
       "}\n",
       "#T_6fb24_row0_col12, #T_6fb24_row3_col5, #T_6fb24_row8_col19, #T_6fb24_row11_col15 {\n",
       "  background-color: #799cf8;\n",
       "  color: #f1f1f1;\n",
       "}\n",
       "#T_6fb24_row0_col13, #T_6fb24_row5_col15, #T_6fb24_row7_col9, #T_6fb24_row11_col5 {\n",
       "  background-color: #97b8ff;\n",
       "  color: #000000;\n",
       "}\n",
       "#T_6fb24_row0_col14, #T_6fb24_row14_col1, #T_6fb24_row14_col8, #T_6fb24_row14_col10, #T_6fb24_row18_col16 {\n",
       "  background-color: #7093f3;\n",
       "  color: #f1f1f1;\n",
       "}\n",
       "#T_6fb24_row0_col15, #T_6fb24_row5_col11, #T_6fb24_row17_col3 {\n",
       "  background-color: #b1cbfc;\n",
       "  color: #000000;\n",
       "}\n",
       "#T_6fb24_row0_col16, #T_6fb24_row3_col0, #T_6fb24_row7_col2, #T_6fb24_row9_col19, #T_6fb24_row11_col16, #T_6fb24_row17_col14, #T_6fb24_row19_col1 {\n",
       "  background-color: #6282ea;\n",
       "  color: #f1f1f1;\n",
       "}\n",
       "#T_6fb24_row0_col17, #T_6fb24_row1_col17, #T_6fb24_row12_col18 {\n",
       "  background-color: #b7cff9;\n",
       "  color: #000000;\n",
       "}\n",
       "#T_6fb24_row0_col18, #T_6fb24_row10_col5, #T_6fb24_row14_col18 {\n",
       "  background-color: #81a4fb;\n",
       "  color: #f1f1f1;\n",
       "}\n",
       "#T_6fb24_row0_col19, #T_6fb24_row5_col0 {\n",
       "  background-color: #3c4ec2;\n",
       "  color: #f1f1f1;\n",
       "}\n",
       "#T_6fb24_row1_col0, #T_6fb24_row9_col5, #T_6fb24_row14_col0 {\n",
       "  background-color: #5b7ae5;\n",
       "  color: #f1f1f1;\n",
       "}\n",
       "#T_6fb24_row1_col2, #T_6fb24_row14_col15 {\n",
       "  background-color: #c0d4f5;\n",
       "  color: #000000;\n",
       "}\n",
       "#T_6fb24_row1_col3, #T_6fb24_row18_col1 {\n",
       "  background-color: #f2c9b4;\n",
       "  color: #000000;\n",
       "}\n",
       "#T_6fb24_row1_col4, #T_6fb24_row3_col11, #T_6fb24_row19_col5 {\n",
       "  background-color: #f4987a;\n",
       "  color: #000000;\n",
       "}\n",
       "#T_6fb24_row1_col6 {\n",
       "  background-color: #c4d5f3;\n",
       "  color: #000000;\n",
       "}\n",
       "#T_6fb24_row1_col7, #T_6fb24_row6_col1 {\n",
       "  background-color: #9dbdff;\n",
       "  color: #000000;\n",
       "}\n",
       "#T_6fb24_row1_col8, #T_6fb24_row2_col12, #T_6fb24_row6_col17 {\n",
       "  background-color: #ccd9ed;\n",
       "  color: #000000;\n",
       "}\n",
       "#T_6fb24_row1_col9, #T_6fb24_row9_col17 {\n",
       "  background-color: #9bbcff;\n",
       "  color: #000000;\n",
       "}\n",
       "#T_6fb24_row1_col10, #T_6fb24_row10_col3 {\n",
       "  background-color: #f6a586;\n",
       "  color: #000000;\n",
       "}\n",
       "#T_6fb24_row1_col11, #T_6fb24_row10_col1 {\n",
       "  background-color: #f7b194;\n",
       "  color: #000000;\n",
       "}\n",
       "#T_6fb24_row1_col12, #T_6fb24_row2_col10 {\n",
       "  background-color: #d2dbe8;\n",
       "  color: #000000;\n",
       "}\n",
       "#T_6fb24_row1_col13, #T_6fb24_row10_col8, #T_6fb24_row17_col6 {\n",
       "  background-color: #a1c0ff;\n",
       "  color: #000000;\n",
       "}\n",
       "#T_6fb24_row1_col14, #T_6fb24_row2_col9, #T_6fb24_row4_col19, #T_6fb24_row7_col18, #T_6fb24_row16_col12, #T_6fb24_row18_col19 {\n",
       "  background-color: #9abbff;\n",
       "  color: #000000;\n",
       "}\n",
       "#T_6fb24_row1_col15, #T_6fb24_row8_col3 {\n",
       "  background-color: #a7c5fe;\n",
       "  color: #000000;\n",
       "}\n",
       "#T_6fb24_row1_col16, #T_6fb24_row12_col2 {\n",
       "  background-color: #bfd3f6;\n",
       "  color: #000000;\n",
       "}\n",
       "#T_6fb24_row1_col18 {\n",
       "  background-color: #f7b497;\n",
       "  color: #000000;\n",
       "}\n",
       "#T_6fb24_row1_col19, #T_6fb24_row8_col2, #T_6fb24_row11_col14, #T_6fb24_row19_col6 {\n",
       "  background-color: #7b9ff9;\n",
       "  color: #f1f1f1;\n",
       "}\n",
       "#T_6fb24_row2_col0, #T_6fb24_row2_col16, #T_6fb24_row14_col5, #T_6fb24_row16_col2, #T_6fb24_row18_col7 {\n",
       "  background-color: #6180e9;\n",
       "  color: #f1f1f1;\n",
       "}\n",
       "#T_6fb24_row2_col1, #T_6fb24_row8_col11, #T_6fb24_row16_col1 {\n",
       "  background-color: #adc9fd;\n",
       "  color: #000000;\n",
       "}\n",
       "#T_6fb24_row2_col3 {\n",
       "  background-color: #f2cbb7;\n",
       "  color: #000000;\n",
       "}\n",
       "#T_6fb24_row2_col4 {\n",
       "  background-color: #f6bea4;\n",
       "  color: #000000;\n",
       "}\n",
       "#T_6fb24_row2_col5, #T_6fb24_row2_col8, #T_6fb24_row9_col18 {\n",
       "  background-color: #688aef;\n",
       "  color: #f1f1f1;\n",
       "}\n",
       "#T_6fb24_row2_col6 {\n",
       "  background-color: #aec9fc;\n",
       "  color: #000000;\n",
       "}\n",
       "#T_6fb24_row2_col11, #T_6fb24_row6_col3 {\n",
       "  background-color: #efcebd;\n",
       "  color: #000000;\n",
       "}\n",
       "#T_6fb24_row2_col13 {\n",
       "  background-color: #b9d0f9;\n",
       "  color: #000000;\n",
       "}\n",
       "#T_6fb24_row2_col15, #T_6fb24_row7_col11, #T_6fb24_row7_col12, #T_6fb24_row19_col9 {\n",
       "  background-color: #92b4fe;\n",
       "  color: #000000;\n",
       "}\n",
       "#T_6fb24_row2_col17, #T_6fb24_row10_col2 {\n",
       "  background-color: #cdd9ec;\n",
       "  color: #000000;\n",
       "}\n",
       "#T_6fb24_row2_col18 {\n",
       "  background-color: #e3d9d3;\n",
       "  color: #000000;\n",
       "}\n",
       "#T_6fb24_row3_col1 {\n",
       "  background-color: #e9d5cb;\n",
       "  color: #000000;\n",
       "}\n",
       "#T_6fb24_row3_col2, #T_6fb24_row11_col17 {\n",
       "  background-color: #efcfbf;\n",
       "  color: #000000;\n",
       "}\n",
       "#T_6fb24_row3_col4, #T_6fb24_row4_col3, #T_6fb24_row11_col10 {\n",
       "  background-color: #ee8669;\n",
       "  color: #f1f1f1;\n",
       "}\n",
       "#T_6fb24_row3_col6 {\n",
       "  background-color: #f2cab5;\n",
       "  color: #000000;\n",
       "}\n",
       "#T_6fb24_row3_col7, #T_6fb24_row6_col8, #T_6fb24_row9_col0, #T_6fb24_row14_col13 {\n",
       "  background-color: #5977e3;\n",
       "  color: #f1f1f1;\n",
       "}\n",
       "#T_6fb24_row3_col10, #T_6fb24_row4_col1 {\n",
       "  background-color: #f7a688;\n",
       "  color: #000000;\n",
       "}\n",
       "#T_6fb24_row3_col12 {\n",
       "  background-color: #c7d7f0;\n",
       "  color: #000000;\n",
       "}\n",
       "#T_6fb24_row3_col13 {\n",
       "  background-color: #f5c0a7;\n",
       "  color: #000000;\n",
       "}\n",
       "#T_6fb24_row3_col15, #T_6fb24_row4_col14, #T_6fb24_row7_col6, #T_6fb24_row10_col16, #T_6fb24_row11_col8 {\n",
       "  background-color: #85a8fc;\n",
       "  color: #f1f1f1;\n",
       "}\n",
       "#T_6fb24_row3_col16, #T_6fb24_row11_col9, #T_6fb24_row14_col2, #T_6fb24_row15_col8 {\n",
       "  background-color: #6a8bef;\n",
       "  color: #f1f1f1;\n",
       "}\n",
       "#T_6fb24_row3_col17 {\n",
       "  background-color: #dddcdc;\n",
       "  color: #000000;\n",
       "}\n",
       "#T_6fb24_row3_col18 {\n",
       "  background-color: #f7b99e;\n",
       "  color: #000000;\n",
       "}\n",
       "#T_6fb24_row3_col19, #T_6fb24_row5_col6, #T_6fb24_row16_col11 {\n",
       "  background-color: #7da0f9;\n",
       "  color: #f1f1f1;\n",
       "}\n",
       "#T_6fb24_row4_col0, #T_6fb24_row6_col5, #T_6fb24_row11_col0, #T_6fb24_row11_col7 {\n",
       "  background-color: #5d7ce6;\n",
       "  color: #f1f1f1;\n",
       "}\n",
       "#T_6fb24_row4_col2 {\n",
       "  background-color: #f5c2aa;\n",
       "  color: #000000;\n",
       "}\n",
       "#T_6fb24_row4_col5, #T_6fb24_row8_col14, #T_6fb24_row12_col17, #T_6fb24_row13_col2, #T_6fb24_row15_col9, #T_6fb24_row19_col15 {\n",
       "  background-color: #93b5fe;\n",
       "  color: #000000;\n",
       "}\n",
       "#T_6fb24_row4_col6 {\n",
       "  background-color: #dadce0;\n",
       "  color: #000000;\n",
       "}\n",
       "#T_6fb24_row4_col7, #T_6fb24_row6_col0, #T_6fb24_row13_col15, #T_6fb24_row17_col0, #T_6fb24_row19_col8 {\n",
       "  background-color: #6687ed;\n",
       "  color: #f1f1f1;\n",
       "}\n",
       "#T_6fb24_row4_col8, #T_6fb24_row9_col12 {\n",
       "  background-color: #abc8fd;\n",
       "  color: #000000;\n",
       "}\n",
       "#T_6fb24_row4_col9, #T_6fb24_row7_col3, #T_6fb24_row14_col9 {\n",
       "  background-color: #82a6fb;\n",
       "  color: #f1f1f1;\n",
       "}\n",
       "#T_6fb24_row4_col10, #T_6fb24_row18_col4 {\n",
       "  background-color: #ee8468;\n",
       "  color: #f1f1f1;\n",
       "}\n",
       "#T_6fb24_row4_col11 {\n",
       "  background-color: #d65244;\n",
       "  color: #f1f1f1;\n",
       "}\n",
       "#T_6fb24_row4_col12, #T_6fb24_row11_col2, #T_6fb24_row13_col11 {\n",
       "  background-color: #e8d6cc;\n",
       "  color: #000000;\n",
       "}\n",
       "#T_6fb24_row4_col13 {\n",
       "  background-color: #dcdddd;\n",
       "  color: #000000;\n",
       "}\n",
       "#T_6fb24_row4_col15, #T_6fb24_row8_col6, #T_6fb24_row10_col19 {\n",
       "  background-color: #86a9fc;\n",
       "  color: #f1f1f1;\n",
       "}\n",
       "#T_6fb24_row4_col17 {\n",
       "  background-color: #e0dbd8;\n",
       "  color: #000000;\n",
       "}\n",
       "#T_6fb24_row4_col18 {\n",
       "  background-color: #ec7f63;\n",
       "  color: #f1f1f1;\n",
       "}\n",
       "#T_6fb24_row5_col2, #T_6fb24_row9_col2, #T_6fb24_row10_col9, #T_6fb24_row16_col13, #T_6fb24_row19_col2 {\n",
       "  background-color: #6c8ff1;\n",
       "  color: #f1f1f1;\n",
       "}\n",
       "#T_6fb24_row5_col3, #T_6fb24_row10_col15, #T_6fb24_row17_col2, #T_6fb24_row18_col5 {\n",
       "  background-color: #8badfd;\n",
       "  color: #000000;\n",
       "}\n",
       "#T_6fb24_row5_col4, #T_6fb24_row8_col17 {\n",
       "  background-color: #a2c1ff;\n",
       "  color: #000000;\n",
       "}\n",
       "#T_6fb24_row5_col7 {\n",
       "  background-color: #4c66d6;\n",
       "  color: #f1f1f1;\n",
       "}\n",
       "#T_6fb24_row5_col8, #T_6fb24_row12_col19, #T_6fb24_row13_col0 {\n",
       "  background-color: #6788ee;\n",
       "  color: #f1f1f1;\n",
       "}\n",
       "#T_6fb24_row5_col9, #T_6fb24_row7_col14 {\n",
       "  background-color: #90b2fe;\n",
       "  color: #000000;\n",
       "}\n",
       "#T_6fb24_row5_col10, #T_6fb24_row7_col4, #T_6fb24_row16_col10 {\n",
       "  background-color: #8db0fe;\n",
       "  color: #000000;\n",
       "}\n",
       "#T_6fb24_row5_col12, #T_6fb24_row16_col4, #T_6fb24_row16_col14 {\n",
       "  background-color: #7ea1fa;\n",
       "  color: #f1f1f1;\n",
       "}\n",
       "#T_6fb24_row5_col13, #T_6fb24_row7_col1 {\n",
       "  background-color: #9fbfff;\n",
       "  color: #000000;\n",
       "}\n",
       "#T_6fb24_row5_col14, #T_6fb24_row6_col14, #T_6fb24_row13_col19, #T_6fb24_row16_col3, #T_6fb24_row19_col14 {\n",
       "  background-color: #779af7;\n",
       "  color: #f1f1f1;\n",
       "}\n",
       "#T_6fb24_row5_col16, #T_6fb24_row16_col19, #T_6fb24_row19_col16 {\n",
       "  background-color: #4a63d3;\n",
       "  color: #f1f1f1;\n",
       "}\n",
       "#T_6fb24_row5_col17, #T_6fb24_row18_col13 {\n",
       "  background-color: #dedcdb;\n",
       "  color: #000000;\n",
       "}\n",
       "#T_6fb24_row5_col18, #T_6fb24_row12_col8 {\n",
       "  background-color: #a9c6fd;\n",
       "  color: #000000;\n",
       "}\n",
       "#T_6fb24_row5_col19 {\n",
       "  background-color: #f39778;\n",
       "  color: #000000;\n",
       "}\n",
       "#T_6fb24_row6_col2 {\n",
       "  background-color: #98b9ff;\n",
       "  color: #000000;\n",
       "}\n",
       "#T_6fb24_row6_col4 {\n",
       "  background-color: #d3dbe7;\n",
       "  color: #000000;\n",
       "}\n",
       "#T_6fb24_row6_col7, #T_6fb24_row9_col3 {\n",
       "  background-color: #4e68d8;\n",
       "  color: #f1f1f1;\n",
       "}\n",
       "#T_6fb24_row6_col9, #T_6fb24_row17_col1 {\n",
       "  background-color: #506bda;\n",
       "  color: #f1f1f1;\n",
       "}\n",
       "#T_6fb24_row6_col10 {\n",
       "  background-color: #e7d7ce;\n",
       "  color: #000000;\n",
       "}\n",
       "#T_6fb24_row6_col11, #T_6fb24_row6_col13, #T_6fb24_row11_col6, #T_6fb24_row13_col17 {\n",
       "  background-color: #f4c5ad;\n",
       "  color: #000000;\n",
       "}\n",
       "#T_6fb24_row6_col15, #T_6fb24_row17_col10 {\n",
       "  background-color: #a6c4fe;\n",
       "  color: #000000;\n",
       "}\n",
       "#T_6fb24_row6_col18, #T_6fb24_row8_col18 {\n",
       "  background-color: #cbd8ee;\n",
       "  color: #000000;\n",
       "}\n",
       "#T_6fb24_row6_col19, #T_6fb24_row7_col0, #T_6fb24_row9_col4, #T_6fb24_row10_col7, #T_6fb24_row12_col0, #T_6fb24_row12_col7, #T_6fb24_row16_col0, #T_6fb24_row18_col0 {\n",
       "  background-color: #5f7fe8;\n",
       "  color: #f1f1f1;\n",
       "}\n",
       "#T_6fb24_row7_col8 {\n",
       "  background-color: #cedaeb;\n",
       "  color: #000000;\n",
       "}\n",
       "#T_6fb24_row7_col15 {\n",
       "  background-color: #bad0f8;\n",
       "  color: #000000;\n",
       "}\n",
       "#T_6fb24_row7_col16, #T_6fb24_row9_col8, #T_6fb24_row9_col16, #T_6fb24_row15_col0 {\n",
       "  background-color: #5e7de7;\n",
       "  color: #f1f1f1;\n",
       "}\n",
       "#T_6fb24_row7_col17, #T_6fb24_row10_col12, #T_6fb24_row18_col8 {\n",
       "  background-color: #aac7fd;\n",
       "  color: #000000;\n",
       "}\n",
       "#T_6fb24_row8_col0, #T_6fb24_row10_col0, #T_6fb24_row12_col5, #T_6fb24_row14_col7 {\n",
       "  background-color: #6384eb;\n",
       "  color: #f1f1f1;\n",
       "}\n",
       "#T_6fb24_row8_col1, #T_6fb24_row8_col7 {\n",
       "  background-color: #c9d7f0;\n",
       "  color: #000000;\n",
       "}\n",
       "#T_6fb24_row8_col4, #T_6fb24_row12_col3 {\n",
       "  background-color: #c1d4f4;\n",
       "  color: #000000;\n",
       "}\n",
       "#T_6fb24_row8_col5, #T_6fb24_row18_col14, #T_6fb24_row18_col15 {\n",
       "  background-color: #7597f6;\n",
       "  color: #f1f1f1;\n",
       "}\n",
       "#T_6fb24_row8_col9, #T_6fb24_row11_col19, #T_6fb24_row12_col10 {\n",
       "  background-color: #9ebeff;\n",
       "  color: #000000;\n",
       "}\n",
       "#T_6fb24_row8_col10 {\n",
       "  background-color: #b6cefa;\n",
       "  color: #000000;\n",
       "}\n",
       "#T_6fb24_row8_col12 {\n",
       "  background-color: #c6d6f1;\n",
       "  color: #000000;\n",
       "}\n",
       "#T_6fb24_row8_col15 {\n",
       "  background-color: #c5d6f2;\n",
       "  color: #000000;\n",
       "}\n",
       "#T_6fb24_row9_col7 {\n",
       "  background-color: #4b64d5;\n",
       "  color: #f1f1f1;\n",
       "}\n",
       "#T_6fb24_row9_col11, #T_6fb24_row16_col8, #T_6fb24_row17_col12 {\n",
       "  background-color: #536edd;\n",
       "  color: #f1f1f1;\n",
       "}\n",
       "#T_6fb24_row9_col15, #T_6fb24_row15_col16, #T_6fb24_row19_col11, #T_6fb24_row19_col18 {\n",
       "  background-color: #b3cdfb;\n",
       "  color: #000000;\n",
       "}\n",
       "#T_6fb24_row10_col4 {\n",
       "  background-color: #ed8366;\n",
       "  color: #f1f1f1;\n",
       "}\n",
       "#T_6fb24_row10_col6 {\n",
       "  background-color: #edd1c2;\n",
       "  color: #000000;\n",
       "}\n",
       "#T_6fb24_row10_col11 {\n",
       "  background-color: #ec8165;\n",
       "  color: #f1f1f1;\n",
       "}\n",
       "#T_6fb24_row10_col13, #T_6fb24_row13_col6 {\n",
       "  background-color: #f1ccb8;\n",
       "  color: #000000;\n",
       "}\n",
       "#T_6fb24_row10_col17 {\n",
       "  background-color: #d9dce1;\n",
       "  color: #000000;\n",
       "}\n",
       "#T_6fb24_row10_col18 {\n",
       "  background-color: #f18f71;\n",
       "  color: #f1f1f1;\n",
       "}\n",
       "#T_6fb24_row11_col1 {\n",
       "  background-color: #f5c4ac;\n",
       "  color: #000000;\n",
       "}\n",
       "#T_6fb24_row11_col3 {\n",
       "  background-color: #f59d7e;\n",
       "  color: #000000;\n",
       "}\n",
       "#T_6fb24_row11_col4 {\n",
       "  background-color: #d75445;\n",
       "  color: #f1f1f1;\n",
       "}\n",
       "#T_6fb24_row11_col13, #T_6fb24_row18_col17 {\n",
       "  background-color: #eed0c0;\n",
       "  color: #000000;\n",
       "}\n",
       "#T_6fb24_row11_col18 {\n",
       "  background-color: #ef886b;\n",
       "  color: #f1f1f1;\n",
       "}\n",
       "#T_6fb24_row12_col1, #T_6fb24_row18_col12 {\n",
       "  background-color: #b2ccfb;\n",
       "  color: #000000;\n",
       "}\n",
       "#T_6fb24_row12_col4 {\n",
       "  background-color: #e4d9d2;\n",
       "  color: #000000;\n",
       "}\n",
       "#T_6fb24_row12_col6, #T_6fb24_row13_col7 {\n",
       "  background-color: #3e51c5;\n",
       "  color: #f1f1f1;\n",
       "}\n",
       "#T_6fb24_row12_col9 {\n",
       "  background-color: #bed2f6;\n",
       "  color: #000000;\n",
       "}\n",
       "#T_6fb24_row12_col11, #T_6fb24_row12_col13 {\n",
       "  background-color: #6f92f3;\n",
       "  color: #f1f1f1;\n",
       "}\n",
       "#T_6fb24_row12_col14, #T_6fb24_row19_col3 {\n",
       "  background-color: #89acfd;\n",
       "  color: #000000;\n",
       "}\n",
       "#T_6fb24_row12_col15 {\n",
       "  background-color: #c3d5f4;\n",
       "  color: #000000;\n",
       "}\n",
       "#T_6fb24_row13_col1 {\n",
       "  background-color: #5a78e4;\n",
       "  color: #f1f1f1;\n",
       "}\n",
       "#T_6fb24_row13_col3 {\n",
       "  background-color: #f0cdbb;\n",
       "  color: #000000;\n",
       "}\n",
       "#T_6fb24_row13_col4, #T_6fb24_row18_col6 {\n",
       "  background-color: #cad8ef;\n",
       "  color: #000000;\n",
       "}\n",
       "#T_6fb24_row13_col8 {\n",
       "  background-color: #4055c8;\n",
       "  color: #f1f1f1;\n",
       "}\n",
       "#T_6fb24_row13_col10, #T_6fb24_row16_col15 {\n",
       "  background-color: #e5d8d1;\n",
       "  color: #000000;\n",
       "}\n",
       "#T_6fb24_row13_col12 {\n",
       "  background-color: #5673e0;\n",
       "  color: #f1f1f1;\n",
       "}\n",
       "#T_6fb24_row13_col18 {\n",
       "  background-color: #d6dce4;\n",
       "  color: #000000;\n",
       "}\n",
       "#T_6fb24_row14_col3, #T_6fb24_row14_col4, #T_6fb24_row14_col6, #T_6fb24_row19_col12 {\n",
       "  background-color: #80a3fa;\n",
       "  color: #f1f1f1;\n",
       "}\n",
       "#T_6fb24_row14_col12, #T_6fb24_row15_col12, #T_6fb24_row16_col9, #T_6fb24_row16_col18, #T_6fb24_row19_col10 {\n",
       "  background-color: #8fb1fe;\n",
       "  color: #000000;\n",
       "}\n",
       "#T_6fb24_row14_col17, #T_6fb24_row17_col5, #T_6fb24_row19_col4, #T_6fb24_row19_col13 {\n",
       "  background-color: #a5c3fe;\n",
       "  color: #000000;\n",
       "}\n",
       "#T_6fb24_row15_col7, #T_6fb24_row19_col7 {\n",
       "  background-color: #4f69d9;\n",
       "  color: #f1f1f1;\n",
       "}\n",
       "#T_6fb24_row15_col13, #T_6fb24_row17_col16 {\n",
       "  background-color: #3d50c3;\n",
       "  color: #f1f1f1;\n",
       "}\n",
       "#T_6fb24_row15_col14 {\n",
       "  background-color: #88abfd;\n",
       "  color: #000000;\n",
       "}\n",
       "#T_6fb24_row16_col5 {\n",
       "  background-color: #465ecf;\n",
       "  color: #f1f1f1;\n",
       "}\n",
       "#T_6fb24_row16_col7 {\n",
       "  background-color: #4257c9;\n",
       "  color: #f1f1f1;\n",
       "}\n",
       "#T_6fb24_row16_col17 {\n",
       "  background-color: #96b7ff;\n",
       "  color: #000000;\n",
       "}\n",
       "#T_6fb24_row17_col4 {\n",
       "  background-color: #b5cdfa;\n",
       "  color: #000000;\n",
       "}\n",
       "#T_6fb24_row17_col9 {\n",
       "  background-color: #7699f6;\n",
       "  color: #f1f1f1;\n",
       "}\n",
       "#T_6fb24_row17_col11, #T_6fb24_row17_col18 {\n",
       "  background-color: #d7dce3;\n",
       "  color: #000000;\n",
       "}\n",
       "#T_6fb24_row17_col13 {\n",
       "  background-color: #ecd3c5;\n",
       "  color: #000000;\n",
       "}\n",
       "#T_6fb24_row17_col19 {\n",
       "  background-color: #afcafc;\n",
       "  color: #000000;\n",
       "}\n",
       "#T_6fb24_row18_col2 {\n",
       "  background-color: #d5dbe5;\n",
       "  color: #000000;\n",
       "}\n",
       "#T_6fb24_row18_col3 {\n",
       "  background-color: #f6bfa6;\n",
       "  color: #000000;\n",
       "}\n",
       "#T_6fb24_row18_col10 {\n",
       "  background-color: #f39577;\n",
       "  color: #000000;\n",
       "}\n",
       "#T_6fb24_row18_col11 {\n",
       "  background-color: #f08a6c;\n",
       "  color: #f1f1f1;\n",
       "}\n",
       "#T_6fb24_row19_col17 {\n",
       "  background-color: #e2dad5;\n",
       "  color: #000000;\n",
       "}\n",
       "</style>\n",
       "<table id=\"T_6fb24\">\n",
       "  <thead>\n",
       "    <tr>\n",
       "      <th class=\"blank level0\" >&nbsp;</th>\n",
       "      <th id=\"T_6fb24_level0_col0\" class=\"col_heading level0 col0\" >id</th>\n",
       "      <th id=\"T_6fb24_level0_col1\" class=\"col_heading level0 col1\" >price</th>\n",
       "      <th id=\"T_6fb24_level0_col2\" class=\"col_heading level0 col2\" >bedrooms</th>\n",
       "      <th id=\"T_6fb24_level0_col3\" class=\"col_heading level0 col3\" >bathrooms</th>\n",
       "      <th id=\"T_6fb24_level0_col4\" class=\"col_heading level0 col4\" >sqft_living</th>\n",
       "      <th id=\"T_6fb24_level0_col5\" class=\"col_heading level0 col5\" >sqft_lot</th>\n",
       "      <th id=\"T_6fb24_level0_col6\" class=\"col_heading level0 col6\" >floors</th>\n",
       "      <th id=\"T_6fb24_level0_col7\" class=\"col_heading level0 col7\" >waterfront</th>\n",
       "      <th id=\"T_6fb24_level0_col8\" class=\"col_heading level0 col8\" >view</th>\n",
       "      <th id=\"T_6fb24_level0_col9\" class=\"col_heading level0 col9\" >condition</th>\n",
       "      <th id=\"T_6fb24_level0_col10\" class=\"col_heading level0 col10\" >grade</th>\n",
       "      <th id=\"T_6fb24_level0_col11\" class=\"col_heading level0 col11\" >sqft_above</th>\n",
       "      <th id=\"T_6fb24_level0_col12\" class=\"col_heading level0 col12\" >sqft_basement</th>\n",
       "      <th id=\"T_6fb24_level0_col13\" class=\"col_heading level0 col13\" >yr_built</th>\n",
       "      <th id=\"T_6fb24_level0_col14\" class=\"col_heading level0 col14\" >yr_renovated</th>\n",
       "      <th id=\"T_6fb24_level0_col15\" class=\"col_heading level0 col15\" >zipcode</th>\n",
       "      <th id=\"T_6fb24_level0_col16\" class=\"col_heading level0 col16\" >lat</th>\n",
       "      <th id=\"T_6fb24_level0_col17\" class=\"col_heading level0 col17\" >long</th>\n",
       "      <th id=\"T_6fb24_level0_col18\" class=\"col_heading level0 col18\" >sqft_living15</th>\n",
       "      <th id=\"T_6fb24_level0_col19\" class=\"col_heading level0 col19\" >sqft_lot15</th>\n",
       "    </tr>\n",
       "  </thead>\n",
       "  <tbody>\n",
       "    <tr>\n",
       "      <th id=\"T_6fb24_level0_row0\" class=\"row_heading level0 row0\" >id</th>\n",
       "      <td id=\"T_6fb24_row0_col0\" class=\"data row0 col0\" >1.000000</td>\n",
       "      <td id=\"T_6fb24_row0_col1\" class=\"data row0 col1\" >-0.016762</td>\n",
       "      <td id=\"T_6fb24_row0_col2\" class=\"data row0 col2\" >0.001286</td>\n",
       "      <td id=\"T_6fb24_row0_col3\" class=\"data row0 col3\" >0.005160</td>\n",
       "      <td id=\"T_6fb24_row0_col4\" class=\"data row0 col4\" >-0.012258</td>\n",
       "      <td id=\"T_6fb24_row0_col5\" class=\"data row0 col5\" >-0.132109</td>\n",
       "      <td id=\"T_6fb24_row0_col6\" class=\"data row0 col6\" >0.018525</td>\n",
       "      <td id=\"T_6fb24_row0_col7\" class=\"data row0 col7\" >-0.002721</td>\n",
       "      <td id=\"T_6fb24_row0_col8\" class=\"data row0 col8\" >0.011592</td>\n",
       "      <td id=\"T_6fb24_row0_col9\" class=\"data row0 col9\" >-0.023783</td>\n",
       "      <td id=\"T_6fb24_row0_col10\" class=\"data row0 col10\" >0.008130</td>\n",
       "      <td id=\"T_6fb24_row0_col11\" class=\"data row0 col11\" >-0.010842</td>\n",
       "      <td id=\"T_6fb24_row0_col12\" class=\"data row0 col12\" >-0.005151</td>\n",
       "      <td id=\"T_6fb24_row0_col13\" class=\"data row0 col13\" >0.021380</td>\n",
       "      <td id=\"T_6fb24_row0_col14\" class=\"data row0 col14\" >-0.016907</td>\n",
       "      <td id=\"T_6fb24_row0_col15\" class=\"data row0 col15\" >-0.008224</td>\n",
       "      <td id=\"T_6fb24_row0_col16\" class=\"data row0 col16\" >-0.001891</td>\n",
       "      <td id=\"T_6fb24_row0_col17\" class=\"data row0 col17\" >0.020799</td>\n",
       "      <td id=\"T_6fb24_row0_col18\" class=\"data row0 col18\" >-0.002901</td>\n",
       "      <td id=\"T_6fb24_row0_col19\" class=\"data row0 col19\" >-0.138798</td>\n",
       "    </tr>\n",
       "    <tr>\n",
       "      <th id=\"T_6fb24_level0_row1\" class=\"row_heading level0 row1\" >price</th>\n",
       "      <td id=\"T_6fb24_row1_col0\" class=\"data row1 col0\" >-0.016762</td>\n",
       "      <td id=\"T_6fb24_row1_col1\" class=\"data row1 col1\" >1.000000</td>\n",
       "      <td id=\"T_6fb24_row1_col2\" class=\"data row1 col2\" >0.308350</td>\n",
       "      <td id=\"T_6fb24_row1_col3\" class=\"data row1 col3\" >0.525138</td>\n",
       "      <td id=\"T_6fb24_row1_col4\" class=\"data row1 col4\" >0.702035</td>\n",
       "      <td id=\"T_6fb24_row1_col5\" class=\"data row1 col5\" >0.089661</td>\n",
       "      <td id=\"T_6fb24_row1_col6\" class=\"data row1 col6\" >0.256794</td>\n",
       "      <td id=\"T_6fb24_row1_col7\" class=\"data row1 col7\" >0.266369</td>\n",
       "      <td id=\"T_6fb24_row1_col8\" class=\"data row1 col8\" >0.397293</td>\n",
       "      <td id=\"T_6fb24_row1_col9\" class=\"data row1 col9\" >0.036362</td>\n",
       "      <td id=\"T_6fb24_row1_col10\" class=\"data row1 col10\" >0.667434</td>\n",
       "      <td id=\"T_6fb24_row1_col11\" class=\"data row1 col11\" >0.605567</td>\n",
       "      <td id=\"T_6fb24_row1_col12\" class=\"data row1 col12\" >0.323816</td>\n",
       "      <td id=\"T_6fb24_row1_col13\" class=\"data row1 col13\" >0.054012</td>\n",
       "      <td id=\"T_6fb24_row1_col14\" class=\"data row1 col14\" >0.126434</td>\n",
       "      <td id=\"T_6fb24_row1_col15\" class=\"data row1 col15\" >-0.053203</td>\n",
       "      <td id=\"T_6fb24_row1_col16\" class=\"data row1 col16\" >0.307003</td>\n",
       "      <td id=\"T_6fb24_row1_col17\" class=\"data row1 col17\" >0.021626</td>\n",
       "      <td id=\"T_6fb24_row1_col18\" class=\"data row1 col18\" >0.585379</td>\n",
       "      <td id=\"T_6fb24_row1_col19\" class=\"data row1 col19\" >0.082447</td>\n",
       "    </tr>\n",
       "    <tr>\n",
       "      <th id=\"T_6fb24_level0_row2\" class=\"row_heading level0 row2\" >bedrooms</th>\n",
       "      <td id=\"T_6fb24_row2_col0\" class=\"data row2 col0\" >0.001286</td>\n",
       "      <td id=\"T_6fb24_row2_col1\" class=\"data row2 col1\" >0.308350</td>\n",
       "      <td id=\"T_6fb24_row2_col2\" class=\"data row2 col2\" >1.000000</td>\n",
       "      <td id=\"T_6fb24_row2_col3\" class=\"data row2 col3\" >0.515884</td>\n",
       "      <td id=\"T_6fb24_row2_col4\" class=\"data row2 col4\" >0.576671</td>\n",
       "      <td id=\"T_6fb24_row2_col5\" class=\"data row2 col5\" >0.031703</td>\n",
       "      <td id=\"T_6fb24_row2_col6\" class=\"data row2 col6\" >0.175429</td>\n",
       "      <td id=\"T_6fb24_row2_col7\" class=\"data row2 col7\" >-0.006582</td>\n",
       "      <td id=\"T_6fb24_row2_col8\" class=\"data row2 col8\" >0.079532</td>\n",
       "      <td id=\"T_6fb24_row2_col9\" class=\"data row2 col9\" >0.028472</td>\n",
       "      <td id=\"T_6fb24_row2_col10\" class=\"data row2 col10\" >0.356967</td>\n",
       "      <td id=\"T_6fb24_row2_col11\" class=\"data row2 col11\" >0.477600</td>\n",
       "      <td id=\"T_6fb24_row2_col12\" class=\"data row2 col12\" >0.303093</td>\n",
       "      <td id=\"T_6fb24_row2_col13\" class=\"data row2 col13\" >0.154178</td>\n",
       "      <td id=\"T_6fb24_row2_col14\" class=\"data row2 col14\" >0.018841</td>\n",
       "      <td id=\"T_6fb24_row2_col15\" class=\"data row2 col15\" >-0.152668</td>\n",
       "      <td id=\"T_6fb24_row2_col16\" class=\"data row2 col16\" >-0.008931</td>\n",
       "      <td id=\"T_6fb24_row2_col17\" class=\"data row2 col17\" >0.129473</td>\n",
       "      <td id=\"T_6fb24_row2_col18\" class=\"data row2 col18\" >0.391638</td>\n",
       "      <td id=\"T_6fb24_row2_col19\" class=\"data row2 col19\" >0.029244</td>\n",
       "    </tr>\n",
       "    <tr>\n",
       "      <th id=\"T_6fb24_level0_row3\" class=\"row_heading level0 row3\" >bathrooms</th>\n",
       "      <td id=\"T_6fb24_row3_col0\" class=\"data row3 col0\" >0.005160</td>\n",
       "      <td id=\"T_6fb24_row3_col1\" class=\"data row3 col1\" >0.525138</td>\n",
       "      <td id=\"T_6fb24_row3_col2\" class=\"data row3 col2\" >0.515884</td>\n",
       "      <td id=\"T_6fb24_row3_col3\" class=\"data row3 col3\" >1.000000</td>\n",
       "      <td id=\"T_6fb24_row3_col4\" class=\"data row3 col4\" >0.754665</td>\n",
       "      <td id=\"T_6fb24_row3_col5\" class=\"data row3 col5\" >0.087740</td>\n",
       "      <td id=\"T_6fb24_row3_col6\" class=\"data row3 col6\" >0.500653</td>\n",
       "      <td id=\"T_6fb24_row3_col7\" class=\"data row3 col7\" >0.063744</td>\n",
       "      <td id=\"T_6fb24_row3_col8\" class=\"data row3 col8\" >0.187737</td>\n",
       "      <td id=\"T_6fb24_row3_col9\" class=\"data row3 col9\" >-0.124982</td>\n",
       "      <td id=\"T_6fb24_row3_col10\" class=\"data row3 col10\" >0.664983</td>\n",
       "      <td id=\"T_6fb24_row3_col11\" class=\"data row3 col11\" >0.685342</td>\n",
       "      <td id=\"T_6fb24_row3_col12\" class=\"data row3 col12\" >0.283770</td>\n",
       "      <td id=\"T_6fb24_row3_col13\" class=\"data row3 col13\" >0.506019</td>\n",
       "      <td id=\"T_6fb24_row3_col14\" class=\"data row3 col14\" >0.050739</td>\n",
       "      <td id=\"T_6fb24_row3_col15\" class=\"data row3 col15\" >-0.203866</td>\n",
       "      <td id=\"T_6fb24_row3_col16\" class=\"data row3 col16\" >0.024573</td>\n",
       "      <td id=\"T_6fb24_row3_col17\" class=\"data row3 col17\" >0.223042</td>\n",
       "      <td id=\"T_6fb24_row3_col18\" class=\"data row3 col18\" >0.568634</td>\n",
       "      <td id=\"T_6fb24_row3_col19\" class=\"data row3 col19\" >0.087175</td>\n",
       "    </tr>\n",
       "    <tr>\n",
       "      <th id=\"T_6fb24_level0_row4\" class=\"row_heading level0 row4\" >sqft_living</th>\n",
       "      <td id=\"T_6fb24_row4_col0\" class=\"data row4 col0\" >-0.012258</td>\n",
       "      <td id=\"T_6fb24_row4_col1\" class=\"data row4 col1\" >0.702035</td>\n",
       "      <td id=\"T_6fb24_row4_col2\" class=\"data row4 col2\" >0.576671</td>\n",
       "      <td id=\"T_6fb24_row4_col3\" class=\"data row4 col3\" >0.754665</td>\n",
       "      <td id=\"T_6fb24_row4_col4\" class=\"data row4 col4\" >1.000000</td>\n",
       "      <td id=\"T_6fb24_row4_col5\" class=\"data row4 col5\" >0.172826</td>\n",
       "      <td id=\"T_6fb24_row4_col6\" class=\"data row4 col6\" >0.353949</td>\n",
       "      <td id=\"T_6fb24_row4_col7\" class=\"data row4 col7\" >0.103818</td>\n",
       "      <td id=\"T_6fb24_row4_col8\" class=\"data row4 col8\" >0.284611</td>\n",
       "      <td id=\"T_6fb24_row4_col9\" class=\"data row4 col9\" >-0.058753</td>\n",
       "      <td id=\"T_6fb24_row4_col10\" class=\"data row4 col10\" >0.762704</td>\n",
       "      <td id=\"T_6fb24_row4_col11\" class=\"data row4 col11\" >0.876597</td>\n",
       "      <td id=\"T_6fb24_row4_col12\" class=\"data row4 col12\" >0.435043</td>\n",
       "      <td id=\"T_6fb24_row4_col13\" class=\"data row4 col13\" >0.318049</td>\n",
       "      <td id=\"T_6fb24_row4_col14\" class=\"data row4 col14\" >0.055363</td>\n",
       "      <td id=\"T_6fb24_row4_col15\" class=\"data row4 col15\" >-0.199430</td>\n",
       "      <td id=\"T_6fb24_row4_col16\" class=\"data row4 col16\" >0.052529</td>\n",
       "      <td id=\"T_6fb24_row4_col17\" class=\"data row4 col17\" >0.240223</td>\n",
       "      <td id=\"T_6fb24_row4_col18\" class=\"data row4 col18\" >0.756420</td>\n",
       "      <td id=\"T_6fb24_row4_col19\" class=\"data row4 col19\" >0.183286</td>\n",
       "    </tr>\n",
       "    <tr>\n",
       "      <th id=\"T_6fb24_level0_row5\" class=\"row_heading level0 row5\" >sqft_lot</th>\n",
       "      <td id=\"T_6fb24_row5_col0\" class=\"data row5 col0\" >-0.132109</td>\n",
       "      <td id=\"T_6fb24_row5_col1\" class=\"data row5 col1\" >0.089661</td>\n",
       "      <td id=\"T_6fb24_row5_col2\" class=\"data row5 col2\" >0.031703</td>\n",
       "      <td id=\"T_6fb24_row5_col3\" class=\"data row5 col3\" >0.087740</td>\n",
       "      <td id=\"T_6fb24_row5_col4\" class=\"data row5 col4\" >0.172826</td>\n",
       "      <td id=\"T_6fb24_row5_col5\" class=\"data row5 col5\" >1.000000</td>\n",
       "      <td id=\"T_6fb24_row5_col6\" class=\"data row5 col6\" >-0.005201</td>\n",
       "      <td id=\"T_6fb24_row5_col7\" class=\"data row5 col7\" >0.021604</td>\n",
       "      <td id=\"T_6fb24_row5_col8\" class=\"data row5 col8\" >0.074710</td>\n",
       "      <td id=\"T_6fb24_row5_col9\" class=\"data row5 col9\" >-0.008958</td>\n",
       "      <td id=\"T_6fb24_row5_col10\" class=\"data row5 col10\" >0.113621</td>\n",
       "      <td id=\"T_6fb24_row5_col11\" class=\"data row5 col11\" >0.183512</td>\n",
       "      <td id=\"T_6fb24_row5_col12\" class=\"data row5 col12\" >0.015286</td>\n",
       "      <td id=\"T_6fb24_row5_col13\" class=\"data row5 col13\" >0.053080</td>\n",
       "      <td id=\"T_6fb24_row5_col14\" class=\"data row5 col14\" >0.007644</td>\n",
       "      <td id=\"T_6fb24_row5_col15\" class=\"data row5 col15\" >-0.129574</td>\n",
       "      <td id=\"T_6fb24_row5_col16\" class=\"data row5 col16\" >-0.085683</td>\n",
       "      <td id=\"T_6fb24_row5_col17\" class=\"data row5 col17\" >0.229521</td>\n",
       "      <td id=\"T_6fb24_row5_col18\" class=\"data row5 col18\" >0.144608</td>\n",
       "      <td id=\"T_6fb24_row5_col19\" class=\"data row5 col19\" >0.718557</td>\n",
       "    </tr>\n",
       "    <tr>\n",
       "      <th id=\"T_6fb24_level0_row6\" class=\"row_heading level0 row6\" >floors</th>\n",
       "      <td id=\"T_6fb24_row6_col0\" class=\"data row6 col0\" >0.018525</td>\n",
       "      <td id=\"T_6fb24_row6_col1\" class=\"data row6 col1\" >0.256794</td>\n",
       "      <td id=\"T_6fb24_row6_col2\" class=\"data row6 col2\" >0.175429</td>\n",
       "      <td id=\"T_6fb24_row6_col3\" class=\"data row6 col3\" >0.500653</td>\n",
       "      <td id=\"T_6fb24_row6_col4\" class=\"data row6 col4\" >0.353949</td>\n",
       "      <td id=\"T_6fb24_row6_col5\" class=\"data row6 col5\" >-0.005201</td>\n",
       "      <td id=\"T_6fb24_row6_col6\" class=\"data row6 col6\" >1.000000</td>\n",
       "      <td id=\"T_6fb24_row6_col7\" class=\"data row6 col7\" >0.023698</td>\n",
       "      <td id=\"T_6fb24_row6_col8\" class=\"data row6 col8\" >0.029444</td>\n",
       "      <td id=\"T_6fb24_row6_col9\" class=\"data row6 col9\" >-0.263768</td>\n",
       "      <td id=\"T_6fb24_row6_col10\" class=\"data row6 col10\" >0.458183</td>\n",
       "      <td id=\"T_6fb24_row6_col11\" class=\"data row6 col11\" >0.523885</td>\n",
       "      <td id=\"T_6fb24_row6_col12\" class=\"data row6 col12\" >-0.245705</td>\n",
       "      <td id=\"T_6fb24_row6_col13\" class=\"data row6 col13\" >0.489319</td>\n",
       "      <td id=\"T_6fb24_row6_col14\" class=\"data row6 col14\" >0.006338</td>\n",
       "      <td id=\"T_6fb24_row6_col15\" class=\"data row6 col15\" >-0.059121</td>\n",
       "      <td id=\"T_6fb24_row6_col16\" class=\"data row6 col16\" >0.049614</td>\n",
       "      <td id=\"T_6fb24_row6_col17\" class=\"data row6 col17\" >0.125419</td>\n",
       "      <td id=\"T_6fb24_row6_col18\" class=\"data row6 col18\" >0.279885</td>\n",
       "      <td id=\"T_6fb24_row6_col19\" class=\"data row6 col19\" >-0.011269</td>\n",
       "    </tr>\n",
       "    <tr>\n",
       "      <th id=\"T_6fb24_level0_row7\" class=\"row_heading level0 row7\" >waterfront</th>\n",
       "      <td id=\"T_6fb24_row7_col0\" class=\"data row7 col0\" >-0.002721</td>\n",
       "      <td id=\"T_6fb24_row7_col1\" class=\"data row7 col1\" >0.266369</td>\n",
       "      <td id=\"T_6fb24_row7_col2\" class=\"data row7 col2\" >-0.006582</td>\n",
       "      <td id=\"T_6fb24_row7_col3\" class=\"data row7 col3\" >0.063744</td>\n",
       "      <td id=\"T_6fb24_row7_col4\" class=\"data row7 col4\" >0.103818</td>\n",
       "      <td id=\"T_6fb24_row7_col5\" class=\"data row7 col5\" >0.021604</td>\n",
       "      <td id=\"T_6fb24_row7_col6\" class=\"data row7 col6\" >0.023698</td>\n",
       "      <td id=\"T_6fb24_row7_col7\" class=\"data row7 col7\" >1.000000</td>\n",
       "      <td id=\"T_6fb24_row7_col8\" class=\"data row7 col8\" >0.401857</td>\n",
       "      <td id=\"T_6fb24_row7_col9\" class=\"data row7 col9\" >0.016653</td>\n",
       "      <td id=\"T_6fb24_row7_col10\" class=\"data row7 col10\" >0.082775</td>\n",
       "      <td id=\"T_6fb24_row7_col11\" class=\"data row7 col11\" >0.072075</td>\n",
       "      <td id=\"T_6fb24_row7_col12\" class=\"data row7 col12\" >0.080588</td>\n",
       "      <td id=\"T_6fb24_row7_col13\" class=\"data row7 col13\" >-0.026161</td>\n",
       "      <td id=\"T_6fb24_row7_col14\" class=\"data row7 col14\" >0.092885</td>\n",
       "      <td id=\"T_6fb24_row7_col15\" class=\"data row7 col15\" >0.030285</td>\n",
       "      <td id=\"T_6fb24_row7_col16\" class=\"data row7 col16\" >-0.014274</td>\n",
       "      <td id=\"T_6fb24_row7_col17\" class=\"data row7 col17\" >-0.041910</td>\n",
       "      <td id=\"T_6fb24_row7_col18\" class=\"data row7 col18\" >0.086463</td>\n",
       "      <td id=\"T_6fb24_row7_col19\" class=\"data row7 col19\" >0.030703</td>\n",
       "    </tr>\n",
       "    <tr>\n",
       "      <th id=\"T_6fb24_level0_row8\" class=\"row_heading level0 row8\" >view</th>\n",
       "      <td id=\"T_6fb24_row8_col0\" class=\"data row8 col0\" >0.011592</td>\n",
       "      <td id=\"T_6fb24_row8_col1\" class=\"data row8 col1\" >0.397293</td>\n",
       "      <td id=\"T_6fb24_row8_col2\" class=\"data row8 col2\" >0.079532</td>\n",
       "      <td id=\"T_6fb24_row8_col3\" class=\"data row8 col3\" >0.187737</td>\n",
       "      <td id=\"T_6fb24_row8_col4\" class=\"data row8 col4\" >0.284611</td>\n",
       "      <td id=\"T_6fb24_row8_col5\" class=\"data row8 col5\" >0.074710</td>\n",
       "      <td id=\"T_6fb24_row8_col6\" class=\"data row8 col6\" >0.029444</td>\n",
       "      <td id=\"T_6fb24_row8_col7\" class=\"data row8 col7\" >0.401857</td>\n",
       "      <td id=\"T_6fb24_row8_col8\" class=\"data row8 col8\" >1.000000</td>\n",
       "      <td id=\"T_6fb24_row8_col9\" class=\"data row8 col9\" >0.045990</td>\n",
       "      <td id=\"T_6fb24_row8_col10\" class=\"data row8 col10\" >0.251321</td>\n",
       "      <td id=\"T_6fb24_row8_col11\" class=\"data row8 col11\" >0.167649</td>\n",
       "      <td id=\"T_6fb24_row8_col12\" class=\"data row8 col12\" >0.276947</td>\n",
       "      <td id=\"T_6fb24_row8_col13\" class=\"data row8 col13\" >-0.053440</td>\n",
       "      <td id=\"T_6fb24_row8_col14\" class=\"data row8 col14\" >0.103917</td>\n",
       "      <td id=\"T_6fb24_row8_col15\" class=\"data row8 col15\" >0.084827</td>\n",
       "      <td id=\"T_6fb24_row8_col16\" class=\"data row8 col16\" >0.006157</td>\n",
       "      <td id=\"T_6fb24_row8_col17\" class=\"data row8 col17\" >-0.078400</td>\n",
       "      <td id=\"T_6fb24_row8_col18\" class=\"data row8 col18\" >0.280439</td>\n",
       "      <td id=\"T_6fb24_row8_col19\" class=\"data row8 col19\" >0.072575</td>\n",
       "    </tr>\n",
       "    <tr>\n",
       "      <th id=\"T_6fb24_level0_row9\" class=\"row_heading level0 row9\" >condition</th>\n",
       "      <td id=\"T_6fb24_row9_col0\" class=\"data row9 col0\" >-0.023783</td>\n",
       "      <td id=\"T_6fb24_row9_col1\" class=\"data row9 col1\" >0.036362</td>\n",
       "      <td id=\"T_6fb24_row9_col2\" class=\"data row9 col2\" >0.028472</td>\n",
       "      <td id=\"T_6fb24_row9_col3\" class=\"data row9 col3\" >-0.124982</td>\n",
       "      <td id=\"T_6fb24_row9_col4\" class=\"data row9 col4\" >-0.058753</td>\n",
       "      <td id=\"T_6fb24_row9_col5\" class=\"data row9 col5\" >-0.008958</td>\n",
       "      <td id=\"T_6fb24_row9_col6\" class=\"data row9 col6\" >-0.263768</td>\n",
       "      <td id=\"T_6fb24_row9_col7\" class=\"data row9 col7\" >0.016653</td>\n",
       "      <td id=\"T_6fb24_row9_col8\" class=\"data row9 col8\" >0.045990</td>\n",
       "      <td id=\"T_6fb24_row9_col9\" class=\"data row9 col9\" >1.000000</td>\n",
       "      <td id=\"T_6fb24_row9_col10\" class=\"data row9 col10\" >-0.144674</td>\n",
       "      <td id=\"T_6fb24_row9_col11\" class=\"data row9 col11\" >-0.158214</td>\n",
       "      <td id=\"T_6fb24_row9_col12\" class=\"data row9 col12\" >0.174105</td>\n",
       "      <td id=\"T_6fb24_row9_col13\" class=\"data row9 col13\" >-0.361417</td>\n",
       "      <td id=\"T_6fb24_row9_col14\" class=\"data row9 col14\" >-0.060618</td>\n",
       "      <td id=\"T_6fb24_row9_col15\" class=\"data row9 col15\" >0.003026</td>\n",
       "      <td id=\"T_6fb24_row9_col16\" class=\"data row9 col16\" >-0.014941</td>\n",
       "      <td id=\"T_6fb24_row9_col17\" class=\"data row9 col17\" >-0.106500</td>\n",
       "      <td id=\"T_6fb24_row9_col18\" class=\"data row9 col18\" >-0.092824</td>\n",
       "      <td id=\"T_6fb24_row9_col19\" class=\"data row9 col19\" >-0.003406</td>\n",
       "    </tr>\n",
       "    <tr>\n",
       "      <th id=\"T_6fb24_level0_row10\" class=\"row_heading level0 row10\" >grade</th>\n",
       "      <td id=\"T_6fb24_row10_col0\" class=\"data row10 col0\" >0.008130</td>\n",
       "      <td id=\"T_6fb24_row10_col1\" class=\"data row10 col1\" >0.667434</td>\n",
       "      <td id=\"T_6fb24_row10_col2\" class=\"data row10 col2\" >0.356967</td>\n",
       "      <td id=\"T_6fb24_row10_col3\" class=\"data row10 col3\" >0.664983</td>\n",
       "      <td id=\"T_6fb24_row10_col4\" class=\"data row10 col4\" >0.762704</td>\n",
       "      <td id=\"T_6fb24_row10_col5\" class=\"data row10 col5\" >0.113621</td>\n",
       "      <td id=\"T_6fb24_row10_col6\" class=\"data row10 col6\" >0.458183</td>\n",
       "      <td id=\"T_6fb24_row10_col7\" class=\"data row10 col7\" >0.082775</td>\n",
       "      <td id=\"T_6fb24_row10_col8\" class=\"data row10 col8\" >0.251321</td>\n",
       "      <td id=\"T_6fb24_row10_col9\" class=\"data row10 col9\" >-0.144674</td>\n",
       "      <td id=\"T_6fb24_row10_col10\" class=\"data row10 col10\" >1.000000</td>\n",
       "      <td id=\"T_6fb24_row10_col11\" class=\"data row10 col11\" >0.755923</td>\n",
       "      <td id=\"T_6fb24_row10_col12\" class=\"data row10 col12\" >0.168392</td>\n",
       "      <td id=\"T_6fb24_row10_col13\" class=\"data row10 col13\" >0.446963</td>\n",
       "      <td id=\"T_6fb24_row10_col14\" class=\"data row10 col14\" >0.014414</td>\n",
       "      <td id=\"T_6fb24_row10_col15\" class=\"data row10 col15\" >-0.184862</td>\n",
       "      <td id=\"T_6fb24_row10_col16\" class=\"data row10 col16\" >0.114084</td>\n",
       "      <td id=\"T_6fb24_row10_col17\" class=\"data row10 col17\" >0.198372</td>\n",
       "      <td id=\"T_6fb24_row10_col18\" class=\"data row10 col18\" >0.713202</td>\n",
       "      <td id=\"T_6fb24_row10_col19\" class=\"data row10 col19\" >0.119248</td>\n",
       "    </tr>\n",
       "    <tr>\n",
       "      <th id=\"T_6fb24_level0_row11\" class=\"row_heading level0 row11\" >sqft_above</th>\n",
       "      <td id=\"T_6fb24_row11_col0\" class=\"data row11 col0\" >-0.010842</td>\n",
       "      <td id=\"T_6fb24_row11_col1\" class=\"data row11 col1\" >0.605567</td>\n",
       "      <td id=\"T_6fb24_row11_col2\" class=\"data row11 col2\" >0.477600</td>\n",
       "      <td id=\"T_6fb24_row11_col3\" class=\"data row11 col3\" >0.685342</td>\n",
       "      <td id=\"T_6fb24_row11_col4\" class=\"data row11 col4\" >0.876597</td>\n",
       "      <td id=\"T_6fb24_row11_col5\" class=\"data row11 col5\" >0.183512</td>\n",
       "      <td id=\"T_6fb24_row11_col6\" class=\"data row11 col6\" >0.523885</td>\n",
       "      <td id=\"T_6fb24_row11_col7\" class=\"data row11 col7\" >0.072075</td>\n",
       "      <td id=\"T_6fb24_row11_col8\" class=\"data row11 col8\" >0.167649</td>\n",
       "      <td id=\"T_6fb24_row11_col9\" class=\"data row11 col9\" >-0.158214</td>\n",
       "      <td id=\"T_6fb24_row11_col10\" class=\"data row11 col10\" >0.755923</td>\n",
       "      <td id=\"T_6fb24_row11_col11\" class=\"data row11 col11\" >1.000000</td>\n",
       "      <td id=\"T_6fb24_row11_col12\" class=\"data row11 col12\" >-0.051943</td>\n",
       "      <td id=\"T_6fb24_row11_col13\" class=\"data row11 col13\" >0.423898</td>\n",
       "      <td id=\"T_6fb24_row11_col14\" class=\"data row11 col14\" >0.023285</td>\n",
       "      <td id=\"T_6fb24_row11_col15\" class=\"data row11 col15\" >-0.261190</td>\n",
       "      <td id=\"T_6fb24_row11_col16\" class=\"data row11 col16\" >-0.000816</td>\n",
       "      <td id=\"T_6fb24_row11_col17\" class=\"data row11 col17\" >0.343803</td>\n",
       "      <td id=\"T_6fb24_row11_col18\" class=\"data row11 col18\" >0.731870</td>\n",
       "      <td id=\"T_6fb24_row11_col19\" class=\"data row11 col19\" >0.194050</td>\n",
       "    </tr>\n",
       "    <tr>\n",
       "      <th id=\"T_6fb24_level0_row12\" class=\"row_heading level0 row12\" >sqft_basement</th>\n",
       "      <td id=\"T_6fb24_row12_col0\" class=\"data row12 col0\" >-0.005151</td>\n",
       "      <td id=\"T_6fb24_row12_col1\" class=\"data row12 col1\" >0.323816</td>\n",
       "      <td id=\"T_6fb24_row12_col2\" class=\"data row12 col2\" >0.303093</td>\n",
       "      <td id=\"T_6fb24_row12_col3\" class=\"data row12 col3\" >0.283770</td>\n",
       "      <td id=\"T_6fb24_row12_col4\" class=\"data row12 col4\" >0.435043</td>\n",
       "      <td id=\"T_6fb24_row12_col5\" class=\"data row12 col5\" >0.015286</td>\n",
       "      <td id=\"T_6fb24_row12_col6\" class=\"data row12 col6\" >-0.245705</td>\n",
       "      <td id=\"T_6fb24_row12_col7\" class=\"data row12 col7\" >0.080588</td>\n",
       "      <td id=\"T_6fb24_row12_col8\" class=\"data row12 col8\" >0.276947</td>\n",
       "      <td id=\"T_6fb24_row12_col9\" class=\"data row12 col9\" >0.174105</td>\n",
       "      <td id=\"T_6fb24_row12_col10\" class=\"data row12 col10\" >0.168392</td>\n",
       "      <td id=\"T_6fb24_row12_col11\" class=\"data row12 col11\" >-0.051943</td>\n",
       "      <td id=\"T_6fb24_row12_col12\" class=\"data row12 col12\" >1.000000</td>\n",
       "      <td id=\"T_6fb24_row12_col13\" class=\"data row12 col13\" >-0.133124</td>\n",
       "      <td id=\"T_6fb24_row12_col14\" class=\"data row12 col14\" >0.071323</td>\n",
       "      <td id=\"T_6fb24_row12_col15\" class=\"data row12 col15\" >0.074845</td>\n",
       "      <td id=\"T_6fb24_row12_col16\" class=\"data row12 col16\" >0.110538</td>\n",
       "      <td id=\"T_6fb24_row12_col17\" class=\"data row12 col17\" >-0.144765</td>\n",
       "      <td id=\"T_6fb24_row12_col18\" class=\"data row12 col18\" >0.200355</td>\n",
       "      <td id=\"T_6fb24_row12_col19\" class=\"data row12 col19\" >0.017276</td>\n",
       "    </tr>\n",
       "    <tr>\n",
       "      <th id=\"T_6fb24_level0_row13\" class=\"row_heading level0 row13\" >yr_built</th>\n",
       "      <td id=\"T_6fb24_row13_col0\" class=\"data row13 col0\" >0.021380</td>\n",
       "      <td id=\"T_6fb24_row13_col1\" class=\"data row13 col1\" >0.054012</td>\n",
       "      <td id=\"T_6fb24_row13_col2\" class=\"data row13 col2\" >0.154178</td>\n",
       "      <td id=\"T_6fb24_row13_col3\" class=\"data row13 col3\" >0.506019</td>\n",
       "      <td id=\"T_6fb24_row13_col4\" class=\"data row13 col4\" >0.318049</td>\n",
       "      <td id=\"T_6fb24_row13_col5\" class=\"data row13 col5\" >0.053080</td>\n",
       "      <td id=\"T_6fb24_row13_col6\" class=\"data row13 col6\" >0.489319</td>\n",
       "      <td id=\"T_6fb24_row13_col7\" class=\"data row13 col7\" >-0.026161</td>\n",
       "      <td id=\"T_6fb24_row13_col8\" class=\"data row13 col8\" >-0.053440</td>\n",
       "      <td id=\"T_6fb24_row13_col9\" class=\"data row13 col9\" >-0.361417</td>\n",
       "      <td id=\"T_6fb24_row13_col10\" class=\"data row13 col10\" >0.446963</td>\n",
       "      <td id=\"T_6fb24_row13_col11\" class=\"data row13 col11\" >0.423898</td>\n",
       "      <td id=\"T_6fb24_row13_col12\" class=\"data row13 col12\" >-0.133124</td>\n",
       "      <td id=\"T_6fb24_row13_col13\" class=\"data row13 col13\" >1.000000</td>\n",
       "      <td id=\"T_6fb24_row13_col14\" class=\"data row13 col14\" >-0.224874</td>\n",
       "      <td id=\"T_6fb24_row13_col15\" class=\"data row13 col15\" >-0.346869</td>\n",
       "      <td id=\"T_6fb24_row13_col16\" class=\"data row13 col16\" >-0.148122</td>\n",
       "      <td id=\"T_6fb24_row13_col17\" class=\"data row13 col17\" >0.409356</td>\n",
       "      <td id=\"T_6fb24_row13_col18\" class=\"data row13 col18\" >0.326229</td>\n",
       "      <td id=\"T_6fb24_row13_col19\" class=\"data row13 col19\" >0.070958</td>\n",
       "    </tr>\n",
       "    <tr>\n",
       "      <th id=\"T_6fb24_level0_row14\" class=\"row_heading level0 row14\" >yr_renovated</th>\n",
       "      <td id=\"T_6fb24_row14_col0\" class=\"data row14 col0\" >-0.016907</td>\n",
       "      <td id=\"T_6fb24_row14_col1\" class=\"data row14 col1\" >0.126434</td>\n",
       "      <td id=\"T_6fb24_row14_col2\" class=\"data row14 col2\" >0.018841</td>\n",
       "      <td id=\"T_6fb24_row14_col3\" class=\"data row14 col3\" >0.050739</td>\n",
       "      <td id=\"T_6fb24_row14_col4\" class=\"data row14 col4\" >0.055363</td>\n",
       "      <td id=\"T_6fb24_row14_col5\" class=\"data row14 col5\" >0.007644</td>\n",
       "      <td id=\"T_6fb24_row14_col6\" class=\"data row14 col6\" >0.006338</td>\n",
       "      <td id=\"T_6fb24_row14_col7\" class=\"data row14 col7\" >0.092885</td>\n",
       "      <td id=\"T_6fb24_row14_col8\" class=\"data row14 col8\" >0.103917</td>\n",
       "      <td id=\"T_6fb24_row14_col9\" class=\"data row14 col9\" >-0.060618</td>\n",
       "      <td id=\"T_6fb24_row14_col10\" class=\"data row14 col10\" >0.014414</td>\n",
       "      <td id=\"T_6fb24_row14_col11\" class=\"data row14 col11\" >0.023285</td>\n",
       "      <td id=\"T_6fb24_row14_col12\" class=\"data row14 col12\" >0.071323</td>\n",
       "      <td id=\"T_6fb24_row14_col13\" class=\"data row14 col13\" >-0.224874</td>\n",
       "      <td id=\"T_6fb24_row14_col14\" class=\"data row14 col14\" >1.000000</td>\n",
       "      <td id=\"T_6fb24_row14_col15\" class=\"data row14 col15\" >0.064357</td>\n",
       "      <td id=\"T_6fb24_row14_col16\" class=\"data row14 col16\" >0.029398</td>\n",
       "      <td id=\"T_6fb24_row14_col17\" class=\"data row14 col17\" >-0.068372</td>\n",
       "      <td id=\"T_6fb24_row14_col18\" class=\"data row14 col18\" >-0.002673</td>\n",
       "      <td id=\"T_6fb24_row14_col19\" class=\"data row14 col19\" >0.007854</td>\n",
       "    </tr>\n",
       "    <tr>\n",
       "      <th id=\"T_6fb24_level0_row15\" class=\"row_heading level0 row15\" >zipcode</th>\n",
       "      <td id=\"T_6fb24_row15_col0\" class=\"data row15 col0\" >-0.008224</td>\n",
       "      <td id=\"T_6fb24_row15_col1\" class=\"data row15 col1\" >-0.053203</td>\n",
       "      <td id=\"T_6fb24_row15_col2\" class=\"data row15 col2\" >-0.152668</td>\n",
       "      <td id=\"T_6fb24_row15_col3\" class=\"data row15 col3\" >-0.203866</td>\n",
       "      <td id=\"T_6fb24_row15_col4\" class=\"data row15 col4\" >-0.199430</td>\n",
       "      <td id=\"T_6fb24_row15_col5\" class=\"data row15 col5\" >-0.129574</td>\n",
       "      <td id=\"T_6fb24_row15_col6\" class=\"data row15 col6\" >-0.059121</td>\n",
       "      <td id=\"T_6fb24_row15_col7\" class=\"data row15 col7\" >0.030285</td>\n",
       "      <td id=\"T_6fb24_row15_col8\" class=\"data row15 col8\" >0.084827</td>\n",
       "      <td id=\"T_6fb24_row15_col9\" class=\"data row15 col9\" >0.003026</td>\n",
       "      <td id=\"T_6fb24_row15_col10\" class=\"data row15 col10\" >-0.184862</td>\n",
       "      <td id=\"T_6fb24_row15_col11\" class=\"data row15 col11\" >-0.261190</td>\n",
       "      <td id=\"T_6fb24_row15_col12\" class=\"data row15 col12\" >0.074845</td>\n",
       "      <td id=\"T_6fb24_row15_col13\" class=\"data row15 col13\" >-0.346869</td>\n",
       "      <td id=\"T_6fb24_row15_col14\" class=\"data row15 col14\" >0.064357</td>\n",
       "      <td id=\"T_6fb24_row15_col15\" class=\"data row15 col15\" >1.000000</td>\n",
       "      <td id=\"T_6fb24_row15_col16\" class=\"data row15 col16\" >0.267048</td>\n",
       "      <td id=\"T_6fb24_row15_col17\" class=\"data row15 col17\" >-0.564072</td>\n",
       "      <td id=\"T_6fb24_row15_col18\" class=\"data row15 col18\" >-0.279033</td>\n",
       "      <td id=\"T_6fb24_row15_col19\" class=\"data row15 col19\" >-0.147221</td>\n",
       "    </tr>\n",
       "    <tr>\n",
       "      <th id=\"T_6fb24_level0_row16\" class=\"row_heading level0 row16\" >lat</th>\n",
       "      <td id=\"T_6fb24_row16_col0\" class=\"data row16 col0\" >-0.001891</td>\n",
       "      <td id=\"T_6fb24_row16_col1\" class=\"data row16 col1\" >0.307003</td>\n",
       "      <td id=\"T_6fb24_row16_col2\" class=\"data row16 col2\" >-0.008931</td>\n",
       "      <td id=\"T_6fb24_row16_col3\" class=\"data row16 col3\" >0.024573</td>\n",
       "      <td id=\"T_6fb24_row16_col4\" class=\"data row16 col4\" >0.052529</td>\n",
       "      <td id=\"T_6fb24_row16_col5\" class=\"data row16 col5\" >-0.085683</td>\n",
       "      <td id=\"T_6fb24_row16_col6\" class=\"data row16 col6\" >0.049614</td>\n",
       "      <td id=\"T_6fb24_row16_col7\" class=\"data row16 col7\" >-0.014274</td>\n",
       "      <td id=\"T_6fb24_row16_col8\" class=\"data row16 col8\" >0.006157</td>\n",
       "      <td id=\"T_6fb24_row16_col9\" class=\"data row16 col9\" >-0.014941</td>\n",
       "      <td id=\"T_6fb24_row16_col10\" class=\"data row16 col10\" >0.114084</td>\n",
       "      <td id=\"T_6fb24_row16_col11\" class=\"data row16 col11\" >-0.000816</td>\n",
       "      <td id=\"T_6fb24_row16_col12\" class=\"data row16 col12\" >0.110538</td>\n",
       "      <td id=\"T_6fb24_row16_col13\" class=\"data row16 col13\" >-0.148122</td>\n",
       "      <td id=\"T_6fb24_row16_col14\" class=\"data row16 col14\" >0.029398</td>\n",
       "      <td id=\"T_6fb24_row16_col15\" class=\"data row16 col15\" >0.267048</td>\n",
       "      <td id=\"T_6fb24_row16_col16\" class=\"data row16 col16\" >1.000000</td>\n",
       "      <td id=\"T_6fb24_row16_col17\" class=\"data row16 col17\" >-0.135512</td>\n",
       "      <td id=\"T_6fb24_row16_col18\" class=\"data row16 col18\" >0.048858</td>\n",
       "      <td id=\"T_6fb24_row16_col19\" class=\"data row16 col19\" >-0.086419</td>\n",
       "    </tr>\n",
       "    <tr>\n",
       "      <th id=\"T_6fb24_level0_row17\" class=\"row_heading level0 row17\" >long</th>\n",
       "      <td id=\"T_6fb24_row17_col0\" class=\"data row17 col0\" >0.020799</td>\n",
       "      <td id=\"T_6fb24_row17_col1\" class=\"data row17 col1\" >0.021626</td>\n",
       "      <td id=\"T_6fb24_row17_col2\" class=\"data row17 col2\" >0.129473</td>\n",
       "      <td id=\"T_6fb24_row17_col3\" class=\"data row17 col3\" >0.223042</td>\n",
       "      <td id=\"T_6fb24_row17_col4\" class=\"data row17 col4\" >0.240223</td>\n",
       "      <td id=\"T_6fb24_row17_col5\" class=\"data row17 col5\" >0.229521</td>\n",
       "      <td id=\"T_6fb24_row17_col6\" class=\"data row17 col6\" >0.125419</td>\n",
       "      <td id=\"T_6fb24_row17_col7\" class=\"data row17 col7\" >-0.041910</td>\n",
       "      <td id=\"T_6fb24_row17_col8\" class=\"data row17 col8\" >-0.078400</td>\n",
       "      <td id=\"T_6fb24_row17_col9\" class=\"data row17 col9\" >-0.106500</td>\n",
       "      <td id=\"T_6fb24_row17_col10\" class=\"data row17 col10\" >0.198372</td>\n",
       "      <td id=\"T_6fb24_row17_col11\" class=\"data row17 col11\" >0.343803</td>\n",
       "      <td id=\"T_6fb24_row17_col12\" class=\"data row17 col12\" >-0.144765</td>\n",
       "      <td id=\"T_6fb24_row17_col13\" class=\"data row17 col13\" >0.409356</td>\n",
       "      <td id=\"T_6fb24_row17_col14\" class=\"data row17 col14\" >-0.068372</td>\n",
       "      <td id=\"T_6fb24_row17_col15\" class=\"data row17 col15\" >-0.564072</td>\n",
       "      <td id=\"T_6fb24_row17_col16\" class=\"data row17 col16\" >-0.135512</td>\n",
       "      <td id=\"T_6fb24_row17_col17\" class=\"data row17 col17\" >1.000000</td>\n",
       "      <td id=\"T_6fb24_row17_col18\" class=\"data row17 col18\" >0.334605</td>\n",
       "      <td id=\"T_6fb24_row17_col19\" class=\"data row17 col19\" >0.254451</td>\n",
       "    </tr>\n",
       "    <tr>\n",
       "      <th id=\"T_6fb24_level0_row18\" class=\"row_heading level0 row18\" >sqft_living15</th>\n",
       "      <td id=\"T_6fb24_row18_col0\" class=\"data row18 col0\" >-0.002901</td>\n",
       "      <td id=\"T_6fb24_row18_col1\" class=\"data row18 col1\" >0.585379</td>\n",
       "      <td id=\"T_6fb24_row18_col2\" class=\"data row18 col2\" >0.391638</td>\n",
       "      <td id=\"T_6fb24_row18_col3\" class=\"data row18 col3\" >0.568634</td>\n",
       "      <td id=\"T_6fb24_row18_col4\" class=\"data row18 col4\" >0.756420</td>\n",
       "      <td id=\"T_6fb24_row18_col5\" class=\"data row18 col5\" >0.144608</td>\n",
       "      <td id=\"T_6fb24_row18_col6\" class=\"data row18 col6\" >0.279885</td>\n",
       "      <td id=\"T_6fb24_row18_col7\" class=\"data row18 col7\" >0.086463</td>\n",
       "      <td id=\"T_6fb24_row18_col8\" class=\"data row18 col8\" >0.280439</td>\n",
       "      <td id=\"T_6fb24_row18_col9\" class=\"data row18 col9\" >-0.092824</td>\n",
       "      <td id=\"T_6fb24_row18_col10\" class=\"data row18 col10\" >0.713202</td>\n",
       "      <td id=\"T_6fb24_row18_col11\" class=\"data row18 col11\" >0.731870</td>\n",
       "      <td id=\"T_6fb24_row18_col12\" class=\"data row18 col12\" >0.200355</td>\n",
       "      <td id=\"T_6fb24_row18_col13\" class=\"data row18 col13\" >0.326229</td>\n",
       "      <td id=\"T_6fb24_row18_col14\" class=\"data row18 col14\" >-0.002673</td>\n",
       "      <td id=\"T_6fb24_row18_col15\" class=\"data row18 col15\" >-0.279033</td>\n",
       "      <td id=\"T_6fb24_row18_col16\" class=\"data row18 col16\" >0.048858</td>\n",
       "      <td id=\"T_6fb24_row18_col17\" class=\"data row18 col17\" >0.334605</td>\n",
       "      <td id=\"T_6fb24_row18_col18\" class=\"data row18 col18\" >1.000000</td>\n",
       "      <td id=\"T_6fb24_row18_col19\" class=\"data row18 col19\" >0.183192</td>\n",
       "    </tr>\n",
       "    <tr>\n",
       "      <th id=\"T_6fb24_level0_row19\" class=\"row_heading level0 row19\" >sqft_lot15</th>\n",
       "      <td id=\"T_6fb24_row19_col0\" class=\"data row19 col0\" >-0.138798</td>\n",
       "      <td id=\"T_6fb24_row19_col1\" class=\"data row19 col1\" >0.082447</td>\n",
       "      <td id=\"T_6fb24_row19_col2\" class=\"data row19 col2\" >0.029244</td>\n",
       "      <td id=\"T_6fb24_row19_col3\" class=\"data row19 col3\" >0.087175</td>\n",
       "      <td id=\"T_6fb24_row19_col4\" class=\"data row19 col4\" >0.183286</td>\n",
       "      <td id=\"T_6fb24_row19_col5\" class=\"data row19 col5\" >0.718557</td>\n",
       "      <td id=\"T_6fb24_row19_col6\" class=\"data row19 col6\" >-0.011269</td>\n",
       "      <td id=\"T_6fb24_row19_col7\" class=\"data row19 col7\" >0.030703</td>\n",
       "      <td id=\"T_6fb24_row19_col8\" class=\"data row19 col8\" >0.072575</td>\n",
       "      <td id=\"T_6fb24_row19_col9\" class=\"data row19 col9\" >-0.003406</td>\n",
       "      <td id=\"T_6fb24_row19_col10\" class=\"data row19 col10\" >0.119248</td>\n",
       "      <td id=\"T_6fb24_row19_col11\" class=\"data row19 col11\" >0.194050</td>\n",
       "      <td id=\"T_6fb24_row19_col12\" class=\"data row19 col12\" >0.017276</td>\n",
       "      <td id=\"T_6fb24_row19_col13\" class=\"data row19 col13\" >0.070958</td>\n",
       "      <td id=\"T_6fb24_row19_col14\" class=\"data row19 col14\" >0.007854</td>\n",
       "      <td id=\"T_6fb24_row19_col15\" class=\"data row19 col15\" >-0.147221</td>\n",
       "      <td id=\"T_6fb24_row19_col16\" class=\"data row19 col16\" >-0.086419</td>\n",
       "      <td id=\"T_6fb24_row19_col17\" class=\"data row19 col17\" >0.254451</td>\n",
       "      <td id=\"T_6fb24_row19_col18\" class=\"data row19 col18\" >0.183192</td>\n",
       "      <td id=\"T_6fb24_row19_col19\" class=\"data row19 col19\" >1.000000</td>\n",
       "    </tr>\n",
       "  </tbody>\n",
       "</table>\n"
      ],
      "text/plain": [
       "<pandas.io.formats.style.Styler at 0x280e72340>"
      ]
     },
     "execution_count": 11,
     "metadata": {},
     "output_type": "execute_result"
    }
   ],
   "source": [
    "data.corr().style.background_gradient(cmap='coolwarm')"
   ]
  },
  {
   "cell_type": "markdown",
   "metadata": {
    "id": "fa_bK9hSKFqe"
   },
   "source": [
    "The Correlation Heatmap between the features of the dataset indicates correlation between the price attribute and the following :\n",
    "\n",
    "**sqft_living**\n",
    "It represents the total sum of the living area above the ground and the basement and it is only logical that the higher the area the higher the price.\n",
    "\n",
    "**sqft_above**\n",
    "The area above ground is related to the living area as well as the price.\n",
    "\n",
    "**bathrooms**\n",
    "The number of bathrooms seems to correlate with the price.\n",
    "\n",
    "**Grade**\n",
    "The higher the grade of the building implies that the quality and standard of construction is high and hence a a higher price."
   ]
  },
  {
   "cell_type": "markdown",
   "metadata": {
    "id": "glXdY0WUNO17"
   },
   "source": [
    "## Date"
   ]
  },
  {
   "cell_type": "markdown",
   "metadata": {
    "id": "lVKHDTFBNXp8"
   },
   "source": [
    "This variable represents the date of selling the house. In this case we will focus only on the year as it plays an important role in \n",
    "the price of the property. \n",
    "We will extract the year from this variable and store it in another variable called 'year_purchased'"
   ]
  },
  {
   "cell_type": "code",
   "execution_count": 12,
   "metadata": {
    "id": "CL2oljGzN6k9"
   },
   "outputs": [],
   "source": [
    "date = data['date']\n",
    "for i in range(len(data)):\n",
    "    data.loc[i, 'year_purchased'] = data['date'][i][:4]\n"
   ]
  },
  {
   "cell_type": "code",
   "execution_count": 13,
   "metadata": {
    "colab": {
     "base_uri": "https://localhost:8080/",
     "height": 313
    },
    "id": "n7ZjcajLSiFT",
    "outputId": "c3e2d0b1-4fd1-40f9-8671-9c08cdd2ff84"
   },
   "outputs": [
    {
     "data": {
      "text/plain": [
       "<AxesSubplot:title={'center':'Price by year'}, xlabel='year_purchased', ylabel='price'>"
      ]
     },
     "execution_count": 13,
     "metadata": {},
     "output_type": "execute_result"
    },
    {
     "data": {
      "image/png": "[encoded data removed]",
      "text/plain": [
       "<Figure size 720x288 with 1 Axes>"
      ]
     },
     "metadata": {
      "needs_background": "light"
     },
     "output_type": "display_data"
    }
   ],
   "source": [
    "plt.figure(figsize=(10,4))\n",
    "plt.title(\"Price by year\")\n",
    "sns.lineplot(data=data, x='year_purchased', y='price', palette='Set1')"
   ]
  },
  {
   "cell_type": "markdown",
   "metadata": {
    "id": "EtppcNEzS1hB"
   },
   "source": [
    "The above plot confirms the fact that the house prices are correlated to the year of purchase which is evident by the increase in prices from 2014 to 2015"
   ]
  },
  {
   "cell_type": "markdown",
   "metadata": {
    "id": "l6LdH1vcOIOS"
   },
   "source": [
    "## Bathrooms"
   ]
  },
  {
   "cell_type": "code",
   "execution_count": 14,
   "metadata": {
    "colab": {
     "base_uri": "https://localhost:8080/",
     "height": 307
    },
    "id": "pnBnRNZdVjFL",
    "outputId": "c9d029a0-995b-4593-c7f4-52207d7e86c6"
   },
   "outputs": [
    {
     "data": {
      "text/plain": [
       "<AxesSubplot:xlabel='bathrooms', ylabel='price'>"
      ]
     },
     "execution_count": 14,
     "metadata": {},
     "output_type": "execute_result"
    },
    {
     "data": {
      "image/png": "[encoded data removed]",
      "text/plain": [
       "<Figure size 1008x288 with 1 Axes>"
      ]
     },
     "metadata": {
      "needs_background": "light"
     },
     "output_type": "display_data"
    }
   ],
   "source": [
    "plt.figure(figsize=(14,4))\n",
    "sns.boxplot(x='bathrooms',y='price',data=data)"
   ]
  },
  {
   "cell_type": "code",
   "execution_count": 15,
   "metadata": {
    "colab": {
     "base_uri": "https://localhost:8080/"
    },
    "id": "Oa84fcJCPbcX",
    "outputId": "6eeaa0d5-c041-434a-edc3-e49cd5931a4b"
   },
   "outputs": [
    {
     "data": {
      "text/plain": [
       "2.50    5380\n",
       "1.00    3852\n",
       "1.75    3048\n",
       "2.25    2047\n",
       "2.00    1930\n",
       "1.50    1446\n",
       "2.75    1185\n",
       "3.00     753\n",
       "3.50     731\n",
       "3.25     589\n",
       "3.75     155\n",
       "4.00     136\n",
       "4.50     100\n",
       "4.25      79\n",
       "0.75      72\n",
       "4.75      23\n",
       "5.00      21\n",
       "5.25      13\n",
       "0.00      10\n",
       "5.50      10\n",
       "1.25       9\n",
       "6.00       6\n",
       "0.50       4\n",
       "5.75       4\n",
       "6.75       2\n",
       "8.00       2\n",
       "6.25       2\n",
       "6.50       2\n",
       "7.50       1\n",
       "7.75       1\n",
       "Name: bathrooms, dtype: int64"
      ]
     },
     "execution_count": 15,
     "metadata": {},
     "output_type": "execute_result"
    }
   ],
   "source": [
    "data['bathrooms'].value_counts()"
   ]
  },
  {
   "cell_type": "code",
   "execution_count": 16,
   "metadata": {
    "colab": {
     "base_uri": "https://localhost:8080/",
     "height": 350
    },
    "id": "Zd-ajUTmYqtB",
    "outputId": "e5cf59f9-536b-433b-dbdf-5b4a7e1efc8c"
   },
   "outputs": [
    {
     "name": "stderr",
     "output_type": "stream",
     "text": [
      "/Users/rezatabriz/miniforge3/envs/tensorflow/lib/python3.9/site-packages/seaborn/_decorators.py:36: FutureWarning: Pass the following variable as a keyword arg: x. From version 0.12, the only valid positional argument will be `data`, and passing other arguments without an explicit keyword will result in an error or misinterpretation.\n",
      "  warnings.warn(\n"
     ]
    },
    {
     "data": {
      "text/plain": [
       "<AxesSubplot:xlabel='bathrooms'>"
      ]
     },
     "execution_count": 16,
     "metadata": {},
     "output_type": "execute_result"
    },
    {
     "data": {
      "image/png": "[encoded data removed]",
      "text/plain": [
       "<Figure size 432x288 with 1 Axes>"
      ]
     },
     "metadata": {
      "needs_background": "light"
     },
     "output_type": "display_data"
    }
   ],
   "source": [
    "sns.boxplot(data['bathrooms'])"
   ]
  },
  {
   "cell_type": "markdown",
   "metadata": {
    "id": "BuGf9i39QZtm"
   },
   "source": [
    "From the above we see that there are a number of 0 or missing values and in addition to that we also have numbers below one which doesnt make sense so we delete all the instances which have the number of bathrooms as less than 1. We shall keep the outliers presents as they have valuable information about the large houses and luxury houses.\n",
    "The correlation heat map suggests that this variable seems to be highly correlated to bedrooms, floors, sqft_living, grade, sqft_above and sqft_above15 and so to tackle this problem we will do some feature engineering in the later stages."
   ]
  },
  {
   "cell_type": "code",
   "execution_count": 17,
   "metadata": {
    "id": "87UaG7_IQ1sH"
   },
   "outputs": [],
   "source": [
    "data.drop(data[data['bathrooms'] < 1].index, axis = 0, inplace = True)"
   ]
  },
  {
   "cell_type": "markdown",
   "metadata": {
    "id": "oQ1np5ydQ6i9"
   },
   "source": [
    "## Bedrooms"
   ]
  },
  {
   "cell_type": "code",
   "execution_count": 18,
   "metadata": {
    "colab": {
     "base_uri": "https://localhost:8080/",
     "height": 307
    },
    "id": "X5lcC0K-VYNa",
    "outputId": "3f47f01c-b18a-4d85-8c1e-7ed0147ad400"
   },
   "outputs": [
    {
     "data": {
      "text/plain": [
       "<AxesSubplot:xlabel='bedrooms', ylabel='price'>"
      ]
     },
     "execution_count": 18,
     "metadata": {},
     "output_type": "execute_result"
    },
    {
     "data": {
      "image/png": "[encoded data removed]",
      "text/plain": [
       "<Figure size 576x288 with 1 Axes>"
      ]
     },
     "metadata": {
      "needs_background": "light"
     },
     "output_type": "display_data"
    }
   ],
   "source": [
    "plt.figure(figsize=(8,4))\n",
    "sns.boxplot(x='bedrooms',y='price',data=data)"
   ]
  },
  {
   "cell_type": "code",
   "execution_count": 19,
   "metadata": {
    "colab": {
     "base_uri": "https://localhost:8080/"
    },
    "id": "X600GcVXR2q4",
    "outputId": "df7e631d-6064-43ac-db98-367cc10bce30"
   },
   "outputs": [
    {
     "data": {
      "text/plain": [
       "3     9808\n",
       "4     6879\n",
       "2     2732\n",
       "5     1601\n",
       "6      272\n",
       "1      168\n",
       "7       38\n",
       "8       13\n",
       "9        6\n",
       "0        5\n",
       "10       3\n",
       "11       1\n",
       "33       1\n",
       "Name: bedrooms, dtype: int64"
      ]
     },
     "execution_count": 19,
     "metadata": {},
     "output_type": "execute_result"
    }
   ],
   "source": [
    "data['bedrooms'].value_counts()"
   ]
  },
  {
   "cell_type": "code",
   "execution_count": 20,
   "metadata": {
    "colab": {
     "base_uri": "https://localhost:8080/",
     "height": 350
    },
    "id": "2Rkc4tRkTmka",
    "outputId": "444d02d7-6c4d-4fca-c26e-1e7aa1aae9d6"
   },
   "outputs": [
    {
     "name": "stderr",
     "output_type": "stream",
     "text": [
      "/Users/rezatabriz/miniforge3/envs/tensorflow/lib/python3.9/site-packages/seaborn/_decorators.py:36: FutureWarning: Pass the following variable as a keyword arg: x. From version 0.12, the only valid positional argument will be `data`, and passing other arguments without an explicit keyword will result in an error or misinterpretation.\n",
      "  warnings.warn(\n"
     ]
    },
    {
     "data": {
      "text/plain": [
       "<AxesSubplot:xlabel='bedrooms'>"
      ]
     },
     "execution_count": 20,
     "metadata": {},
     "output_type": "execute_result"
    },
    {
     "data": {
      "image/png": "[encoded data removed]",
      "text/plain": [
       "<Figure size 432x288 with 1 Axes>"
      ]
     },
     "metadata": {
      "needs_background": "light"
     },
     "output_type": "display_data"
    }
   ],
   "source": [
    "sns.boxplot(data['bedrooms'])"
   ]
  },
  {
   "cell_type": "markdown",
   "metadata": {
    "id": "S3mHsPCnR-0u"
   },
   "source": [
    "The bedrooms also seem to have some anomalous data which is 33, 11 and a few other outliers.\n",
    "To solve this problem we will delete the instances which are greater than 10.\n",
    "Here we make the assumption that zero values represent studio apartments and so we will not delete these."
   ]
  },
  {
   "cell_type": "code",
   "execution_count": 21,
   "metadata": {
    "id": "iaaoiUi3UMgX"
   },
   "outputs": [],
   "source": [
    "data.drop(data[data['bedrooms'] >= 11].index, axis = 0, inplace = True)"
   ]
  },
  {
   "cell_type": "markdown",
   "metadata": {
    "id": "9LZrNUkTUUCM"
   },
   "source": [
    "## Floors"
   ]
  },
  {
   "cell_type": "code",
   "execution_count": 22,
   "metadata": {
    "colab": {
     "base_uri": "https://localhost:8080/",
     "height": 307
    },
    "id": "SJ6iXphZVeAb",
    "outputId": "aae43dd6-6353-482e-d385-5dea760ff7c4"
   },
   "outputs": [
    {
     "data": {
      "text/plain": [
       "<AxesSubplot:xlabel='floors', ylabel='price'>"
      ]
     },
     "execution_count": 22,
     "metadata": {},
     "output_type": "execute_result"
    },
    {
     "data": {
      "image/png": "[encoded data removed]",
      "text/plain": [
       "<Figure size 576x288 with 1 Axes>"
      ]
     },
     "metadata": {
      "needs_background": "light"
     },
     "output_type": "display_data"
    }
   ],
   "source": [
    "plt.figure(figsize=(8,4))\n",
    "sns.boxplot(x='floors',y='price',data=data)"
   ]
  },
  {
   "cell_type": "markdown",
   "metadata": {
    "id": "yrQiHRvvU9zy"
   },
   "source": [
    "Floors variable doesnt seem to have much effect on the way houses are priced as is shown in the boxplots. The price range for houses with one room is almost the same as that with two rooms. We will create a new variable usiing floors, bedrooms and bathrooms in an attempt tp reduce the multicolinearity of the bedrooms and bathrooms"
   ]
  },
  {
   "cell_type": "code",
   "execution_count": 23,
   "metadata": {
    "id": "FYdC9bgIVTKo"
   },
   "outputs": [],
   "source": [
    "# Combining bathrooms and bedrooms\n",
    "data['bath/floor'] = data['bathrooms'] / data['floors']\n",
    "data['bedrooms/bath'] = data['bedrooms']/data['bathrooms']\n",
    "data.drop(data[data['bedrooms/bath'] == np.inf].index, axis = 0, inplace = True)\n",
    "data.drop(data[data['bath/floor'] == np.inf].index, axis = 0, inplace = True)"
   ]
  },
  {
   "cell_type": "markdown",
   "metadata": {
    "id": "dPvwBn67WcBO"
   },
   "source": [
    "## Grade"
   ]
  },
  {
   "cell_type": "code",
   "execution_count": 24,
   "metadata": {
    "colab": {
     "base_uri": "https://localhost:8080/",
     "height": 307
    },
    "id": "l0Dxa_9DVzgB",
    "outputId": "c1bcd941-f60f-4082-c0d8-771d6294428e"
   },
   "outputs": [
    {
     "data": {
      "text/plain": [
       "<AxesSubplot:xlabel='grade', ylabel='price'>"
      ]
     },
     "execution_count": 24,
     "metadata": {},
     "output_type": "execute_result"
    },
    {
     "data": {
      "image/png": "[encoded data removed]",
      "text/plain": [
       "<Figure size 576x288 with 1 Axes>"
      ]
     },
     "metadata": {
      "needs_background": "light"
     },
     "output_type": "display_data"
    }
   ],
   "source": [
    "plt.figure(figsize=(8,4))\n",
    "sns.boxplot(x='grade', y='price', data=data)"
   ]
  },
  {
   "cell_type": "markdown",
   "metadata": {
    "id": "2HC3F7epWzCy"
   },
   "source": [
    "The grade of the building seems to have an impact on the cost of a house which is shown by the increasing level of the median for each category. But at the same time it is also highly correlated to the sqft_above variable (77%) we will try to modify this a bit in an attempt to reduce its multicolinearity.\n",
    "In the modified attribute:\n",
    "\n",
    "*1* : Bad quality\n",
    "\n",
    "*2* : Below average\n",
    "\n",
    "*3* : Good \n",
    "\n",
    "*4* : Best"
   ]
  },
  {
   "cell_type": "code",
   "execution_count": 25,
   "metadata": {
    "colab": {
     "base_uri": "https://localhost:8080/"
    },
    "id": "yg7uCorSXNZS",
    "outputId": "ba608583-9280-46d9-af1c-fa8f813c6a32"
   },
   "outputs": [
    {
     "data": {
      "text/plain": [
       "0    1\n",
       "1    1\n",
       "2    1\n",
       "3    1\n",
       "4    2\n",
       "Name: grade, dtype: int64"
      ]
     },
     "execution_count": 25,
     "metadata": {},
     "output_type": "execute_result"
    }
   ],
   "source": [
    "for i in range(13):\n",
    "  if i == 13:\n",
    "    break\n",
    "  if i+1 <= 3: \n",
    "    data.loc[data['grade'] == i+1, 'grade'] = 0\n",
    "\n",
    "  if i+1 <= 7 and i+1 > 3: \n",
    "    data.loc[data['grade'] == i+1, 'grade'] = 1\n",
    "\n",
    "  if i+1 <= 11 and i+1 > 7: \n",
    "    data.loc[data['grade'] == i+1, 'grade'] = 2\n",
    "\n",
    "  if i+1 <= 13 and i+1 > 11: \n",
    "    data.loc[data['grade'] == i+1, 'grade'] = 3\n",
    "data['grade'].head()"
   ]
  },
  {
   "cell_type": "markdown",
   "metadata": {
    "id": "NEG5O1OQXV-R"
   },
   "source": [
    "Here we modified the values such that the 0 represents bad construction, 1 is below average , 2 is above average and 3 stands for best quality of construction and design"
   ]
  },
  {
   "cell_type": "markdown",
   "metadata": {
    "id": "dHqwccgWXwiA"
   },
   "source": [
    "## Year renovated\n",
    "It is common knowlege that a newly renovated house would cost more that a house that was renovated years back and so we convert this attribute into an ordinal form with values ranging from 0 to 7 depending on which year it was renovated."
   ]
  },
  {
   "cell_type": "code",
   "execution_count": 26,
   "metadata": {
    "id": "NEz0J6wRYT5B"
   },
   "outputs": [],
   "source": [
    "data.loc[data['yr_renovated'] < 2015, 'new_renovated'] = 7\n",
    "data.loc[data['yr_renovated'] < 2005, 'new_renovated'] = 6\n",
    "data.loc[data['yr_renovated'] < 1995, 'new_renovated'] = 5\n",
    "data.loc[data['yr_renovated'] < 1985, 'new_renovated'] = 4\n",
    "data.loc[data['yr_renovated'] < 1975, 'new_renovated'] = 3\n",
    "data.loc[data['yr_renovated'] < 1965, 'new_renovated'] = 2\n",
    "data.loc[data['yr_renovated'] < 1955, 'new_renovated'] = 1\n",
    "data.loc[data['yr_renovated'] < 1945, 'new_renovated'] = 0"
   ]
  },
  {
   "cell_type": "markdown",
   "metadata": {
    "id": "vM9gDkJkauge"
   },
   "source": [
    "### Waterfront and view\n",
    "* Houses with a waterfront tend to have a higher value compared to those that dont indicated by the higher price median in the boxplot\n",
    "* Houses with an increasing quality of the view tend to cost more.\n"
   ]
  },
  {
   "cell_type": "code",
   "execution_count": 27,
   "metadata": {
    "colab": {
     "base_uri": "https://localhost:8080/",
     "height": 307
    },
    "id": "F20AOp86a6QU",
    "outputId": "71f49869-0aef-450a-b0d8-a175d2ad9d0b"
   },
   "outputs": [
    {
     "data": {
      "text/plain": [
       "<AxesSubplot:xlabel='waterfront', ylabel='price'>"
      ]
     },
     "execution_count": 27,
     "metadata": {},
     "output_type": "execute_result"
    },
    {
     "data": {
      "image/png": "[encoded data removed]",
      "text/plain": [
       "<Figure size 576x288 with 1 Axes>"
      ]
     },
     "metadata": {
      "needs_background": "light"
     },
     "output_type": "display_data"
    }
   ],
   "source": [
    "plt.figure(figsize=(8,4))\n",
    "sns.boxplot(x='waterfront', y='price', data=data)"
   ]
  },
  {
   "cell_type": "code",
   "execution_count": 28,
   "metadata": {
    "colab": {
     "base_uri": "https://localhost:8080/",
     "height": 307
    },
    "id": "q80PD5ScbEXU",
    "outputId": "17834853-9b91-47fa-9302-e0342c84cfc6"
   },
   "outputs": [
    {
     "data": {
      "text/plain": [
       "<AxesSubplot:xlabel='view', ylabel='price'>"
      ]
     },
     "execution_count": 28,
     "metadata": {},
     "output_type": "execute_result"
    },
    {
     "data": {
      "image/png": "[encoded data removed]",
      "text/plain": [
       "<Figure size 576x288 with 1 Axes>"
      ]
     },
     "metadata": {
      "needs_background": "light"
     },
     "output_type": "display_data"
    }
   ],
   "source": [
    "plt.figure(figsize=(8,4))\n",
    "sns.boxplot(x='view', y='price', data=data)"
   ]
  },
  {
   "cell_type": "markdown",
   "metadata": {
    "id": "bV3ZDajKbN-5"
   },
   "source": [
    "## Latitude and longitude"
   ]
  },
  {
   "cell_type": "code",
   "execution_count": 29,
   "metadata": {
    "colab": {
     "base_uri": "https://localhost:8080/",
     "height": 437
    },
    "id": "xPrgQegIbSSF",
    "outputId": "acdf7e7d-30b2-4478-8d68-da9fcd0e9756"
   },
   "outputs": [
    {
     "data": {
      "text/html": [
       "<img src=\"https://areaimages.s3.amazonaws.com/king_county__washington__search_area.png\"/>"
      ],
      "text/plain": [
       "<IPython.core.display.Image object>"
      ]
     },
     "execution_count": 29,
     "metadata": {},
     "output_type": "execute_result"
    }
   ],
   "source": [
    "# map - latitude and longtitude\n",
    "from IPython.display import Image\n",
    "Image(url = \"https://areaimages.s3.amazonaws.com/king_county__washington__search_area.png\")"
   ]
  },
  {
   "cell_type": "code",
   "execution_count": 30,
   "metadata": {
    "colab": {
     "base_uri": "https://localhost:8080/",
     "height": 405
    },
    "id": "_7v4jFw6beeP",
    "outputId": "44bce044-cbf8-4ffd-b0b7-341f1a7a3d25"
   },
   "outputs": [
    {
     "data": {
      "text/plain": [
       "<AxesSubplot:xlabel='long', ylabel='lat'>"
      ]
     },
     "execution_count": 30,
     "metadata": {},
     "output_type": "execute_result"
    },
    {
     "data": {
      "image/png": "[encoded data removed]",
      "text/plain": [
       "<Figure size 1008x432 with 1 Axes>"
      ]
     },
     "metadata": {
      "needs_background": "light"
     },
     "output_type": "display_data"
    }
   ],
   "source": [
    "plt.figure(figsize=(14,6))\n",
    "sns.scatterplot(x='long',y='lat',data=data, hue='price', size='price')"
   ]
  },
  {
   "cell_type": "markdown",
   "metadata": {
    "id": "xdMsLBjQPWNs"
   },
   "source": [
    "From the map and the spatial plot we see that the prices of the houses tend to be much higher in the Bellevue and Redmond region of Seattle which is overlooking the water body as compared to the ones that are located further away.\n",
    "This region is most likey the main city center indicated by the dense network of roads and the grey color indicating the presence of a large number of buildings as opposed to the interior and greener part of the map where there seems to be more vegetation.\n",
    "\n",
    "Since the distance from Seattle seems to play an important role in judging the price of a house we introduce a new variable called distance_from_seattle into the training data."
   ]
  },
  {
   "cell_type": "code",
   "execution_count": 33,
   "metadata": {
    "id": "A1V4Vj_0VFT2"
   },
   "outputs": [],
   "source": [
    "from geopy import distance\n",
    "lat_long = data['lat'].astype(str) + ',' + data['long'].astype(str)\n",
    "lat_long = list(map(eval, lat_long))\n",
    "Seattle = (47.6062, -122.3321)\n",
    "miles = []\n",
    "for i in lat_long:\n",
    "    miles.append(round(distance.distance(i, Seattle).miles, 1))\n",
    "data['distance_from_seattle'] = miles"
   ]
  },
  {
   "cell_type": "markdown",
   "metadata": {
    "id": "80NIVbFzYhJC"
   },
   "source": [
    "## Dropping variables with low correlation to the price\n",
    "we also drop sqft_living as it is just the sum of sqft_above and sqft_basement"
   ]
  },
  {
   "cell_type": "code",
   "execution_count": 34,
   "metadata": {
    "id": "kzkpqtgKZr3z"
   },
   "outputs": [],
   "source": [
    "data.drop([ 'sqft_living15','id','condition', 'sqft_lot', 'sqft_lot15', 'bathrooms', 'yr_built', 'floors', 'sqft_living', 'date', 'bedrooms'], axis = 1, inplace = True)"
   ]
  },
  {
   "cell_type": "code",
   "execution_count": 35,
   "metadata": {
    "colab": {
     "base_uri": "https://localhost:8080/",
     "height": 503
    },
    "id": "7D0R0k6zZvU0",
    "outputId": "16d61e28-8743-404f-dddb-bf28a1fa4066"
   },
   "outputs": [
    {
     "data": {
      "text/html": [
       "<style type=\"text/css\">\n",
       "#T_bd233_row0_col0, #T_bd233_row1_col1, #T_bd233_row2_col2, #T_bd233_row3_col3, #T_bd233_row4_col4, #T_bd233_row5_col5, #T_bd233_row6_col6, #T_bd233_row7_col7, #T_bd233_row8_col8, #T_bd233_row9_col9, #T_bd233_row10_col10, #T_bd233_row11_col11, #T_bd233_row12_col12, #T_bd233_row13_col13 {\n",
       "  background-color: #b40426;\n",
       "  color: #f1f1f1;\n",
       "}\n",
       "#T_bd233_row0_col1, #T_bd233_row2_col9, #T_bd233_row12_col3 {\n",
       "  background-color: #a2c1ff;\n",
       "  color: #000000;\n",
       "}\n",
       "#T_bd233_row0_col2, #T_bd233_row1_col2 {\n",
       "  background-color: #d2dbe8;\n",
       "  color: #000000;\n",
       "}\n",
       "#T_bd233_row0_col3, #T_bd233_row10_col5 {\n",
       "  background-color: #f5c0a7;\n",
       "  color: #000000;\n",
       "}\n",
       "#T_bd233_row0_col4 {\n",
       "  background-color: #f7ac8e;\n",
       "  color: #000000;\n",
       "}\n",
       "#T_bd233_row0_col5, #T_bd233_row0_col10, #T_bd233_row1_col0 {\n",
       "  background-color: #cbd8ee;\n",
       "  color: #000000;\n",
       "}\n",
       "#T_bd233_row0_col6, #T_bd233_row0_col13, #T_bd233_row4_col7, #T_bd233_row6_col2 {\n",
       "  background-color: #799cf8;\n",
       "  color: #f1f1f1;\n",
       "}\n",
       "#T_bd233_row0_col7, #T_bd233_row2_col13, #T_bd233_row12_col0 {\n",
       "  background-color: #a7c5fe;\n",
       "  color: #000000;\n",
       "}\n",
       "#T_bd233_row0_col8 {\n",
       "  background-color: #ecd3c5;\n",
       "  color: #000000;\n",
       "}\n",
       "#T_bd233_row0_col9, #T_bd233_row2_col8, #T_bd233_row2_col10 {\n",
       "  background-color: #b9d0f9;\n",
       "  color: #000000;\n",
       "}\n",
       "#T_bd233_row0_col11, #T_bd233_row8_col2 {\n",
       "  background-color: #5b7ae5;\n",
       "  color: #f1f1f1;\n",
       "}\n",
       "#T_bd233_row0_col12, #T_bd233_row5_col4 {\n",
       "  background-color: #7b9ff9;\n",
       "  color: #f1f1f1;\n",
       "}\n",
       "#T_bd233_row1_col3 {\n",
       "  background-color: #aac7fd;\n",
       "  color: #000000;\n",
       "}\n",
       "#T_bd233_row1_col4, #T_bd233_row6_col3, #T_bd233_row13_col10 {\n",
       "  background-color: #9fbfff;\n",
       "  color: #000000;\n",
       "}\n",
       "#T_bd233_row1_col5, #T_bd233_row13_col11 {\n",
       "  background-color: #88abfd;\n",
       "  color: #000000;\n",
       "}\n",
       "#T_bd233_row1_col6, #T_bd233_row2_col12 {\n",
       "  background-color: #6e90f2;\n",
       "  color: #f1f1f1;\n",
       "}\n",
       "#T_bd233_row1_col7, #T_bd233_row3_col13, #T_bd233_row7_col11 {\n",
       "  background-color: #bad0f8;\n",
       "  color: #000000;\n",
       "}\n",
       "#T_bd233_row1_col8, #T_bd233_row1_col13 {\n",
       "  background-color: #b5cdfa;\n",
       "  color: #000000;\n",
       "}\n",
       "#T_bd233_row1_col9 {\n",
       "  background-color: #abc8fd;\n",
       "  color: #000000;\n",
       "}\n",
       "#T_bd233_row1_col10, #T_bd233_row6_col10, #T_bd233_row9_col8 {\n",
       "  background-color: #9abbff;\n",
       "  color: #000000;\n",
       "}\n",
       "#T_bd233_row1_col11, #T_bd233_row5_col13 {\n",
       "  background-color: #8caffe;\n",
       "  color: #000000;\n",
       "}\n",
       "#T_bd233_row1_col12 {\n",
       "  background-color: #6a8bef;\n",
       "  color: #f1f1f1;\n",
       "}\n",
       "#T_bd233_row2_col0, #T_bd233_row8_col7 {\n",
       "  background-color: #e5d8d1;\n",
       "  color: #000000;\n",
       "}\n",
       "#T_bd233_row2_col1, #T_bd233_row2_col3 {\n",
       "  background-color: #cad8ef;\n",
       "  color: #000000;\n",
       "}\n",
       "#T_bd233_row2_col4, #T_bd233_row4_col8 {\n",
       "  background-color: #b7cff9;\n",
       "  color: #000000;\n",
       "}\n",
       "#T_bd233_row2_col5, #T_bd233_row12_col7 {\n",
       "  background-color: #c0d4f5;\n",
       "  color: #000000;\n",
       "}\n",
       "#T_bd233_row2_col6, #T_bd233_row7_col3, #T_bd233_row9_col11 {\n",
       "  background-color: #7295f4;\n",
       "  color: #f1f1f1;\n",
       "}\n",
       "#T_bd233_row2_col7 {\n",
       "  background-color: #c5d6f2;\n",
       "  color: #000000;\n",
       "}\n",
       "#T_bd233_row2_col11 {\n",
       "  background-color: #7ea1fa;\n",
       "  color: #f1f1f1;\n",
       "}\n",
       "#T_bd233_row3_col0 {\n",
       "  background-color: #f2cab5;\n",
       "  color: #000000;\n",
       "}\n",
       "#T_bd233_row3_col1 {\n",
       "  background-color: #5e7de7;\n",
       "  color: #f1f1f1;\n",
       "}\n",
       "#T_bd233_row3_col2 {\n",
       "  background-color: #97b8ff;\n",
       "  color: #000000;\n",
       "}\n",
       "#T_bd233_row3_col4, #T_bd233_row4_col0 {\n",
       "  background-color: #f7af91;\n",
       "  color: #000000;\n",
       "}\n",
       "#T_bd233_row3_col5, #T_bd233_row12_col4 {\n",
       "  background-color: #92b4fe;\n",
       "  color: #000000;\n",
       "}\n",
       "#T_bd233_row3_col6 {\n",
       "  background-color: #5875e1;\n",
       "  color: #f1f1f1;\n",
       "}\n",
       "#T_bd233_row3_col7, #T_bd233_row6_col4, #T_bd233_row6_col11, #T_bd233_row8_col5, #T_bd233_row11_col9 {\n",
       "  background-color: #90b2fe;\n",
       "  color: #000000;\n",
       "}\n",
       "#T_bd233_row3_col8 {\n",
       "  background-color: #c9d7f0;\n",
       "  color: #000000;\n",
       "}\n",
       "#T_bd233_row3_col9 {\n",
       "  background-color: #d5dbe5;\n",
       "  color: #000000;\n",
       "}\n",
       "#T_bd233_row3_col10, #T_bd233_row5_col3, #T_bd233_row10_col8 {\n",
       "  background-color: #b6cefa;\n",
       "  color: #000000;\n",
       "}\n",
       "#T_bd233_row3_col11, #T_bd233_row7_col9, #T_bd233_row8_col13, #T_bd233_row9_col7, #T_bd233_row11_col1, #T_bd233_row11_col2, #T_bd233_row11_col3, #T_bd233_row11_col4, #T_bd233_row11_col10, #T_bd233_row13_col0, #T_bd233_row13_col5, #T_bd233_row13_col6, #T_bd233_row13_col8, #T_bd233_row13_col12 {\n",
       "  background-color: #3b4cc0;\n",
       "  color: #f1f1f1;\n",
       "}\n",
       "#T_bd233_row3_col12, #T_bd233_row4_col12, #T_bd233_row8_col6, #T_bd233_row8_col12, #T_bd233_row11_col5 {\n",
       "  background-color: #5a78e4;\n",
       "  color: #f1f1f1;\n",
       "}\n",
       "#T_bd233_row4_col1, #T_bd233_row12_col1 {\n",
       "  background-color: #6282ea;\n",
       "  color: #f1f1f1;\n",
       "}\n",
       "#T_bd233_row4_col2 {\n",
       "  background-color: #8db0fe;\n",
       "  color: #000000;\n",
       "}\n",
       "#T_bd233_row4_col3 {\n",
       "  background-color: #f7a889;\n",
       "  color: #000000;\n",
       "}\n",
       "#T_bd233_row4_col5 {\n",
       "  background-color: #6180e9;\n",
       "  color: #f1f1f1;\n",
       "}\n",
       "#T_bd233_row4_col6 {\n",
       "  background-color: #5977e3;\n",
       "  color: #f1f1f1;\n",
       "}\n",
       "#T_bd233_row4_col9 {\n",
       "  background-color: #efcebd;\n",
       "  color: #000000;\n",
       "}\n",
       "#T_bd233_row4_col10 {\n",
       "  background-color: #adc9fd;\n",
       "  color: #000000;\n",
       "}\n",
       "#T_bd233_row4_col11 {\n",
       "  background-color: #4c66d6;\n",
       "  color: #f1f1f1;\n",
       "}\n",
       "#T_bd233_row4_col13 {\n",
       "  background-color: #dbdcde;\n",
       "  color: #000000;\n",
       "}\n",
       "#T_bd233_row5_col0 {\n",
       "  background-color: #d6dce4;\n",
       "  color: #000000;\n",
       "}\n",
       "#T_bd233_row5_col1, #T_bd233_row7_col12 {\n",
       "  background-color: #6384eb;\n",
       "  color: #f1f1f1;\n",
       "}\n",
       "#T_bd233_row5_col2, #T_bd233_row8_col3 {\n",
       "  background-color: #afcafc;\n",
       "  color: #000000;\n",
       "}\n",
       "#T_bd233_row5_col6, #T_bd233_row6_col1 {\n",
       "  background-color: #6788ee;\n",
       "  color: #f1f1f1;\n",
       "}\n",
       "#T_bd233_row5_col7, #T_bd233_row10_col0 {\n",
       "  background-color: #c3d5f4;\n",
       "  color: #000000;\n",
       "}\n",
       "#T_bd233_row5_col8, #T_bd233_row11_col7 {\n",
       "  background-color: #cdd9ec;\n",
       "  color: #000000;\n",
       "}\n",
       "#T_bd233_row5_col9, #T_bd233_row10_col7 {\n",
       "  background-color: #93b5fe;\n",
       "  color: #000000;\n",
       "}\n",
       "#T_bd233_row5_col10 {\n",
       "  background-color: #f7b497;\n",
       "  color: #000000;\n",
       "}\n",
       "#T_bd233_row5_col11, #T_bd233_row7_col5, #T_bd233_row12_col5 {\n",
       "  background-color: #86a9fc;\n",
       "  color: #f1f1f1;\n",
       "}\n",
       "#T_bd233_row5_col12, #T_bd233_row7_col10 {\n",
       "  background-color: #688aef;\n",
       "  color: #f1f1f1;\n",
       "}\n",
       "#T_bd233_row6_col0, #T_bd233_row6_col13, #T_bd233_row12_col13 {\n",
       "  background-color: #a6c4fe;\n",
       "  color: #000000;\n",
       "}\n",
       "#T_bd233_row6_col5 {\n",
       "  background-color: #85a8fc;\n",
       "  color: #f1f1f1;\n",
       "}\n",
       "#T_bd233_row6_col7 {\n",
       "  background-color: #c1d4f4;\n",
       "  color: #000000;\n",
       "}\n",
       "#T_bd233_row6_col8, #T_bd233_row12_col8 {\n",
       "  background-color: #bed2f6;\n",
       "  color: #000000;\n",
       "}\n",
       "#T_bd233_row6_col9 {\n",
       "  background-color: #a3c2fe;\n",
       "  color: #000000;\n",
       "}\n",
       "#T_bd233_row6_col12, #T_bd233_row12_col6 {\n",
       "  background-color: #c0282f;\n",
       "  color: #f1f1f1;\n",
       "}\n",
       "#T_bd233_row7_col0 {\n",
       "  background-color: #7597f6;\n",
       "  color: #f1f1f1;\n",
       "}\n",
       "#T_bd233_row7_col1 {\n",
       "  background-color: #5470de;\n",
       "  color: #f1f1f1;\n",
       "}\n",
       "#T_bd233_row7_col2 {\n",
       "  background-color: #7396f5;\n",
       "  color: #f1f1f1;\n",
       "}\n",
       "#T_bd233_row7_col4, #T_bd233_row8_col1 {\n",
       "  background-color: #485fd1;\n",
       "  color: #f1f1f1;\n",
       "}\n",
       "#T_bd233_row7_col6 {\n",
       "  background-color: #6687ed;\n",
       "  color: #f1f1f1;\n",
       "}\n",
       "#T_bd233_row7_col8 {\n",
       "  background-color: #e7d7ce;\n",
       "  color: #000000;\n",
       "}\n",
       "#T_bd233_row7_col13, #T_bd233_row9_col5 {\n",
       "  background-color: #4961d2;\n",
       "  color: #f1f1f1;\n",
       "}\n",
       "#T_bd233_row8_col0 {\n",
       "  background-color: #d3dbe7;\n",
       "  color: #000000;\n",
       "}\n",
       "#T_bd233_row8_col4, #T_bd233_row10_col2 {\n",
       "  background-color: #8badfd;\n",
       "  color: #000000;\n",
       "}\n",
       "#T_bd233_row8_col9, #T_bd233_row8_col11 {\n",
       "  background-color: #94b6ff;\n",
       "  color: #000000;\n",
       "}\n",
       "#T_bd233_row8_col10, #T_bd233_row12_col11 {\n",
       "  background-color: #8fb1fe;\n",
       "  color: #000000;\n",
       "}\n",
       "#T_bd233_row9_col0 {\n",
       "  background-color: #89acfd;\n",
       "  color: #000000;\n",
       "}\n",
       "#T_bd233_row9_col1, #T_bd233_row9_col12 {\n",
       "  background-color: #3f53c6;\n",
       "  color: #f1f1f1;\n",
       "}\n",
       "#T_bd233_row9_col2, #T_bd233_row13_col2, #T_bd233_row13_col7 {\n",
       "  background-color: #4358cb;\n",
       "  color: #f1f1f1;\n",
       "}\n",
       "#T_bd233_row9_col3, #T_bd233_row10_col9, #T_bd233_row10_col13 {\n",
       "  background-color: #c4d5f3;\n",
       "  color: #000000;\n",
       "}\n",
       "#T_bd233_row9_col4 {\n",
       "  background-color: #dedcdb;\n",
       "  color: #000000;\n",
       "}\n",
       "#T_bd233_row9_col6 {\n",
       "  background-color: #3e51c5;\n",
       "  color: #f1f1f1;\n",
       "}\n",
       "#T_bd233_row9_col10, #T_bd233_row12_col9 {\n",
       "  background-color: #a5c3fe;\n",
       "  color: #000000;\n",
       "}\n",
       "#T_bd233_row9_col13 {\n",
       "  background-color: #f08a6c;\n",
       "  color: #f1f1f1;\n",
       "}\n",
       "#T_bd233_row10_col1 {\n",
       "  background-color: #5673e0;\n",
       "  color: #f1f1f1;\n",
       "}\n",
       "#T_bd233_row10_col3 {\n",
       "  background-color: #bfd3f6;\n",
       "  color: #000000;\n",
       "}\n",
       "#T_bd233_row10_col4, #T_bd233_row11_col13 {\n",
       "  background-color: #a9c6fd;\n",
       "  color: #000000;\n",
       "}\n",
       "#T_bd233_row10_col6 {\n",
       "  background-color: #5d7ce6;\n",
       "  color: #f1f1f1;\n",
       "}\n",
       "#T_bd233_row10_col11, #T_bd233_row11_col6, #T_bd233_row13_col1 {\n",
       "  background-color: #465ecf;\n",
       "  color: #f1f1f1;\n",
       "}\n",
       "#T_bd233_row10_col12 {\n",
       "  background-color: #5f7fe8;\n",
       "  color: #f1f1f1;\n",
       "}\n",
       "#T_bd233_row11_col0 {\n",
       "  background-color: #4257c9;\n",
       "  color: #f1f1f1;\n",
       "}\n",
       "#T_bd233_row11_col8 {\n",
       "  background-color: #b2ccfb;\n",
       "  color: #000000;\n",
       "}\n",
       "#T_bd233_row11_col12 {\n",
       "  background-color: #455cce;\n",
       "  color: #f1f1f1;\n",
       "}\n",
       "#T_bd233_row12_col2 {\n",
       "  background-color: #7699f6;\n",
       "  color: #f1f1f1;\n",
       "}\n",
       "#T_bd233_row12_col10 {\n",
       "  background-color: #9bbcff;\n",
       "  color: #000000;\n",
       "}\n",
       "#T_bd233_row13_col3 {\n",
       "  background-color: #9ebeff;\n",
       "  color: #000000;\n",
       "}\n",
       "#T_bd233_row13_col4 {\n",
       "  background-color: #bcd2f7;\n",
       "  color: #000000;\n",
       "}\n",
       "#T_bd233_row13_col9 {\n",
       "  background-color: #f08b6e;\n",
       "  color: #f1f1f1;\n",
       "}\n",
       "</style>\n",
       "<table id=\"T_bd233\">\n",
       "  <thead>\n",
       "    <tr>\n",
       "      <th class=\"blank level0\" >&nbsp;</th>\n",
       "      <th id=\"T_bd233_level0_col0\" class=\"col_heading level0 col0\" >price</th>\n",
       "      <th id=\"T_bd233_level0_col1\" class=\"col_heading level0 col1\" >waterfront</th>\n",
       "      <th id=\"T_bd233_level0_col2\" class=\"col_heading level0 col2\" >view</th>\n",
       "      <th id=\"T_bd233_level0_col3\" class=\"col_heading level0 col3\" >grade</th>\n",
       "      <th id=\"T_bd233_level0_col4\" class=\"col_heading level0 col4\" >sqft_above</th>\n",
       "      <th id=\"T_bd233_level0_col5\" class=\"col_heading level0 col5\" >sqft_basement</th>\n",
       "      <th id=\"T_bd233_level0_col6\" class=\"col_heading level0 col6\" >yr_renovated</th>\n",
       "      <th id=\"T_bd233_level0_col7\" class=\"col_heading level0 col7\" >zipcode</th>\n",
       "      <th id=\"T_bd233_level0_col8\" class=\"col_heading level0 col8\" >lat</th>\n",
       "      <th id=\"T_bd233_level0_col9\" class=\"col_heading level0 col9\" >long</th>\n",
       "      <th id=\"T_bd233_level0_col10\" class=\"col_heading level0 col10\" >bath/floor</th>\n",
       "      <th id=\"T_bd233_level0_col11\" class=\"col_heading level0 col11\" >bedrooms/bath</th>\n",
       "      <th id=\"T_bd233_level0_col12\" class=\"col_heading level0 col12\" >new_renovated</th>\n",
       "      <th id=\"T_bd233_level0_col13\" class=\"col_heading level0 col13\" >distance_from_seattle</th>\n",
       "    </tr>\n",
       "  </thead>\n",
       "  <tbody>\n",
       "    <tr>\n",
       "      <th id=\"T_bd233_level0_row0\" class=\"row_heading level0 row0\" >price</th>\n",
       "      <td id=\"T_bd233_row0_col0\" class=\"data row0 col0\" >1.000000</td>\n",
       "      <td id=\"T_bd233_row0_col1\" class=\"data row0 col1\" >0.272510</td>\n",
       "      <td id=\"T_bd233_row0_col2\" class=\"data row0 col2\" >0.398747</td>\n",
       "      <td id=\"T_bd233_row0_col3\" class=\"data row0 col3\" >0.492027</td>\n",
       "      <td id=\"T_bd233_row0_col4\" class=\"data row0 col4\" >0.604737</td>\n",
       "      <td id=\"T_bd233_row0_col5\" class=\"data row0 col5\" >0.323151</td>\n",
       "      <td id=\"T_bd233_row0_col6\" class=\"data row0 col6\" >0.126992</td>\n",
       "      <td id=\"T_bd233_row0_col7\" class=\"data row0 col7\" >-0.052903</td>\n",
       "      <td id=\"T_bd233_row0_col8\" class=\"data row0 col8\" >0.307082</td>\n",
       "      <td id=\"T_bd233_row0_col9\" class=\"data row0 col9\" >0.022431</td>\n",
       "      <td id=\"T_bd233_row0_col10\" class=\"data row0 col10\" >0.238989</td>\n",
       "      <td id=\"T_bd233_row0_col11\" class=\"data row0 col11\" >-0.253557</td>\n",
       "      <td id=\"T_bd233_row0_col12\" class=\"data row0 col12\" >0.134685</td>\n",
       "      <td id=\"T_bd233_row0_col13\" class=\"data row0 col13\" >-0.286518</td>\n",
       "    </tr>\n",
       "    <tr>\n",
       "      <th id=\"T_bd233_level0_row1\" class=\"row_heading level0 row1\" >waterfront</th>\n",
       "      <td id=\"T_bd233_row1_col0\" class=\"data row1 col0\" >0.272510</td>\n",
       "      <td id=\"T_bd233_row1_col1\" class=\"data row1 col1\" >1.000000</td>\n",
       "      <td id=\"T_bd233_row1_col2\" class=\"data row1 col2\" >0.398230</td>\n",
       "      <td id=\"T_bd233_row1_col3\" class=\"data row1 col3\" >0.063290</td>\n",
       "      <td id=\"T_bd233_row1_col4\" class=\"data row1 col4\" >0.077208</td>\n",
       "      <td id=\"T_bd233_row1_col5\" class=\"data row1 col5\" >0.082751</td>\n",
       "      <td id=\"T_bd233_row1_col6\" class=\"data row1 col6\" >0.092899</td>\n",
       "      <td id=\"T_bd233_row1_col7\" class=\"data row1 col7\" >0.030170</td>\n",
       "      <td id=\"T_bd233_row1_col8\" class=\"data row1 col8\" >-0.011540</td>\n",
       "      <td id=\"T_bd233_row1_col9\" class=\"data row1 col9\" >-0.037300</td>\n",
       "      <td id=\"T_bd233_row1_col10\" class=\"data row1 col10\" >0.037866</td>\n",
       "      <td id=\"T_bd233_row1_col11\" class=\"data row1 col11\" >-0.057467</td>\n",
       "      <td id=\"T_bd233_row1_col12\" class=\"data row1 col12\" >0.077518</td>\n",
       "      <td id=\"T_bd233_row1_col13\" class=\"data row1 col13\" >-0.015125</td>\n",
       "    </tr>\n",
       "    <tr>\n",
       "      <th id=\"T_bd233_level0_row2\" class=\"row_heading level0 row2\" >view</th>\n",
       "      <td id=\"T_bd233_row2_col0\" class=\"data row2 col0\" >0.398747</td>\n",
       "      <td id=\"T_bd233_row2_col1\" class=\"data row2 col1\" >0.398230</td>\n",
       "      <td id=\"T_bd233_row2_col2\" class=\"data row2 col2\" >1.000000</td>\n",
       "      <td id=\"T_bd233_row2_col3\" class=\"data row2 col3\" >0.199709</td>\n",
       "      <td id=\"T_bd233_row2_col4\" class=\"data row2 col4\" >0.169432</td>\n",
       "      <td id=\"T_bd233_row2_col5\" class=\"data row2 col5\" >0.278088</td>\n",
       "      <td id=\"T_bd233_row2_col6\" class=\"data row2 col6\" >0.103235</td>\n",
       "      <td id=\"T_bd233_row2_col7\" class=\"data row2 col7\" >0.085050</td>\n",
       "      <td id=\"T_bd233_row2_col8\" class=\"data row2 col8\" >0.006531</td>\n",
       "      <td id=\"T_bd233_row2_col9\" class=\"data row2 col9\" >-0.077557</td>\n",
       "      <td id=\"T_bd233_row2_col10\" class=\"data row2 col10\" >0.158822</td>\n",
       "      <td id=\"T_bd233_row2_col11\" class=\"data row2 col11\" >-0.111318</td>\n",
       "      <td id=\"T_bd233_row2_col12\" class=\"data row2 col12\" >0.093142</td>\n",
       "      <td id=\"T_bd233_row2_col13\" class=\"data row2 col13\" >-0.076650</td>\n",
       "    </tr>\n",
       "    <tr>\n",
       "      <th id=\"T_bd233_level0_row3\" class=\"row_heading level0 row3\" >grade</th>\n",
       "      <td id=\"T_bd233_row3_col0\" class=\"data row3 col0\" >0.492027</td>\n",
       "      <td id=\"T_bd233_row3_col1\" class=\"data row3 col1\" >0.063290</td>\n",
       "      <td id=\"T_bd233_row3_col2\" class=\"data row3 col2\" >0.199709</td>\n",
       "      <td id=\"T_bd233_row3_col3\" class=\"data row3 col3\" >1.000000</td>\n",
       "      <td id=\"T_bd233_row3_col4\" class=\"data row3 col4\" >0.594812</td>\n",
       "      <td id=\"T_bd233_row3_col5\" class=\"data row3 col5\" >0.116271</td>\n",
       "      <td id=\"T_bd233_row3_col6\" class=\"data row3 col6\" >0.018608</td>\n",
       "      <td id=\"T_bd233_row3_col7\" class=\"data row3 col7\" >-0.159359</td>\n",
       "      <td id=\"T_bd233_row3_col8\" class=\"data row3 col8\" >0.089068</td>\n",
       "      <td id=\"T_bd233_row3_col9\" class=\"data row3 col9\" >0.174448</td>\n",
       "      <td id=\"T_bd233_row3_col10\" class=\"data row3 col10\" >0.151651</td>\n",
       "      <td id=\"T_bd233_row3_col11\" class=\"data row3 col11\" >-0.404676</td>\n",
       "      <td id=\"T_bd233_row3_col12\" class=\"data row3 col12\" >0.029997</td>\n",
       "      <td id=\"T_bd233_row3_col13\" class=\"data row3 col13\" >0.013143</td>\n",
       "    </tr>\n",
       "    <tr>\n",
       "      <th id=\"T_bd233_level0_row4\" class=\"row_heading level0 row4\" >sqft_above</th>\n",
       "      <td id=\"T_bd233_row4_col0\" class=\"data row4 col0\" >0.604737</td>\n",
       "      <td id=\"T_bd233_row4_col1\" class=\"data row4 col1\" >0.077208</td>\n",
       "      <td id=\"T_bd233_row4_col2\" class=\"data row4 col2\" >0.169432</td>\n",
       "      <td id=\"T_bd233_row4_col3\" class=\"data row4 col3\" >0.594812</td>\n",
       "      <td id=\"T_bd233_row4_col4\" class=\"data row4 col4\" >1.000000</td>\n",
       "      <td id=\"T_bd233_row4_col5\" class=\"data row4 col5\" >-0.054156</td>\n",
       "      <td id=\"T_bd233_row4_col6\" class=\"data row4 col6\" >0.023435</td>\n",
       "      <td id=\"T_bd233_row4_col7\" class=\"data row4 col7\" >-0.261722</td>\n",
       "      <td id=\"T_bd233_row4_col8\" class=\"data row4 col8\" >-0.001496</td>\n",
       "      <td id=\"T_bd233_row4_col9\" class=\"data row4 col9\" >0.347271</td>\n",
       "      <td id=\"T_bd233_row4_col10\" class=\"data row4 col10\" >0.113649</td>\n",
       "      <td id=\"T_bd233_row4_col11\" class=\"data row4 col11\" >-0.321968</td>\n",
       "      <td id=\"T_bd233_row4_col12\" class=\"data row4 col12\" >0.027199</td>\n",
       "      <td id=\"T_bd233_row4_col13\" class=\"data row4 col13\" >0.192504</td>\n",
       "    </tr>\n",
       "    <tr>\n",
       "      <th id=\"T_bd233_level0_row5\" class=\"row_heading level0 row5\" >sqft_basement</th>\n",
       "      <td id=\"T_bd233_row5_col0\" class=\"data row5 col0\" >0.323151</td>\n",
       "      <td id=\"T_bd233_row5_col1\" class=\"data row5 col1\" >0.082751</td>\n",
       "      <td id=\"T_bd233_row5_col2\" class=\"data row5 col2\" >0.278088</td>\n",
       "      <td id=\"T_bd233_row5_col3\" class=\"data row5 col3\" >0.116271</td>\n",
       "      <td id=\"T_bd233_row5_col4\" class=\"data row5 col4\" >-0.054156</td>\n",
       "      <td id=\"T_bd233_row5_col5\" class=\"data row5 col5\" >1.000000</td>\n",
       "      <td id=\"T_bd233_row5_col6\" class=\"data row5 col6\" >0.070952</td>\n",
       "      <td id=\"T_bd233_row5_col7\" class=\"data row5 col7\" >0.075212</td>\n",
       "      <td id=\"T_bd233_row5_col8\" class=\"data row5 col8\" >0.110393</td>\n",
       "      <td id=\"T_bd233_row5_col9\" class=\"data row5 col9\" >-0.145082</td>\n",
       "      <td id=\"T_bd233_row5_col10\" class=\"data row5 col10\" >0.563489</td>\n",
       "      <td id=\"T_bd233_row5_col11\" class=\"data row5 col11\" >-0.078523</td>\n",
       "      <td id=\"T_bd233_row5_col12\" class=\"data row5 col12\" >0.075647</td>\n",
       "      <td id=\"T_bd233_row5_col13\" class=\"data row5 col13\" >-0.202238</td>\n",
       "    </tr>\n",
       "    <tr>\n",
       "      <th id=\"T_bd233_level0_row6\" class=\"row_heading level0 row6\" >yr_renovated</th>\n",
       "      <td id=\"T_bd233_row6_col0\" class=\"data row6 col0\" >0.126992</td>\n",
       "      <td id=\"T_bd233_row6_col1\" class=\"data row6 col1\" >0.092899</td>\n",
       "      <td id=\"T_bd233_row6_col2\" class=\"data row6 col2\" >0.103235</td>\n",
       "      <td id=\"T_bd233_row6_col3\" class=\"data row6 col3\" >0.018608</td>\n",
       "      <td id=\"T_bd233_row6_col4\" class=\"data row6 col4\" >0.023435</td>\n",
       "      <td id=\"T_bd233_row6_col5\" class=\"data row6 col5\" >0.070952</td>\n",
       "      <td id=\"T_bd233_row6_col6\" class=\"data row6 col6\" >1.000000</td>\n",
       "      <td id=\"T_bd233_row6_col7\" class=\"data row6 col7\" >0.065057</td>\n",
       "      <td id=\"T_bd233_row6_col8\" class=\"data row6 col8\" >0.029770</td>\n",
       "      <td id=\"T_bd233_row6_col9\" class=\"data row6 col9\" >-0.070077</td>\n",
       "      <td id=\"T_bd233_row6_col10\" class=\"data row6 col10\" >0.039115</td>\n",
       "      <td id=\"T_bd233_row6_col11\" class=\"data row6 col11\" >-0.037833</td>\n",
       "      <td id=\"T_bd233_row6_col12\" class=\"data row6 col12\" >0.965871</td>\n",
       "      <td id=\"T_bd233_row6_col13\" class=\"data row6 col13\" >-0.083035</td>\n",
       "    </tr>\n",
       "    <tr>\n",
       "      <th id=\"T_bd233_level0_row7\" class=\"row_heading level0 row7\" >zipcode</th>\n",
       "      <td id=\"T_bd233_row7_col0\" class=\"data row7 col0\" >-0.052903</td>\n",
       "      <td id=\"T_bd233_row7_col1\" class=\"data row7 col1\" >0.030170</td>\n",
       "      <td id=\"T_bd233_row7_col2\" class=\"data row7 col2\" >0.085050</td>\n",
       "      <td id=\"T_bd233_row7_col3\" class=\"data row7 col3\" >-0.159359</td>\n",
       "      <td id=\"T_bd233_row7_col4\" class=\"data row7 col4\" >-0.261722</td>\n",
       "      <td id=\"T_bd233_row7_col5\" class=\"data row7 col5\" >0.075212</td>\n",
       "      <td id=\"T_bd233_row7_col6\" class=\"data row7 col6\" >0.065057</td>\n",
       "      <td id=\"T_bd233_row7_col7\" class=\"data row7 col7\" >1.000000</td>\n",
       "      <td id=\"T_bd233_row7_col8\" class=\"data row7 col8\" >0.267815</td>\n",
       "      <td id=\"T_bd233_row7_col9\" class=\"data row7 col9\" >-0.564446</td>\n",
       "      <td id=\"T_bd233_row7_col10\" class=\"data row7 col10\" >-0.147300</td>\n",
       "      <td id=\"T_bd233_row7_col11\" class=\"data row7 col11\" >0.127707</td>\n",
       "      <td id=\"T_bd233_row7_col12\" class=\"data row7 col12\" >0.059458</td>\n",
       "      <td id=\"T_bd233_row7_col13\" class=\"data row7 col13\" >-0.519916</td>\n",
       "    </tr>\n",
       "    <tr>\n",
       "      <th id=\"T_bd233_level0_row8\" class=\"row_heading level0 row8\" >lat</th>\n",
       "      <td id=\"T_bd233_row8_col0\" class=\"data row8 col0\" >0.307082</td>\n",
       "      <td id=\"T_bd233_row8_col1\" class=\"data row8 col1\" >-0.011540</td>\n",
       "      <td id=\"T_bd233_row8_col2\" class=\"data row8 col2\" >0.006531</td>\n",
       "      <td id=\"T_bd233_row8_col3\" class=\"data row8 col3\" >0.089068</td>\n",
       "      <td id=\"T_bd233_row8_col4\" class=\"data row8 col4\" >-0.001496</td>\n",
       "      <td id=\"T_bd233_row8_col5\" class=\"data row8 col5\" >0.110393</td>\n",
       "      <td id=\"T_bd233_row8_col6\" class=\"data row8 col6\" >0.029770</td>\n",
       "      <td id=\"T_bd233_row8_col7\" class=\"data row8 col7\" >0.267815</td>\n",
       "      <td id=\"T_bd233_row8_col8\" class=\"data row8 col8\" >1.000000</td>\n",
       "      <td id=\"T_bd233_row8_col9\" class=\"data row8 col9\" >-0.136995</td>\n",
       "      <td id=\"T_bd233_row8_col10\" class=\"data row8 col10\" >-0.003999</td>\n",
       "      <td id=\"T_bd233_row8_col11\" class=\"data row8 col11\" >-0.024814</td>\n",
       "      <td id=\"T_bd233_row8_col12\" class=\"data row8 col12\" >0.028257</td>\n",
       "      <td id=\"T_bd233_row8_col13\" class=\"data row8 col13\" >-0.596364</td>\n",
       "    </tr>\n",
       "    <tr>\n",
       "      <th id=\"T_bd233_level0_row9\" class=\"row_heading level0 row9\" >long</th>\n",
       "      <td id=\"T_bd233_row9_col0\" class=\"data row9 col0\" >0.022431</td>\n",
       "      <td id=\"T_bd233_row9_col1\" class=\"data row9 col1\" >-0.037300</td>\n",
       "      <td id=\"T_bd233_row9_col2\" class=\"data row9 col2\" >-0.077557</td>\n",
       "      <td id=\"T_bd233_row9_col3\" class=\"data row9 col3\" >0.174448</td>\n",
       "      <td id=\"T_bd233_row9_col4\" class=\"data row9 col4\" >0.347271</td>\n",
       "      <td id=\"T_bd233_row9_col5\" class=\"data row9 col5\" >-0.145082</td>\n",
       "      <td id=\"T_bd233_row9_col6\" class=\"data row9 col6\" >-0.070077</td>\n",
       "      <td id=\"T_bd233_row9_col7\" class=\"data row9 col7\" >-0.564446</td>\n",
       "      <td id=\"T_bd233_row9_col8\" class=\"data row9 col8\" >-0.136995</td>\n",
       "      <td id=\"T_bd233_row9_col9\" class=\"data row9 col9\" >1.000000</td>\n",
       "      <td id=\"T_bd233_row9_col10\" class=\"data row9 col10\" >0.080801</td>\n",
       "      <td id=\"T_bd233_row9_col11\" class=\"data row9 col11\" >-0.159373</td>\n",
       "      <td id=\"T_bd233_row9_col12\" class=\"data row9 col12\" >-0.065350</td>\n",
       "      <td id=\"T_bd233_row9_col13\" class=\"data row9 col13\" >0.661654</td>\n",
       "    </tr>\n",
       "    <tr>\n",
       "      <th id=\"T_bd233_level0_row10\" class=\"row_heading level0 row10\" >bath/floor</th>\n",
       "      <td id=\"T_bd233_row10_col0\" class=\"data row10 col0\" >0.238989</td>\n",
       "      <td id=\"T_bd233_row10_col1\" class=\"data row10 col1\" >0.037866</td>\n",
       "      <td id=\"T_bd233_row10_col2\" class=\"data row10 col2\" >0.158822</td>\n",
       "      <td id=\"T_bd233_row10_col3\" class=\"data row10 col3\" >0.151651</td>\n",
       "      <td id=\"T_bd233_row10_col4\" class=\"data row10 col4\" >0.113649</td>\n",
       "      <td id=\"T_bd233_row10_col5\" class=\"data row10 col5\" >0.563489</td>\n",
       "      <td id=\"T_bd233_row10_col6\" class=\"data row10 col6\" >0.039115</td>\n",
       "      <td id=\"T_bd233_row10_col7\" class=\"data row10 col7\" >-0.147300</td>\n",
       "      <td id=\"T_bd233_row10_col8\" class=\"data row10 col8\" >-0.003999</td>\n",
       "      <td id=\"T_bd233_row10_col9\" class=\"data row10 col9\" >0.080801</td>\n",
       "      <td id=\"T_bd233_row10_col10\" class=\"data row10 col10\" >1.000000</td>\n",
       "      <td id=\"T_bd233_row10_col11\" class=\"data row10 col11\" >-0.347206</td>\n",
       "      <td id=\"T_bd233_row10_col12\" class=\"data row10 col12\" >0.046864</td>\n",
       "      <td id=\"T_bd233_row10_col13\" class=\"data row10 col13\" >0.061734</td>\n",
       "    </tr>\n",
       "    <tr>\n",
       "      <th id=\"T_bd233_level0_row11\" class=\"row_heading level0 row11\" >bedrooms/bath</th>\n",
       "      <td id=\"T_bd233_row11_col0\" class=\"data row11 col0\" >-0.253557</td>\n",
       "      <td id=\"T_bd233_row11_col1\" class=\"data row11 col1\" >-0.057467</td>\n",
       "      <td id=\"T_bd233_row11_col2\" class=\"data row11 col2\" >-0.111318</td>\n",
       "      <td id=\"T_bd233_row11_col3\" class=\"data row11 col3\" >-0.404676</td>\n",
       "      <td id=\"T_bd233_row11_col4\" class=\"data row11 col4\" >-0.321968</td>\n",
       "      <td id=\"T_bd233_row11_col5\" class=\"data row11 col5\" >-0.078523</td>\n",
       "      <td id=\"T_bd233_row11_col6\" class=\"data row11 col6\" >-0.037833</td>\n",
       "      <td id=\"T_bd233_row11_col7\" class=\"data row11 col7\" >0.127707</td>\n",
       "      <td id=\"T_bd233_row11_col8\" class=\"data row11 col8\" >-0.024814</td>\n",
       "      <td id=\"T_bd233_row11_col9\" class=\"data row11 col9\" >-0.159373</td>\n",
       "      <td id=\"T_bd233_row11_col10\" class=\"data row11 col10\" >-0.347206</td>\n",
       "      <td id=\"T_bd233_row11_col11\" class=\"data row11 col11\" >1.000000</td>\n",
       "      <td id=\"T_bd233_row11_col12\" class=\"data row11 col12\" >-0.044750</td>\n",
       "      <td id=\"T_bd233_row11_col13\" class=\"data row11 col13\" >-0.071065</td>\n",
       "    </tr>\n",
       "    <tr>\n",
       "      <th id=\"T_bd233_level0_row12\" class=\"row_heading level0 row12\" >new_renovated</th>\n",
       "      <td id=\"T_bd233_row12_col0\" class=\"data row12 col0\" >0.134685</td>\n",
       "      <td id=\"T_bd233_row12_col1\" class=\"data row12 col1\" >0.077518</td>\n",
       "      <td id=\"T_bd233_row12_col2\" class=\"data row12 col2\" >0.093142</td>\n",
       "      <td id=\"T_bd233_row12_col3\" class=\"data row12 col3\" >0.029997</td>\n",
       "      <td id=\"T_bd233_row12_col4\" class=\"data row12 col4\" >0.027199</td>\n",
       "      <td id=\"T_bd233_row12_col5\" class=\"data row12 col5\" >0.075647</td>\n",
       "      <td id=\"T_bd233_row12_col6\" class=\"data row12 col6\" >0.965871</td>\n",
       "      <td id=\"T_bd233_row12_col7\" class=\"data row12 col7\" >0.059458</td>\n",
       "      <td id=\"T_bd233_row12_col8\" class=\"data row12 col8\" >0.028257</td>\n",
       "      <td id=\"T_bd233_row12_col9\" class=\"data row12 col9\" >-0.065350</td>\n",
       "      <td id=\"T_bd233_row12_col10\" class=\"data row12 col10\" >0.046864</td>\n",
       "      <td id=\"T_bd233_row12_col11\" class=\"data row12 col11\" >-0.044750</td>\n",
       "      <td id=\"T_bd233_row12_col12\" class=\"data row12 col12\" >1.000000</td>\n",
       "      <td id=\"T_bd233_row12_col13\" class=\"data row12 col13\" >-0.084354</td>\n",
       "    </tr>\n",
       "    <tr>\n",
       "      <th id=\"T_bd233_level0_row13\" class=\"row_heading level0 row13\" >distance_from_seattle</th>\n",
       "      <td id=\"T_bd233_row13_col0\" class=\"data row13 col0\" >-0.286518</td>\n",
       "      <td id=\"T_bd233_row13_col1\" class=\"data row13 col1\" >-0.015125</td>\n",
       "      <td id=\"T_bd233_row13_col2\" class=\"data row13 col2\" >-0.076650</td>\n",
       "      <td id=\"T_bd233_row13_col3\" class=\"data row13 col3\" >0.013143</td>\n",
       "      <td id=\"T_bd233_row13_col4\" class=\"data row13 col4\" >0.192504</td>\n",
       "      <td id=\"T_bd233_row13_col5\" class=\"data row13 col5\" >-0.202238</td>\n",
       "      <td id=\"T_bd233_row13_col6\" class=\"data row13 col6\" >-0.083035</td>\n",
       "      <td id=\"T_bd233_row13_col7\" class=\"data row13 col7\" >-0.519916</td>\n",
       "      <td id=\"T_bd233_row13_col8\" class=\"data row13 col8\" >-0.596364</td>\n",
       "      <td id=\"T_bd233_row13_col9\" class=\"data row13 col9\" >0.661654</td>\n",
       "      <td id=\"T_bd233_row13_col10\" class=\"data row13 col10\" >0.061734</td>\n",
       "      <td id=\"T_bd233_row13_col11\" class=\"data row13 col11\" >-0.071065</td>\n",
       "      <td id=\"T_bd233_row13_col12\" class=\"data row13 col12\" >-0.084354</td>\n",
       "      <td id=\"T_bd233_row13_col13\" class=\"data row13 col13\" >1.000000</td>\n",
       "    </tr>\n",
       "  </tbody>\n",
       "</table>\n"
      ],
      "text/plain": [
       "<pandas.io.formats.style.Styler at 0x2817fd6a0>"
      ]
     },
     "execution_count": 35,
     "metadata": {},
     "output_type": "execute_result"
    }
   ],
   "source": [
    "data.corr().style.background_gradient(cmap = 'coolwarm')"
   ]
  },
  {
   "cell_type": "markdown",
   "metadata": {
    "id": "SEQMJZrdZxcP"
   },
   "source": [
    "From the above heatmap we see that the now variable new_renovated has improved its contribution to the price prediction compared tp the yr_renovated.\n",
    "The multicolinearity among bedrooms, bathrooms, floors and grade have been reduced by introducing the new variables."
   ]
  },
  {
   "cell_type": "markdown",
   "metadata": {
    "id": "tgca0iTEb9Em"
   },
   "source": [
    "## Zipcode"
   ]
  },
  {
   "cell_type": "markdown",
   "metadata": {
    "id": "Gxf-l2XJcMmz"
   },
   "source": [
    "As we have seen before location is an important factor influencing the price of a house and so Zipcode is a useful variable in that sense.\n",
    "It is a categorical variable which will have to be modified into one hot vectors using pandas dummies."
   ]
  },
  {
   "cell_type": "code",
   "execution_count": 36,
   "metadata": {
    "id": "YIGG2Ou4ccN6"
   },
   "outputs": [],
   "source": [
    "data = data.reset_index(drop = True)\n",
    "zipcode = pd.get_dummies(data['zipcode'], drop_first=True) "
   ]
  },
  {
   "cell_type": "code",
   "execution_count": 37,
   "metadata": {
    "colab": {
     "base_uri": "https://localhost:8080/"
    },
    "id": "TVmI-R2Tcevs",
    "outputId": "056cd51a-f1a0-4c38-bc3b-75b9280857bf"
   },
   "outputs": [
    {
     "data": {
      "text/plain": [
       "Index(['price', 'waterfront', 'view', 'grade', 'sqft_above', 'sqft_basement',\n",
       "       'yr_renovated', 'zipcode', 'lat', 'long', 'year_purchased',\n",
       "       'bath/floor', 'bedrooms/bath', 'new_renovated',\n",
       "       'distance_from_seattle'],\n",
       "      dtype='object')"
      ]
     },
     "execution_count": 37,
     "metadata": {},
     "output_type": "execute_result"
    }
   ],
   "source": [
    "data.columns"
   ]
  },
  {
   "cell_type": "code",
   "execution_count": 38,
   "metadata": {
    "id": "3aWhzAEdcheO"
   },
   "outputs": [],
   "source": [
    "housing_num_cols = [ 'distance_from_seattle','view', 'sqft_above', 'lat', 'long','bath/floor', 'grade','year_purchased','new_renovated', 'sqft_basement', 'bedrooms/bath']\n",
    "housing_cat_cols = ['waterfront']"
   ]
  },
  {
   "cell_type": "markdown",
   "metadata": {
    "id": "6hXWHQEMcsKd"
   },
   "source": [
    "## Scaling the data"
   ]
  },
  {
   "cell_type": "code",
   "execution_count": 39,
   "metadata": {
    "colab": {
     "base_uri": "https://localhost:8080/"
    },
    "id": "El30A1E8czpS",
    "outputId": "249789ff-6649-43a3-b60b-8e8a543faa3f"
   },
   "outputs": [
    {
     "data": {
      "text/plain": [
       "(21525, 82)"
      ]
     },
     "execution_count": 39,
     "metadata": {},
     "output_type": "execute_result"
    }
   ],
   "source": [
    "X_num = data[housing_num_cols]\n",
    "y = data['price']\n",
    "\n",
    "# Scaling the data\n",
    "scaler = StandardScaler()\n",
    "X_num_norm = scaler.fit_transform(X_num)\n",
    "\n",
    "# Combining all the data frames\n",
    "housing_data_final = pd.concat([pd.DataFrame(X_num_norm).reset_index(drop=True),\n",
    "                                zipcode.reset_index(drop=True), \n",
    "                                data[housing_cat_cols].reset_index(drop=True),\n",
    "                                y.reset_index(drop = True)], axis = 1,\n",
    "              verify_integrity = True)\n",
    "housing_data_final.shape"
   ]
  },
  {
   "cell_type": "markdown",
   "metadata": {
    "id": "w1XVDOcSrSyd"
   },
   "source": [
    "There seems to have been some null values that have creeped in during the concatenation as pandas merges dataframes only on the common indices and so we will drop these null values."
   ]
  },
  {
   "cell_type": "code",
   "execution_count": 40,
   "metadata": {
    "colab": {
     "base_uri": "https://localhost:8080/"
    },
    "id": "jugFjBb-dB_A",
    "outputId": "c6d14137-6779-4c20-ee63-f9b5ea7010d2"
   },
   "outputs": [
    {
     "data": {
      "text/plain": [
       "16"
      ]
     },
     "execution_count": 40,
     "metadata": {},
     "output_type": "execute_result"
    }
   ],
   "source": [
    "np.count_nonzero(housing_data_final.isnull())"
   ]
  },
  {
   "cell_type": "code",
   "execution_count": 41,
   "metadata": {
    "colab": {
     "base_uri": "https://localhost:8080/"
    },
    "id": "JpmY-DS7dFYI",
    "outputId": "b5295e8e-daa5-4206-dce4-31b0cada1ec7"
   },
   "outputs": [
    {
     "data": {
      "text/plain": [
       "0"
      ]
     },
     "execution_count": 41,
     "metadata": {},
     "output_type": "execute_result"
    }
   ],
   "source": [
    "housing_data_final.dropna(inplace = True)\n",
    "np.count_nonzero(housing_data_final.isnull())"
   ]
  },
  {
   "cell_type": "markdown",
   "metadata": {
    "id": "KN83ESPAdIud"
   },
   "source": [
    "## Shuffling and splitting the data"
   ]
  },
  {
   "cell_type": "code",
   "execution_count": 42,
   "metadata": {
    "id": "a9lfeP_BdSaW"
   },
   "outputs": [],
   "source": [
    "# Dividing the data into the predictors and labels\n",
    "housing_data_final['log_price'] = np.log10(housing_data_final['price'])\n",
    "X1 = housing_data_final.drop(['price', 'log_price'], axis = 1)\n",
    "y1 = housing_data_final['log_price']\n",
    "\n",
    "# Fixing the datatype to float32 as tensorflow gives errors with other datatypes\n",
    "y1 = np.asarray(y1.to_numpy()).astype('float32')\n",
    "X1 = np.asarray(X1.to_numpy()).astype('float32')\n",
    "\n",
    "# Splitting the data in training and test sets in the ratio of 80% to 20% and shuffling it\n",
    "X_train, X_test, y_train, y_test = train_test_split(X1, \n",
    "                                                    y1, \n",
    "                                                    test_size = 0.2, \n",
    "                                                    random_state = 42,\n",
    "                                                    shuffle = True,\n",
    "                                                    )\n",
    "\n",
    "# Dividing the training data again to obtain the vaidation data for using thcall backs\n",
    "X_train_final, X_valid, y_train_final, y_valid = train_test_split(X_train,\n",
    "                                                                  y_train,\n",
    "                                                                  test_size = 0.2,\n",
    "                                                                  random_state = 42)"
   ]
  },
  {
   "cell_type": "code",
   "execution_count": 43,
   "metadata": {
    "colab": {
     "base_uri": "https://localhost:8080/"
    },
    "id": "yP-XZq5xdZsf",
    "outputId": "fd1dc078-d38e-4eec-c8f5-15ee121c9c4f"
   },
   "outputs": [
    {
     "data": {
      "text/plain": [
       "(17207, 81)"
      ]
     },
     "execution_count": 43,
     "metadata": {},
     "output_type": "execute_result"
    }
   ],
   "source": [
    "X_train.shape"
   ]
  },
  {
   "cell_type": "code",
   "execution_count": 44,
   "metadata": {
    "colab": {
     "base_uri": "https://localhost:8080/"
    },
    "id": "bgiKfMEvdb21",
    "outputId": "ac301dfe-b4e2-421d-8c78-b2666cfd9a43"
   },
   "outputs": [
    {
     "data": {
      "text/plain": [
       "(17207,)"
      ]
     },
     "execution_count": 44,
     "metadata": {},
     "output_type": "execute_result"
    }
   ],
   "source": [
    "y_train.shape"
   ]
  },
  {
   "cell_type": "markdown",
   "metadata": {
    "id": "WoYSgqQOddy0"
   },
   "source": [
    "## Building the model"
   ]
  },
  {
   "cell_type": "markdown",
   "metadata": {
    "id": "q9qwlfXqvEvQ"
   },
   "source": [
    "For developing the model we implemented the function below having default parameters which we think might be an fair estimate of a moderately good model to start with. As we go further we will be tuning all the parameters one-by-one using Randomized search Cross validation. \n",
    "To build this neural network we will be using batch normalization which normalizes the inputs before sending them into the next layer. This tends to speed up training by avoiding the vanishing gradients problem. In addition to this we also use the He_normal initialization strategy for ReLU activation functions and its variants and the default Glorot initialization for sigmoid and tanh functions, LeCun intitialisation for selu instead of random as random initialization tends to bring in instability at the early stages of training resulting in longer training times and causing the network to get stuch in local optima. "
   ]
  },
  {
   "cell_type": "code",
   "execution_count": 45,
   "metadata": {
    "id": "Q0gxxU6ldhk0"
   },
   "outputs": [],
   "source": [
    "def build_model(n_hidden = 1, n_neurons=80, learning_rate = 0.01, input_shape = [81], activation_func = 'relu', loss_func = 'mae', optimizer = 'Adam'):\n",
    "  model = keras.models.Sequential()\n",
    "  model.add(keras.layers.InputLayer(input_shape = input_shape))\n",
    "  \n",
    "  for layer in range(n_hidden):\n",
    "\n",
    "    # We add a batch normalization layer for all layers with activations function other than\n",
    "    # selu as selu is self normalizing\n",
    "    if activation_func != 'selu':\n",
    "      \n",
    "      # Setting the initializer strategy as he_normal in case of relu and its variants\n",
    "      if (activation_func in [ tf.keras.layers.PReLU(), tf.keras.layers.LeakyReLU(), 'relu', 'elu']):\n",
    "        init = 'he_normal'\n",
    "      \n",
    "      # Glorot uniforn in case of tanh and sigmoid\n",
    "      else:\n",
    "        init = tf.keras.initializers.GlorotUniform()\n",
    "      \n",
    "      # Adding a batch normalization layer\n",
    "      model.add(keras.layers.BatchNormalization())\n",
    "    \n",
    "    else:\n",
    "      # LeCun initializer works well with selu activation function\n",
    "      init = tf.keras.initializers.LecunUniform()\n",
    "\n",
    "    model.add(keras.layers.Dense(n_neurons, activation = activation_func, kernel_initializer= init))  \n",
    "  # Adding the output neuron\n",
    "  model.add(keras.layers.Dense(1))\n",
    "  \n",
    "  # Compiling the model\n",
    "  optimizer = optimizer\n",
    "  model.compile(loss = loss_func, optimizer = optimizer)\n",
    "  return model"
   ]
  },
  {
   "cell_type": "markdown",
   "metadata": {
    "id": "79JmdBb1TrT2"
   },
   "source": [
    "We will be making use of the KerasRegressor object which is a thin wrapper around the keras model built using the build_model function which will enable us to use sklearns RandomizedSearchCV to find our hyperparameters."
   ]
  },
  {
   "cell_type": "markdown",
   "metadata": {
    "id": "d33ZIbcVmwSq"
   },
   "source": [
    "We use a batch size of 32 and a default value of 15 for epochs to see which parameters perform best on hte first 15 epochs in order to save time and resources in long training times for a large number of epochs."
   ]
  },
  {
   "cell_type": "code",
   "execution_count": 46,
   "metadata": {
    "colab": {
     "base_uri": "https://localhost:8080/"
    },
    "id": "rZhAepmydjvs",
    "outputId": "bbb22ff5-68df-47a2-87e2-8276be6f88b3"
   },
   "outputs": [
    {
     "ename": "AttributeError",
     "evalue": "module 'keras' has no attribute 'wrappers'",
     "output_type": "error",
     "traceback": [
      "\u001b[0;31m---------------------------------------------------------------------------\u001b[0m",
      "\u001b[0;31mAttributeError\u001b[0m                            Traceback (most recent call last)",
      "Input \u001b[0;32mIn [46]\u001b[0m, in \u001b[0;36m<cell line: 2>\u001b[0;34m()\u001b[0m\n\u001b[1;32m      1\u001b[0m \u001b[38;5;66;03m# Using the sklearn wrapper for cross validation\u001b[39;00m\n\u001b[0;32m----> 2\u001b[0m reg_model \u001b[38;5;241m=\u001b[39m \u001b[43mkeras\u001b[49m\u001b[38;5;241;43m.\u001b[39;49m\u001b[43mwrappers\u001b[49m\u001b[38;5;241m.\u001b[39mscikit_learn\u001b[38;5;241m.\u001b[39mKerasRegressor(build_model, batch_size \u001b[38;5;241m=\u001b[39m \u001b[38;5;241m32\u001b[39m, epochs \u001b[38;5;241m=\u001b[39m \u001b[38;5;241m15\u001b[39m)\n",
      "\u001b[0;31mAttributeError\u001b[0m: module 'keras' has no attribute 'wrappers'"
     ]
    }
   ],
   "source": [
    "# Using the sklearn wrapper for cross validation\n",
    "reg_model = keras.wrappers.scikit_learn.KerasRegressor(build_model, batch_size = 32, epochs = 15)"
   ]
  },
  {
   "cell_type": "markdown",
   "metadata": {
    "id": "XMTv-aO-dldB"
   },
   "source": [
    "## Hyperparameter tuning using Randomized search\n",
    "The hyper-parameters were tuned using sklearn’s RandomizedSearchCV. The hunt for the best values was done by inputting the model and a dictionary of possible values in the RandomizedSearchcv object such that while searching for one hyper-parameter the others were kept fixed enabling us to get a good understanding of how the model’s performance changes based on the parameter alone. Among the list of values for the hyper-parameter being tuned the n_iter value was set to 4 which means out of the given list of possible values, 4 will be sampled at random. Based on these 4 values the models were tested using 3-fold cross-validation with negative mean absolute error as the scoring function.\n",
    "The average training and validation score is then plotted to give an indication of which hyperparameter is best suited."
   ]
  },
  {
   "cell_type": "code",
   "execution_count": 44,
   "metadata": {
    "id": "f0KktHuPimyx"
   },
   "outputs": [],
   "source": [
    "# Function for plotting the results of the random search\n",
    "def plot_random_search(cv_results, parameter_name, display_name):\n",
    "    # Get the mean train and test scores\n",
    "    y_1 = cv_results['mean_test_score']\n",
    "    y_2 = cv_results['mean_train_score']\n",
    "\n",
    "    # Plot random search scores\n",
    "    x = []\n",
    "    for i in range(len(results.cv_results_['params'])):\n",
    "        x.append(str(results.cv_results_['params'][i][parameter_name]))\n",
    "    plt.title('Mean score per parameter')\n",
    "    plt.ylabel('Mean score')\n",
    "    plt.plot(x, y_1, linestyle='--', marker='o', label='Validation')\n",
    "    plt.plot(x, y_2, linestyle='-', marker='^',label='Train' )\n",
    "    plt.xlabel(display_name)\n",
    "    plt.legend()\n",
    "    plt.show()"
   ]
  },
  {
   "cell_type": "markdown",
   "metadata": {
    "id": "N8xdT42RdqAQ"
   },
   "source": [
    "#### Activation functions"
   ]
  },
  {
   "cell_type": "code",
   "execution_count": 45,
   "metadata": {
    "colab": {
     "base_uri": "https://localhost:8080/",
     "height": 313
    },
    "id": "MXhkeJCgds8m",
    "outputId": "b18cef52-66e6-4763-dbae-286afb89e945"
   },
   "outputs": [
    {
     "name": "stdout",
     "output_type": "stream",
     "text": [
      "The best value is:  {'activation_func': 'sigmoid'}\n"
     ]
    },
    {
     "data": {
      "image/png": "[encoded data removed]",
      "text/plain": [
       "<Figure size 432x288 with 1 Axes>"
      ]
     },
     "metadata": {
      "needs_background": "light"
     },
     "output_type": "display_data"
    }
   ],
   "source": [
    "param_distribs = {\n",
    "    'activation_func': [ tf.keras.layers.PReLU(), tf.keras.layers.LeakyReLU(),'sigmoid', 'tanh', 'relu', 'elu', 'selu']\n",
    "}\n",
    "\n",
    "random_search = RandomizedSearchCV(reg_model, \n",
    "                                   param_distribs, \n",
    "                                   cv = 3, \n",
    "                                   scoring = 'neg_mean_absolute_error',\n",
    "                                   error_score = 'raise', \n",
    "                                   n_iter = 4,\n",
    "                                   return_train_score = True,\n",
    "                                   random_state = 42)\n",
    "\n",
    "results = random_search.fit(X_train_final, y_train_final, verbose = 0)\n",
    "\n",
    "# Printing the best parameter\n",
    "print('The best value is: ', random_search.best_params_)\n",
    "\n",
    "plot_random_search(results.cv_results_, 'activation_func', 'Activation functions')"
   ]
  },
  {
   "cell_type": "markdown",
   "metadata": {
    "id": "xEKO5u0HU7uy"
   },
   "source": [
    "The sigmoid function is normally not very popular due to the fact that in the long run it saturates to 0 or 1 which happens due to the fact that the mean value of the sigmoid function is 0.5 and not 0 which tends to push the input further and further as we go deeper in the layer causing it to saturate.\n",
    "In this condition no learning can take place or even if it does it will happen very slowly as the derivative in the saturated region is zero. \n",
    "We alleviate this problem making sure that the variance of the outputs of each layer should be equal to the variance of its inputs.\n",
    "This is done by using the glorot initialization at the beginning of the training and by the batch normalization layer we used in the build function. This special layer performs normalization on the outputs of one layer before feeding it to the next layer thereby restricting the variance and eliminating the 'dead neuron' effect."
   ]
  },
  {
   "cell_type": "markdown",
   "metadata": {
    "id": "Z-6bpH1ZdvFH"
   },
   "source": [
    "#### Hidden layers"
   ]
  },
  {
   "cell_type": "code",
   "execution_count": null,
   "metadata": {
    "colab": {
     "base_uri": "https://localhost:8080/",
     "height": 333
    },
    "id": "98Jm0vgceT58",
    "outputId": "08cc98b4-5f3a-4129-d6d0-9ae23005755c"
   },
   "outputs": [
    {
     "name": "stdout",
     "output_type": "stream",
     "text": [
      "The best value is:  {'n_hidden': 9, 'activation_func': 'sigmoid'}\n"
     ]
    },
    {
     "data": {
      "image/png": "[encoded data removed]",
      "text/plain": [
       "<Figure size 432x288 with 1 Axes>"
      ]
     },
     "metadata": {
      "needs_background": "light"
     },
     "output_type": "display_data"
    }
   ],
   "source": [
    "param_distribs = {\n",
    "    'activation_func' : ['sigmoid'],\n",
    "    'n_hidden': [1, 2, 3, 4, 5, 6, 7, 8, 9, 10]\n",
    "}\n",
    "\n",
    "random_search = RandomizedSearchCV(reg_model, \n",
    "                                   param_distribs, \n",
    "                                   cv = 3, \n",
    "                                   scoring = 'neg_mean_absolute_error',\n",
    "                                   error_score = 'raise', \n",
    "                                   n_iter = 4,\n",
    "                                   return_train_score = True,\n",
    "                                   random_state = 42)\n",
    "\n",
    "results = random_search.fit(X_train_final, y_train_final, verbose = 0)\n",
    "\n",
    "# Printing the best parameter\n",
    "print('The best value is: ', random_search.best_params_)\n",
    "\n",
    "plot_random_search(results.cv_results_, 'n_hidden', 'Number of hidden layers')"
   ]
  },
  {
   "cell_type": "markdown",
   "metadata": {
    "id": "vHBSpam6ZSDm"
   },
   "source": [
    "The higher the number of hidden layers in the network enable the model to detect more patterns and hence learn better which is why among the chosen values for the number of layers 9 was selected as it helped the model learn more important information which was not possible with a shallower network.\n",
    "But at the same time a very deep network may cause overfitting and also increase the computational time and resources.\n",
    "We select 9 because it has the highest validation and training score."
   ]
  },
  {
   "cell_type": "markdown",
   "metadata": {
    "id": "DCEhkNHienrU"
   },
   "source": [
    "#### Number of neurons per layer"
   ]
  },
  {
   "cell_type": "code",
   "execution_count": null,
   "metadata": {
    "colab": {
     "base_uri": "https://localhost:8080/",
     "height": 333
    },
    "id": "vXZDqWedhkxu",
    "outputId": "06ff5873-2c17-44e3-b05a-07bf1445156c"
   },
   "outputs": [
    {
     "name": "stdout",
     "output_type": "stream",
     "text": [
      "The best value is:  {'n_neurons': 125, 'n_hidden': 9, 'activation_func': 'sigmoid'}\n"
     ]
    },
    {
     "data": {
      "image/png": "[encoded data removed]",
      "text/plain": [
       "<Figure size 432x288 with 1 Axes>"
      ]
     },
     "metadata": {
      "needs_background": "light"
     },
     "output_type": "display_data"
    }
   ],
   "source": [
    "param_distribs = {\n",
    "    'activation_func' : ['sigmoid'],\n",
    "    'n_hidden': [9],\n",
    "    'n_neurons': [79, 85, 90, 95, 100, 105, 110, 115, 120, 125, 130, 135, 140]\n",
    "\n",
    "}\n",
    "\n",
    "random_search = RandomizedSearchCV(reg_model, \n",
    "                                   param_distribs, \n",
    "                                   cv = 3, \n",
    "                                   scoring = 'neg_mean_absolute_error',\n",
    "                                   error_score = 'raise', \n",
    "                                   n_iter = 4,\n",
    "                                   return_train_score = True,\n",
    "                                   random_state = 42)\n",
    "\n",
    "results = random_search.fit(X_train_final, y_train_final, verbose = 0)\n",
    "\n",
    "# Printing the best parameter\n",
    "print('The best value is: ', random_search.best_params_)\n",
    "plot_random_search(results.cv_results_, 'n_neurons', 'Number of neurons per layer')"
   ]
  },
  {
   "cell_type": "markdown",
   "metadata": {
    "id": "WcXafFe6a-WT"
   },
   "source": [
    "Similar to the number of layers, the number of nodes in a layer are also important. Too many could overfit the data by detecting unnecessary patterns among the variables itself while too few tend to result in a high bias due to underfitting. In this case we choose 125 as it has the highest training and validation score compared to the others."
   ]
  },
  {
   "cell_type": "markdown",
   "metadata": {
    "id": "ZD2LAx-oh4Ud"
   },
   "source": [
    "## Optimizer"
   ]
  },
  {
   "cell_type": "code",
   "execution_count": null,
   "metadata": {
    "colab": {
     "base_uri": "https://localhost:8080/",
     "height": 333
    },
    "id": "ZFHc-MdxiFFo",
    "outputId": "3d81b2ee-6009-4091-9c26-caa30c00ea33"
   },
   "outputs": [
    {
     "name": "stdout",
     "output_type": "stream",
     "text": [
      "The best value is:  {'optimizer': 'Adam', 'n_neurons': 125, 'n_hidden': 9, 'activation_func': 'sigmoid'}\n"
     ]
    },
    {
     "data": {
      "image/png": "[encoded data removed]",
      "text/plain": [
       "<Figure size 432x288 with 1 Axes>"
      ]
     },
     "metadata": {
      "needs_background": "light"
     },
     "output_type": "display_data"
    }
   ],
   "source": [
    "param_distribs = {\n",
    "    'n_hidden' : [9],\n",
    "    'n_neurons': [125],\n",
    "    'activation_func': ['sigmoid'],\n",
    "    'optimizer': ['Adam','RMSprop', 'Adagrad', 'Adadelta', 'Adamax', 'Nadam']\n",
    "}\n",
    "\n",
    "random_search = RandomizedSearchCV(reg_model, \n",
    "                                   param_distribs, \n",
    "                                   cv = 3, \n",
    "                                   scoring = 'neg_mean_absolute_error',\n",
    "                                   error_score = 'raise', \n",
    "                                   n_iter = 4,\n",
    "                                   return_train_score = True,\n",
    "                                   random_state = 42)\n",
    "\n",
    "results = random_search.fit(X_train_final, y_train_final, verbose = 0)\n",
    "\n",
    "# Printing the best parameter\n",
    "print('The best value is: ', random_search.best_params_)\n",
    "\n",
    "plot_random_search(results.cv_results_, 'optimizer', 'Optimizer')"
   ]
  },
  {
   "cell_type": "markdown",
   "metadata": {
    "id": "MGYEti4pcJNZ"
   },
   "source": [
    "Adam is the best optimizer for this task as is indicated by its high training and validation score. It has the advantage of using the idea of momentum and also keeps track of an exponentially decaying average of past gradients which helps in quick optimization.\n",
    "Adam tends to combine the benefits of RMSprop and AdaGrad and can handle sparse data well. Since our data is also sparse owing to the large number of one hot vectors its not doubt that Adam has the best performance."
   ]
  },
  {
   "cell_type": "markdown",
   "metadata": {
    "id": "CyOuPyzqnzOo"
   },
   "source": [
    "## Loss function"
   ]
  },
  {
   "cell_type": "code",
   "execution_count": null,
   "metadata": {
    "colab": {
     "base_uri": "https://localhost:8080/",
     "height": 333
    },
    "id": "lxeRJMi4n148",
    "outputId": "46ff50a1-237b-4501-e9dd-cce7749e68f4"
   },
   "outputs": [
    {
     "name": "stdout",
     "output_type": "stream",
     "text": [
      "The best value is:  {'optimizer': 'Adam', 'n_neurons': 125, 'n_hidden': 9, 'loss_func': 'huber_loss', 'activation_func': 'sigmoid'}\n"
     ]
    },
    {
     "data": {
      "image/png": "[encoded data removed]",
      "text/plain": [
       "<Figure size 432x288 with 1 Axes>"
      ]
     },
     "metadata": {
      "needs_background": "light"
     },
     "output_type": "display_data"
    }
   ],
   "source": [
    "param_distribs = {\n",
    "    'n_hidden' : [9],\n",
    "    'n_neurons': [125],\n",
    "    'activation_func': ['sigmoid'],\n",
    "    'optimizer': ['Adam'],\n",
    "    'loss_func' : ['mse','mae', 'huber_loss']\n",
    "\n",
    "}\n",
    "\n",
    "random_search = RandomizedSearchCV(reg_model, \n",
    "                                   param_distribs, \n",
    "                                   cv = 3, \n",
    "                                   scoring = 'neg_mean_absolute_error',\n",
    "                                   error_score = 'raise', \n",
    "                                   n_iter = 3,\n",
    "                                   return_train_score = True,\n",
    "                                   random_state = 42)\n",
    "\n",
    "results = random_search.fit(X_train_final, y_train_final, verbose = 0)\n",
    "\n",
    "# Printing the best parameter\n",
    "print('The best value is: ', random_search.best_params_)\n",
    "\n",
    "plot_random_search(results.cv_results_, 'loss_func', 'Loss Function')"
   ]
  },
  {
   "cell_type": "markdown",
   "metadata": {
    "id": "2syvPD0Lefcs"
   },
   "source": [
    "The mean squared error is a good loss function where outliers are very important as the even if the model makes a single wrong prediction it will shoot up the loss as it is squared.\n",
    "\n",
    "Mean absolute error on the other hand gives equal weightage to the regular values as well as outliers by taking the absolute difference and averaging it which ignores the effect fo the outliers.\n",
    "\n",
    "As we discussed before our dataset has a few important outliers indicated by the luxury houses sold at high premium prices while most of the other houses are regular houses so we would like to give some importance to the outliers but not too much importance.\n",
    "\n",
    "In this case the huber loss is the best function as it takes the advantages of both the MSE and MAE by introducing a loss threshold value above which MAE is used otherwise MSE is used."
   ]
  },
  {
   "cell_type": "markdown",
   "metadata": {
    "id": "44pepwPZn8KJ"
   },
   "source": [
    "## Batch size"
   ]
  },
  {
   "cell_type": "code",
   "execution_count": null,
   "metadata": {
    "colab": {
     "base_uri": "https://localhost:8080/",
     "height": 333
    },
    "id": "MCzIrJpNn_GW",
    "outputId": "f3192b79-59b8-4294-c6e5-b7dc7c4b986b"
   },
   "outputs": [
    {
     "name": "stdout",
     "output_type": "stream",
     "text": [
      "The best value is:  {'optimizer': 'Adam', 'n_neurons': 125, 'n_hidden': 9, 'loss_func': 'huber_loss', 'batch_size': 50, 'activation_func': 'sigmoid'}\n"
     ]
    },
    {
     "data": {
      "image/png": "[encoded data removed]",
      "text/plain": [
       "<Figure size 432x288 with 1 Axes>"
      ]
     },
     "metadata": {
      "needs_background": "light"
     },
     "output_type": "display_data"
    }
   ],
   "source": [
    "param_distribs = {\n",
    "    'n_hidden' : [9],\n",
    "    'n_neurons': [125],\n",
    "    'activation_func': ['sigmoid'],\n",
    "    'optimizer': ['Adam'],\n",
    "    'loss_func' : ['huber_loss'],\n",
    "    'batch_size': [5, 10, 20, 32, 40, 50, 60]\n",
    "\n",
    "\n",
    "}\n",
    "\n",
    "random_search = RandomizedSearchCV(reg_model, \n",
    "                                   param_distribs, \n",
    "                                   cv = 3, \n",
    "                                   scoring = 'neg_mean_absolute_error',\n",
    "                                   error_score = 'raise', \n",
    "                                   n_iter = 4,\n",
    "                                   return_train_score = True,\n",
    "                                   random_state = 42)\n",
    "\n",
    "results = random_search.fit(X_train_final, y_train_final, verbose = 0)\n",
    "\n",
    "# Printing the best parameter\n",
    "print('The best value is: ', random_search.best_params_)\n",
    "\n",
    "plot_random_search(results.cv_results_, 'batch_size', 'Batch size')"
   ]
  },
  {
   "cell_type": "markdown",
   "metadata": {
    "id": "tsU7ZdcbihjR"
   },
   "source": [
    "Larger batch sizes have the benefit of taking advantage ofhardware accelerators like GPUs as long as it can fit in the memory. This implies the model can see more training instances per second. But very large batch sizes could induce instabilities in the beginning of training. In the plot 50 has the highest training and validation score owing to the fact that the code was run in the Google Collaboratory environment which makes use of Tesla GPUs. Generally, the best default value for this is 32 but since our Random search didn't select it among the candidates we will stick to 50"
   ]
  },
  {
   "cell_type": "markdown",
   "metadata": {
    "id": "NKuU5eDbJKde"
   },
   "source": [
    "## Initial Learning rate\n"
   ]
  },
  {
   "cell_type": "markdown",
   "metadata": {
    "id": "k3aOOY8cj134"
   },
   "source": [
    "In this section we will be using Random search to  see which learning rate helps train the model fastest in the first few epochs of training.\n",
    "We will not be using a constant learning rate as this might cause the model to train very slowly if its small or cause it oscillate and never converge to the global minimum.\n",
    "\n",
    "To avoid this we will be using a learning rate scheduler while training the final model. This helps take advantage of the high initial learning rate at the beginning and progressively drop the its value as progresses resulting in a fine tuned search for the minumum."
   ]
  },
  {
   "cell_type": "code",
   "execution_count": null,
   "metadata": {
    "colab": {
     "base_uri": "https://localhost:8080/",
     "height": 333
    },
    "id": "DQNio50-JK6X",
    "outputId": "e41a1e92-8608-48ce-87b8-4b9a49838da7"
   },
   "outputs": [
    {
     "name": "stdout",
     "output_type": "stream",
     "text": [
      "The best value is:  {'optimizer': 'Adam', 'n_neurons': 125, 'n_hidden': 9, 'loss_func': 'huber_loss', 'learning_rate': 0.0001, 'batch_size': 20, 'activation_func': 'sigmoid'}\n"
     ]
    },
    {
     "data": {
      "image/png": "[encoded data removed]",
      "text/plain": [
       "<Figure size 432x288 with 1 Axes>"
      ]
     },
     "metadata": {
      "needs_background": "light"
     },
     "output_type": "display_data"
    }
   ],
   "source": [
    "param_distribs = {\n",
    "    'n_hidden' : [9],\n",
    "    'n_neurons': [125],\n",
    "    'activation_func': ['sigmoid'],\n",
    "    'optimizer': ['Adam'],\n",
    "    'loss_func' : ['huber_loss'],\n",
    "    'batch_size': [50],\n",
    "    'learning_rate' : [0.1, 0.01, 0.001, 0.0001]\n",
    "\n",
    "\n",
    "}\n",
    "\n",
    "random_search = RandomizedSearchCV(reg_model, \n",
    "                                   param_distribs, \n",
    "                                   cv = 3, \n",
    "                                   scoring = 'neg_mean_absolute_error',\n",
    "                                   error_score = 'raise', \n",
    "                                   n_iter = 3,\n",
    "                                   return_train_score = True,\n",
    "                                   random_state = 42)\n",
    "\n",
    "results = random_search.fit(X_train_final, y_train_final, verbose = 0)\n",
    "\n",
    "# Printing the best parameter\n",
    "print('The best value is: ', random_search.best_params_)\n",
    "\n",
    "plot_random_search(results.cv_results_, 'learning_rate', 'Learning Rate')"
   ]
  },
  {
   "cell_type": "markdown",
   "metadata": {
    "id": "BcKg4RJElVsG"
   },
   "source": [
    "The best value is 0.0001"
   ]
  },
  {
   "cell_type": "markdown",
   "metadata": {
    "id": "LOkLsgT-oKqQ"
   },
   "source": [
    "## Epochs"
   ]
  },
  {
   "cell_type": "markdown",
   "metadata": {
    "id": "drqWF6CEoNfK"
   },
   "source": [
    "For tuning the epochs we will be using the Early stopping callback while training the final model based on the above tuned hyperparameters.\n",
    "We will choose a sufficiently high number of epochs and start trainning the model with the early stopping callback with patience = 10 indicating that if the validation loss doesnt improve for 10 successive epochs the training will stop. This will help us save time and resources that would be lost in using grid search or Randomised search for training a large number of epochs."
   ]
  },
  {
   "cell_type": "markdown",
   "metadata": {
    "id": "cpfju3JRNNU-"
   },
   "source": [
    "### Final model based on hyperparameter tuning\n",
    "Here specify the weight initializer, as the Glorot initializer as it works well with the sigmoid activation function."
   ]
  },
  {
   "cell_type": "code",
   "execution_count": 141,
   "metadata": {
    "id": "EAgPS26NNS4z"
   },
   "outputs": [],
   "source": [
    "def final_model(n_hidden = 1, n_neurons=80, learning_rate = 0.01, input_shape = [81], activation_func = 'relu', loss_func = 'mae', optimizer = tf.keras.optimizers.Adam()):\n",
    "  model = keras.models.Sequential()\n",
    "  model.add(keras.layers.InputLayer(input_shape = input_shape))\n",
    "  \n",
    "  for layer in range(n_hidden):\n",
    "    model.add(keras.layers.BatchNormalization())\n",
    "    model.add(keras.layers.Dense(n_neurons, \n",
    "                                 activation = activation_func,\n",
    "                                 kernel_initializer = tf.keras.initializers.GlorotNormal(seed=42))                                 )  \n",
    "  # Adding the output neuron\n",
    "  model.add(keras.layers.Dense(1))\n",
    "  \n",
    "  # Compiling the model\n",
    "  optimizer = optimizer\n",
    "  optimizer.learning_rate = learning_rate\n",
    "  model.compile(loss = loss_func, optimizer = optimizer)\n",
    "  \n",
    "  return model"
   ]
  },
  {
   "cell_type": "markdown",
   "metadata": {
    "id": "iG7Ul9KhIvsy"
   },
   "source": [
    "## Developing the final model based on the hyper parameter tuninig"
   ]
  },
  {
   "cell_type": "markdown",
   "metadata": {
    "id": "hJDP0CejmGSs"
   },
   "source": [
    "Keras helps you specify a list of objects to be called at the start and end of training with the help of callbacks.\n",
    " \n",
    "We will get the best results out of the epochs parameter by using the Early stopping callback which stops training when the performace of the model does not improve for certain number of iteration. In our case we will fix this value at 10.\n",
    "\n",
    "As mentioned before we will also be using a learning rate scheduler with the help of callbacks. The one we will be using is such that whenever the perfomance of a model plateaus (does not improve for 5 successive iterations) it reduces the learning rate by a predetermined factor (0.5)."
   ]
  },
  {
   "cell_type": "code",
   "execution_count": 160,
   "metadata": {
    "colab": {
     "base_uri": "https://localhost:8080/"
    },
    "id": "wGc6Byj9Pk4g",
    "outputId": "70a9d559-834a-4d86-87d6-df06c88d829a"
   },
   "outputs": [
    {
     "name": "stdout",
     "output_type": "stream",
     "text": [
      "Epoch 1/150\n",
      "276/276 [==============================] - 7s 15ms/step - loss: 3.2370 - val_loss: 2.7204 - lr: 1.0000e-04\n",
      "Epoch 2/150\n",
      "276/276 [==============================] - 4s 15ms/step - loss: 0.4139 - val_loss: 0.0190 - lr: 1.0000e-04\n",
      "Epoch 3/150\n",
      "276/276 [==============================] - 4s 14ms/step - loss: 0.0465 - val_loss: 0.0238 - lr: 1.0000e-04\n",
      "Epoch 4/150\n",
      "276/276 [==============================] - 4s 14ms/step - loss: 0.0323 - val_loss: 0.0216 - lr: 1.0000e-04\n",
      "Epoch 5/150\n",
      "276/276 [==============================] - 4s 14ms/step - loss: 0.0256 - val_loss: 0.0253 - lr: 1.0000e-04\n",
      "Epoch 6/150\n",
      "276/276 [==============================] - 4s 15ms/step - loss: 0.0203 - val_loss: 0.0164 - lr: 1.0000e-04\n",
      "Epoch 7/150\n",
      "276/276 [==============================] - 4s 14ms/step - loss: 0.0196 - val_loss: 0.0132 - lr: 1.0000e-04\n",
      "Epoch 8/150\n",
      "276/276 [==============================] - 4s 14ms/step - loss: 0.0169 - val_loss: 0.0105 - lr: 1.0000e-04\n",
      "Epoch 9/150\n",
      "276/276 [==============================] - 4s 14ms/step - loss: 0.0136 - val_loss: 0.0091 - lr: 1.0000e-04\n",
      "Epoch 10/150\n",
      "276/276 [==============================] - 4s 14ms/step - loss: 0.0124 - val_loss: 0.0108 - lr: 1.0000e-04\n",
      "Epoch 11/150\n",
      "276/276 [==============================] - 4s 13ms/step - loss: 0.0108 - val_loss: 0.0073 - lr: 1.0000e-04\n",
      "Epoch 12/150\n",
      "276/276 [==============================] - 4s 13ms/step - loss: 0.0104 - val_loss: 0.0078 - lr: 1.0000e-04\n",
      "Epoch 13/150\n",
      "276/276 [==============================] - 4s 14ms/step - loss: 0.0093 - val_loss: 0.0083 - lr: 1.0000e-04\n",
      "Epoch 14/150\n",
      "276/276 [==============================] - 4s 13ms/step - loss: 0.0091 - val_loss: 0.0060 - lr: 1.0000e-04\n",
      "Epoch 15/150\n",
      "276/276 [==============================] - 4s 14ms/step - loss: 0.0088 - val_loss: 0.0063 - lr: 1.0000e-04\n",
      "Epoch 16/150\n",
      "276/276 [==============================] - 4s 14ms/step - loss: 0.0076 - val_loss: 0.0057 - lr: 1.0000e-04\n",
      "Epoch 17/150\n",
      "276/276 [==============================] - 4s 13ms/step - loss: 0.0077 - val_loss: 0.0062 - lr: 1.0000e-04\n",
      "Epoch 18/150\n",
      "276/276 [==============================] - 4s 14ms/step - loss: 0.0071 - val_loss: 0.0052 - lr: 1.0000e-04\n",
      "Epoch 19/150\n",
      "276/276 [==============================] - 4s 14ms/step - loss: 0.0070 - val_loss: 0.0054 - lr: 1.0000e-04\n",
      "Epoch 20/150\n",
      "276/276 [==============================] - 4s 14ms/step - loss: 0.0070 - val_loss: 0.0053 - lr: 1.0000e-04\n",
      "Epoch 21/150\n",
      "276/276 [==============================] - 4s 13ms/step - loss: 0.0065 - val_loss: 0.0057 - lr: 1.0000e-04\n",
      "Epoch 22/150\n",
      "276/276 [==============================] - 4s 14ms/step - loss: 0.0066 - val_loss: 0.0051 - lr: 1.0000e-04\n",
      "Epoch 23/150\n",
      "276/276 [==============================] - 4s 13ms/step - loss: 0.0063 - val_loss: 0.0052 - lr: 1.0000e-04\n",
      "Epoch 24/150\n",
      "276/276 [==============================] - 4s 14ms/step - loss: 0.0059 - val_loss: 0.0048 - lr: 1.0000e-04\n",
      "Epoch 25/150\n",
      "276/276 [==============================] - 4s 14ms/step - loss: 0.0063 - val_loss: 0.0048 - lr: 1.0000e-04\n",
      "Epoch 26/150\n",
      "276/276 [==============================] - 4s 14ms/step - loss: 0.0057 - val_loss: 0.0054 - lr: 1.0000e-04\n",
      "Epoch 27/150\n",
      "276/276 [==============================] - 4s 13ms/step - loss: 0.0059 - val_loss: 0.0046 - lr: 1.0000e-04\n",
      "Epoch 28/150\n",
      "276/276 [==============================] - 4s 14ms/step - loss: 0.0055 - val_loss: 0.0045 - lr: 1.0000e-04\n",
      "Epoch 29/150\n",
      "276/276 [==============================] - 4s 14ms/step - loss: 0.0055 - val_loss: 0.0044 - lr: 1.0000e-04\n",
      "Epoch 30/150\n",
      "276/276 [==============================] - 4s 13ms/step - loss: 0.0052 - val_loss: 0.0043 - lr: 1.0000e-04\n",
      "Epoch 31/150\n",
      "276/276 [==============================] - 4s 14ms/step - loss: 0.0053 - val_loss: 0.0048 - lr: 1.0000e-04\n",
      "Epoch 32/150\n",
      "276/276 [==============================] - 4s 13ms/step - loss: 0.0052 - val_loss: 0.0042 - lr: 1.0000e-04\n",
      "Epoch 33/150\n",
      "276/276 [==============================] - 4s 13ms/step - loss: 0.0050 - val_loss: 0.0048 - lr: 1.0000e-04\n",
      "Epoch 34/150\n",
      "276/276 [==============================] - 4s 13ms/step - loss: 0.0051 - val_loss: 0.0042 - lr: 1.0000e-04\n",
      "Epoch 35/150\n",
      "276/276 [==============================] - 4s 14ms/step - loss: 0.0048 - val_loss: 0.0045 - lr: 1.0000e-04\n",
      "Epoch 36/150\n",
      "276/276 [==============================] - 4s 13ms/step - loss: 0.0050 - val_loss: 0.0044 - lr: 1.0000e-04\n",
      "Epoch 37/150\n",
      "276/276 [==============================] - 4s 13ms/step - loss: 0.0048 - val_loss: 0.0044 - lr: 1.0000e-04\n",
      "Epoch 38/150\n",
      "276/276 [==============================] - 4s 13ms/step - loss: 0.0045 - val_loss: 0.0040 - lr: 5.0000e-05\n",
      "Epoch 39/150\n",
      "276/276 [==============================] - 4s 13ms/step - loss: 0.0043 - val_loss: 0.0040 - lr: 5.0000e-05\n",
      "Epoch 40/150\n",
      "276/276 [==============================] - 4s 13ms/step - loss: 0.0045 - val_loss: 0.0039 - lr: 5.0000e-05\n",
      "Epoch 41/150\n",
      "276/276 [==============================] - 4s 13ms/step - loss: 0.0044 - val_loss: 0.0038 - lr: 5.0000e-05\n",
      "Epoch 42/150\n",
      "276/276 [==============================] - 4s 13ms/step - loss: 0.0044 - val_loss: 0.0039 - lr: 5.0000e-05\n",
      "Epoch 43/150\n",
      "276/276 [==============================] - 4s 13ms/step - loss: 0.0044 - val_loss: 0.0040 - lr: 5.0000e-05\n",
      "Epoch 44/150\n",
      "276/276 [==============================] - 4s 13ms/step - loss: 0.0043 - val_loss: 0.0044 - lr: 5.0000e-05\n",
      "Epoch 45/150\n",
      "276/276 [==============================] - 4s 13ms/step - loss: 0.0044 - val_loss: 0.0039 - lr: 5.0000e-05\n",
      "Epoch 46/150\n",
      "276/276 [==============================] - 4s 13ms/step - loss: 0.0044 - val_loss: 0.0037 - lr: 5.0000e-05\n",
      "Epoch 47/150\n",
      "276/276 [==============================] - 4s 14ms/step - loss: 0.0043 - val_loss: 0.0039 - lr: 5.0000e-05\n",
      "Epoch 48/150\n",
      "276/276 [==============================] - 4s 13ms/step - loss: 0.0043 - val_loss: 0.0038 - lr: 5.0000e-05\n",
      "Epoch 49/150\n",
      "276/276 [==============================] - 4s 14ms/step - loss: 0.0043 - val_loss: 0.0037 - lr: 5.0000e-05\n",
      "Epoch 50/150\n",
      "276/276 [==============================] - 4s 13ms/step - loss: 0.0042 - val_loss: 0.0037 - lr: 5.0000e-05\n",
      "Epoch 51/150\n",
      "276/276 [==============================] - 4s 13ms/step - loss: 0.0042 - val_loss: 0.0037 - lr: 5.0000e-05\n",
      "Epoch 52/150\n",
      "276/276 [==============================] - 4s 13ms/step - loss: 0.0041 - val_loss: 0.0036 - lr: 2.5000e-05\n",
      "Epoch 53/150\n",
      "276/276 [==============================] - 4s 14ms/step - loss: 0.0040 - val_loss: 0.0037 - lr: 2.5000e-05\n",
      "Epoch 54/150\n",
      "276/276 [==============================] - 4s 14ms/step - loss: 0.0040 - val_loss: 0.0036 - lr: 2.5000e-05\n",
      "Epoch 55/150\n",
      "276/276 [==============================] - 4s 13ms/step - loss: 0.0040 - val_loss: 0.0038 - lr: 2.5000e-05\n",
      "Epoch 56/150\n",
      "276/276 [==============================] - 4s 13ms/step - loss: 0.0040 - val_loss: 0.0036 - lr: 2.5000e-05\n",
      "Epoch 57/150\n",
      "276/276 [==============================] - 4s 13ms/step - loss: 0.0039 - val_loss: 0.0038 - lr: 2.5000e-05\n",
      "Epoch 58/150\n",
      "276/276 [==============================] - 4s 13ms/step - loss: 0.0040 - val_loss: 0.0037 - lr: 2.5000e-05\n",
      "Epoch 59/150\n",
      "276/276 [==============================] - 4s 13ms/step - loss: 0.0040 - val_loss: 0.0036 - lr: 2.5000e-05\n",
      "Epoch 60/150\n",
      "276/276 [==============================] - 4s 13ms/step - loss: 0.0039 - val_loss: 0.0035 - lr: 2.5000e-05\n",
      "Epoch 61/150\n",
      "276/276 [==============================] - 4s 13ms/step - loss: 0.0039 - val_loss: 0.0037 - lr: 2.5000e-05\n",
      "Epoch 62/150\n",
      "276/276 [==============================] - 4s 13ms/step - loss: 0.0038 - val_loss: 0.0037 - lr: 1.2500e-05\n",
      "Epoch 63/150\n",
      "276/276 [==============================] - 4s 13ms/step - loss: 0.0039 - val_loss: 0.0036 - lr: 1.2500e-05\n",
      "Epoch 64/150\n",
      "276/276 [==============================] - 4s 13ms/step - loss: 0.0039 - val_loss: 0.0036 - lr: 1.2500e-05\n",
      "Epoch 65/150\n",
      "276/276 [==============================] - 4s 13ms/step - loss: 0.0039 - val_loss: 0.0038 - lr: 1.2500e-05\n",
      "Epoch 66/150\n",
      "276/276 [==============================] - 4s 13ms/step - loss: 0.0038 - val_loss: 0.0036 - lr: 1.2500e-05\n",
      "Epoch 67/150\n",
      "276/276 [==============================] - 4s 13ms/step - loss: 0.0038 - val_loss: 0.0035 - lr: 6.2500e-06\n",
      "Epoch 68/150\n",
      "276/276 [==============================] - 4s 13ms/step - loss: 0.0037 - val_loss: 0.0036 - lr: 6.2500e-06\n",
      "Epoch 69/150\n",
      "276/276 [==============================] - 4s 13ms/step - loss: 0.0038 - val_loss: 0.0035 - lr: 6.2500e-06\n",
      "Epoch 70/150\n",
      "276/276 [==============================] - 4s 13ms/step - loss: 0.0037 - val_loss: 0.0035 - lr: 6.2500e-06\n",
      "Epoch 71/150\n",
      "276/276 [==============================] - 4s 13ms/step - loss: 0.0038 - val_loss: 0.0036 - lr: 6.2500e-06\n",
      "Epoch 72/150\n",
      "276/276 [==============================] - 4s 13ms/step - loss: 0.0037 - val_loss: 0.0035 - lr: 3.1250e-06\n",
      "Epoch 73/150\n",
      "276/276 [==============================] - 4s 13ms/step - loss: 0.0038 - val_loss: 0.0035 - lr: 3.1250e-06\n",
      "Epoch 74/150\n",
      "276/276 [==============================] - 4s 14ms/step - loss: 0.0037 - val_loss: 0.0036 - lr: 3.1250e-06\n",
      "Epoch 75/150\n",
      "276/276 [==============================] - 4s 13ms/step - loss: 0.0038 - val_loss: 0.0036 - lr: 3.1250e-06\n",
      "Epoch 76/150\n",
      "276/276 [==============================] - 4s 14ms/step - loss: 0.0037 - val_loss: 0.0035 - lr: 3.1250e-06\n",
      "Epoch 77/150\n",
      "276/276 [==============================] - 4s 14ms/step - loss: 0.0037 - val_loss: 0.0035 - lr: 1.5625e-06\n",
      "Epoch 78/150\n",
      "276/276 [==============================] - 4s 14ms/step - loss: 0.0038 - val_loss: 0.0035 - lr: 1.5625e-06\n",
      "Epoch 79/150\n",
      "276/276 [==============================] - 4s 14ms/step - loss: 0.0038 - val_loss: 0.0035 - lr: 1.5625e-06\n",
      "Epoch 80/150\n",
      "276/276 [==============================] - 4s 13ms/step - loss: 0.0037 - val_loss: 0.0035 - lr: 1.5625e-06\n",
      "Epoch 81/150\n",
      "276/276 [==============================] - 4s 13ms/step - loss: 0.0037 - val_loss: 0.0035 - lr: 1.5625e-06\n",
      "Epoch 82/150\n",
      "276/276 [==============================] - 4s 14ms/step - loss: 0.0037 - val_loss: 0.0035 - lr: 7.8125e-07\n",
      "Epoch 83/150\n",
      "276/276 [==============================] - 4s 13ms/step - loss: 0.0037 - val_loss: 0.0035 - lr: 7.8125e-07\n",
      "Epoch 84/150\n",
      "276/276 [==============================] - 4s 14ms/step - loss: 0.0037 - val_loss: 0.0035 - lr: 7.8125e-07\n",
      "Epoch 85/150\n",
      "276/276 [==============================] - 4s 13ms/step - loss: 0.0036 - val_loss: 0.0035 - lr: 7.8125e-07\n",
      "Epoch 86/150\n",
      "276/276 [==============================] - 4s 13ms/step - loss: 0.0037 - val_loss: 0.0035 - lr: 7.8125e-07\n",
      "Epoch 87/150\n",
      "276/276 [==============================] - 4s 14ms/step - loss: 0.0037 - val_loss: 0.0035 - lr: 3.9062e-07\n",
      "Epoch 88/150\n",
      "276/276 [==============================] - 4s 13ms/step - loss: 0.0037 - val_loss: 0.0035 - lr: 3.9062e-07\n",
      "Epoch 89/150\n",
      "276/276 [==============================] - 4s 13ms/step - loss: 0.0037 - val_loss: 0.0035 - lr: 3.9062e-07\n",
      "Epoch 90/150\n",
      "276/276 [==============================] - 4s 14ms/step - loss: 0.0038 - val_loss: 0.0035 - lr: 3.9062e-07\n"
     ]
    }
   ],
   "source": [
    "# Defining and compiling the model\n",
    "neural_network = final_model(n_hidden = 9,\n",
    "                            n_neurons = 125,\n",
    "                            activation_func = 'sigmoid',\n",
    "                            optimizer = tf.keras.optimizers.Adam(),\n",
    "                            loss_func = 'huber_loss',\n",
    "                            learning_rate = 0.0001)\n",
    "\n",
    "# Callbacks for better epoch tuning and implementing learning rate scheduling\n",
    "early_stop = tf.keras.callbacks.EarlyStopping(patience = 10, \n",
    "                                              restore_best_weights = True,\n",
    "                                              monitor = 'val_loss')\n",
    "\n",
    "# lr scheduling\n",
    "lr_scheduler = tf.keras.callbacks.ReduceLROnPlateau(factor = 0.5, patience = 5)\n",
    "\n",
    "\n",
    "\n",
    "# Fitting the model\n",
    "history = neural_network.fit(X_train_final, y_train_final, epochs = 150, batch_size = 50,\n",
    "                             validation_data = (X_valid, y_valid),\n",
    "                             callbacks = [\n",
    "                                          early_stop, \n",
    "                                          lr_scheduler\n",
    "                                          \n",
    "                                          ]\n",
    "                             )"
   ]
  },
  {
   "cell_type": "markdown",
   "metadata": {
    "id": "vBz533iYIc8C"
   },
   "source": [
    "## Training and validation loss curves"
   ]
  },
  {
   "cell_type": "code",
   "execution_count": 161,
   "metadata": {
    "colab": {
     "base_uri": "https://localhost:8080/",
     "height": 295
    },
    "id": "MH2ZIpRJRblE",
    "outputId": "590630d3-e59d-4770-cd6e-1102fe9abf4d"
   },
   "outputs": [
    {
     "data": {
      "image/png": "[encoded data removed]",
      "text/plain": [
       "<Figure size 432x288 with 1 Axes>"
      ]
     },
     "metadata": {
      "needs_background": "light"
     },
     "output_type": "display_data"
    }
   ],
   "source": [
    "# Plotting the training and testing losses\n",
    "plt.plot(history.history['val_loss'], linestyle='-', label='Validation')\n",
    "plt.plot(history.history['loss'], linestyle='-',label='Train' )\n",
    "plt.xlabel('epochs')\n",
    "plt.ylabel('Loss')\n",
    "plt.title('Training and validation loss')\n",
    "plt.legend()\n",
    "plt.show()"
   ]
  },
  {
   "cell_type": "markdown",
   "metadata": {
    "id": "3wSEtmdFnmm2"
   },
   "source": [
    "The final model was trained for about 90 epochs and was stopped by the early stopping callback as validation performance did not seem to improve much after this.\n",
    "\n",
    "The total training loss is 0.0038 and the validation loss is 0.0035.\n",
    "\n",
    "The above plot indicate the the training and validation loss decreased together throughout the training and there are no signs of any underfitting or overfitting. This would be otherwise indicated by diverging training and validation loss curves in case of overfitting or a high training and validation loss at the end the epochs."
   ]
  },
  {
   "cell_type": "markdown",
   "metadata": {
    "id": "EaiNmPG7Ig4e"
   },
   "source": [
    "## Model Evaluation"
   ]
  },
  {
   "cell_type": "markdown",
   "metadata": {
    "id": "8sJYQxS0pE_J"
   },
   "source": [
    "Now lets see how well our model performs on previosly unseen data."
   ]
  },
  {
   "cell_type": "code",
   "execution_count": 162,
   "metadata": {
    "colab": {
     "base_uri": "https://localhost:8080/"
    },
    "id": "XYbZu8LZSG9H",
    "outputId": "110b8e2f-9b81-4012-8754-cb18b83ee039"
   },
   "outputs": [
    {
     "name": "stdout",
     "output_type": "stream",
     "text": [
      "135/135 [==============================] - 1s 4ms/step - loss: 0.0036\n"
     ]
    },
    {
     "data": {
      "text/plain": [
       "0.003629079321399331"
      ]
     },
     "execution_count": 162,
     "metadata": {},
     "output_type": "execute_result"
    }
   ],
   "source": [
    "# Predictions using the trained model\n",
    "neural_network.evaluate(X_test, y_test)"
   ]
  },
  {
   "cell_type": "markdown",
   "metadata": {
    "id": "ip9rsycm_joW"
   },
   "source": [
    "The model seems to perform quite well as it has a very small loss value of 0.0036"
   ]
  },
  {
   "cell_type": "markdown",
   "metadata": {
    "id": "XMoQFpj-pV6Q"
   },
   "source": [
    "## But what does this mean in terms of the real world?"
   ]
  },
  {
   "cell_type": "markdown",
   "metadata": {
    "id": "OIKtlVknpdDh"
   },
   "source": [
    "If we recall our target varible which is the price was converted to the log 10 scale to deal with the problem of the luxury houses.\n",
    "\n",
    "So now we use our model to see how accurately our model would predict the value of a house and what would be the actual difference in the price predicted and the actual price of the house."
   ]
  },
  {
   "cell_type": "code",
   "execution_count": 170,
   "metadata": {
    "id": "NEtArZBNqG7W"
   },
   "outputs": [],
   "source": [
    "prediction = neural_network.predict(X_test)"
   ]
  },
  {
   "cell_type": "code",
   "execution_count": 171,
   "metadata": {
    "colab": {
     "base_uri": "https://localhost:8080/"
    },
    "id": "DGEBsGYqqMg7",
    "outputId": "0ec0e11b-93a2-4858-f73f-0b634dd7162b"
   },
   "outputs": [
    {
     "data": {
      "text/plain": [
       "(4302, 1)"
      ]
     },
     "execution_count": 171,
     "metadata": {},
     "output_type": "execute_result"
    }
   ],
   "source": [
    "prediction.shape"
   ]
  },
  {
   "cell_type": "markdown",
   "metadata": {
    "id": "POF1RxFrrDhl"
   },
   "source": [
    "These are still in the log 10 form converting them back to the normal form"
   ]
  },
  {
   "cell_type": "code",
   "execution_count": 172,
   "metadata": {
    "id": "z95kQJ4KqQ0l"
   },
   "outputs": [],
   "source": [
    "prediction = 10 ** prediction"
   ]
  },
  {
   "cell_type": "code",
   "execution_count": 173,
   "metadata": {
    "colab": {
     "base_uri": "https://localhost:8080/"
    },
    "id": "93PvqXfLq49s",
    "outputId": "a922998c-1756-4a0b-cf30-4d2f423a6615"
   },
   "outputs": [
    {
     "name": "stdout",
     "output_type": "stream",
     "text": [
      "Predicted prices:\n",
      "  [402586.62 223593.98 612110.   ... 512328.44 542312.5  521919.7 ]\n"
     ]
    }
   ],
   "source": [
    "prediction = np.squeeze(prediction)\n",
    "print('Predicted prices:\\n ', prediction)"
   ]
  },
  {
   "cell_type": "markdown",
   "metadata": {
    "id": "Um6HgemIrPpR"
   },
   "source": [
    "Similarly doing the same for the actual prices"
   ]
  },
  {
   "cell_type": "code",
   "execution_count": 174,
   "metadata": {
    "id": "tXMRpxDurUBs"
   },
   "outputs": [],
   "source": [
    "actual_prices = 10 ** y_test"
   ]
  },
  {
   "cell_type": "code",
   "execution_count": 175,
   "metadata": {
    "colab": {
     "base_uri": "https://localhost:8080/"
    },
    "id": "Yy4HawYirZs8",
    "outputId": "7e2288ee-b86d-44b4-a48a-cad65d9b2771"
   },
   "outputs": [
    {
     "name": "stdout",
     "output_type": "stream",
     "text": [
      "Actual prices:\n",
      "  [309999.94 229999.94 515000.03 ... 515000.03 535000.25 478000.22]\n"
     ]
    }
   ],
   "source": [
    "print('Actual prices:\\n ', actual_prices)"
   ]
  },
  {
   "cell_type": "markdown",
   "metadata": {
    "id": "zBWIxFJ4rh0g"
   },
   "source": [
    "Calculating the average difference in the predicted and actual prices"
   ]
  },
  {
   "cell_type": "code",
   "execution_count": 176,
   "metadata": {
    "colab": {
     "base_uri": "https://localhost:8080/"
    },
    "id": "5h7wwMX6qXWw",
    "outputId": "a8e4ea57-3d3e-4366-aecc-9f807e0acee3"
   },
   "outputs": [
    {
     "name": "stdout",
     "output_type": "stream",
     "text": [
      "The average difference between the prices predicted and the actual is:  78985.47652254766\n"
     ]
    }
   ],
   "source": [
    "average_difference = np.sum(np.abs(np.subtract(actual_prices, prediction))) / len(prediction)\n",
    "\n",
    "print('The average difference between the prices predicted and the actual is: ', average_difference)"
   ]
  },
  {
   "cell_type": "markdown",
   "metadata": {
    "id": "2CyN97eiq1sh"
   },
   "source": [
    "So our models predicted prices seem to charge clients $78985.47  more than they actually cost.\n",
    "This shows that ours models performance is not very good as it would overcharge future customers resulting in a loss of business.\n",
    "The best option in this case would be to get more data or to get more features while collecting the data which would have a higher influence on the price."
   ]
  },
  {
   "cell_type": "code",
   "execution_count": null,
   "metadata": {
    "id": "qPMHVoLL6ivM"
   },
   "outputs": [],
   "source": []
  }
 ],
 "metadata": {
  "accelerator": "GPU",
  "colab": {
   "collapsed_sections": [],
   "name": "AAI final version 3",
   "provenance": []
  },
  "kernelspec": {
   "display_name": "Python 3 (ipykernel)",
   "language": "python",
   "name": "python3"
  },
  "language_info": {
   "codemirror_mode": {
    "name": "ipython",
    "version": 3
   },
   "file_extension": ".py",
   "mimetype": "text/x-python",
   "name": "python",
   "nbconvert_exporter": "python",
   "pygments_lexer": "ipython3",
   "version": "3.9.12"
  }
 },
 "nbformat": 4,
 "nbformat_minor": 1
}
